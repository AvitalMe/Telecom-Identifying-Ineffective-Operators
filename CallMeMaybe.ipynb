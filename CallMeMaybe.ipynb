{
 "cells": [
  {
   "cell_type": "markdown",
   "metadata": {},
   "source": [
    "# Table of Contents\n",
    "1.[Introduction](#1)\n",
    "2. [Data preprocessing](#2)\n",
    "  * [Data overview](#3)\n",
    "  * [Study and  replace/remove missing values](#5)\n",
    "  * [Convert types](#4)\n",
    "  * [Remove duplicate values](#7)\n",
    "3. [Exploratory data analysis](#9)\n",
    "  * [Study and remove outliers](#10)\n",
    "  * [Find the Operators that have large number of missed incoming calls](#11)\n",
    "  * [Find the Operators that have long waiting time for incoming calls](#12)\n",
    "  * [Find the Operators that supposed to make outgoing calls and make small number of them](#13)\n",
    "  * [Identifying Ineffective Operators](#14)\n",
    "4. [Test statistical hypotheses](#15)\n",
    "  * [Testing first hypothesis](#16)\n",
    "  * [Testing second hypothesis](#17)\n",
    "  * [Testing third hypothesis](#18)\n",
    "  * [Testing final hypothesis](#19)\n",
    "5. [Conclusion and recomedations.](#20)\n",
    "6. [Dashboard](#21)\n",
    "7. [Sources](#22)\n",
    "8. [Presentation](#23)"
   ]
  },
  {
   "cell_type": "markdown",
   "metadata": {},
   "source": [
    "<a id=\"1\"></a> \n",
    "# Introduction"
   ]
  },
  {
   "cell_type": "markdown",
   "metadata": {},
   "source": [
    "In this project I will analyze the CallMeMaybe dataset, in order to identify ineffective operators. We believe that operators considered ineffective if:\n",
    "1. They have a large number of missed incoming calls (internal and external).\n",
    "2. They have long waiting time for incoming calls (internal and external). \n",
    "3. They make small number of outgoing calls (only for the operators that supposed to make outgoing calls).\n",
    "First, I will identify the ineffective operators, base on the Criterias above.\n",
    "Then I will conducte statistical tests to check if my identification is valid, and the differendes between the groups are significant.\n",
    "After that I will test my final hypothesis, that costumers of ineffective operators leave sooner than costumers of effective operators."
   ]
  },
  {
   "cell_type": "markdown",
   "metadata": {},
   "source": [
    "<a id=\"2\"></a> \n",
    "# Data preprocessing"
   ]
  },
  {
   "cell_type": "markdown",
   "metadata": {},
   "source": [
    "<a id=\"3\"></a> \n",
    "## Data overview"
   ]
  },
  {
   "cell_type": "code",
   "execution_count": 1,
   "metadata": {},
   "outputs": [],
   "source": [
    "import pandas as pd\n",
    "import datetime as dt\n",
    "import numpy as np\n",
    "import matplotlib.pyplot as plt\n",
    "import seaborn as sns\n",
    "import plotly.express as px \n",
    "import scipy.stats as stats\n",
    "from plotly import graph_objects as go\n",
    "import datetime\n",
    "from datetime import datetime\n",
    "import matplotlib.dates as mdates"
   ]
  },
  {
   "cell_type": "code",
   "execution_count": 2,
   "metadata": {},
   "outputs": [],
   "source": [
    "import math\n",
    "from scipy import stats as st\n",
    "import numpy as np\n",
    "import math as mth"
   ]
  },
  {
   "cell_type": "code",
   "execution_count": 3,
   "metadata": {},
   "outputs": [],
   "source": [
    "clients = pd.read_csv(\"/datasets/telecom_clients_us.csv\")\n",
    "dataset = pd.read_csv(\"/datasets/telecom_dataset_us.csv\") "
   ]
  },
  {
   "cell_type": "code",
   "execution_count": 4,
   "metadata": {},
   "outputs": [
    {
     "data": {
      "text/html": [
       "<div>\n",
       "<style scoped>\n",
       "    .dataframe tbody tr th:only-of-type {\n",
       "        vertical-align: middle;\n",
       "    }\n",
       "\n",
       "    .dataframe tbody tr th {\n",
       "        vertical-align: top;\n",
       "    }\n",
       "\n",
       "    .dataframe thead th {\n",
       "        text-align: right;\n",
       "    }\n",
       "</style>\n",
       "<table border=\"1\" class=\"dataframe\">\n",
       "  <thead>\n",
       "    <tr style=\"text-align: right;\">\n",
       "      <th></th>\n",
       "      <th>user_id</th>\n",
       "      <th>tariff_plan</th>\n",
       "      <th>date_start</th>\n",
       "    </tr>\n",
       "  </thead>\n",
       "  <tbody>\n",
       "    <tr>\n",
       "      <td>0</td>\n",
       "      <td>166713</td>\n",
       "      <td>A</td>\n",
       "      <td>2019-08-15</td>\n",
       "    </tr>\n",
       "    <tr>\n",
       "      <td>1</td>\n",
       "      <td>166901</td>\n",
       "      <td>A</td>\n",
       "      <td>2019-08-23</td>\n",
       "    </tr>\n",
       "    <tr>\n",
       "      <td>2</td>\n",
       "      <td>168527</td>\n",
       "      <td>A</td>\n",
       "      <td>2019-10-29</td>\n",
       "    </tr>\n",
       "    <tr>\n",
       "      <td>3</td>\n",
       "      <td>167097</td>\n",
       "      <td>A</td>\n",
       "      <td>2019-09-01</td>\n",
       "    </tr>\n",
       "    <tr>\n",
       "      <td>4</td>\n",
       "      <td>168193</td>\n",
       "      <td>A</td>\n",
       "      <td>2019-10-16</td>\n",
       "    </tr>\n",
       "  </tbody>\n",
       "</table>\n",
       "</div>"
      ],
      "text/plain": [
       "   user_id tariff_plan  date_start\n",
       "0   166713           A  2019-08-15\n",
       "1   166901           A  2019-08-23\n",
       "2   168527           A  2019-10-29\n",
       "3   167097           A  2019-09-01\n",
       "4   168193           A  2019-10-16"
      ]
     },
     "execution_count": 4,
     "metadata": {},
     "output_type": "execute_result"
    }
   ],
   "source": [
    "clients.head()"
   ]
  },
  {
   "cell_type": "code",
   "execution_count": 5,
   "metadata": {},
   "outputs": [
    {
     "data": {
      "text/html": [
       "<div>\n",
       "<style scoped>\n",
       "    .dataframe tbody tr th:only-of-type {\n",
       "        vertical-align: middle;\n",
       "    }\n",
       "\n",
       "    .dataframe tbody tr th {\n",
       "        vertical-align: top;\n",
       "    }\n",
       "\n",
       "    .dataframe thead th {\n",
       "        text-align: right;\n",
       "    }\n",
       "</style>\n",
       "<table border=\"1\" class=\"dataframe\">\n",
       "  <thead>\n",
       "    <tr style=\"text-align: right;\">\n",
       "      <th></th>\n",
       "      <th>user_id</th>\n",
       "      <th>date</th>\n",
       "      <th>direction</th>\n",
       "      <th>internal</th>\n",
       "      <th>operator_id</th>\n",
       "      <th>is_missed_call</th>\n",
       "      <th>calls_count</th>\n",
       "      <th>call_duration</th>\n",
       "      <th>total_call_duration</th>\n",
       "    </tr>\n",
       "  </thead>\n",
       "  <tbody>\n",
       "    <tr>\n",
       "      <td>0</td>\n",
       "      <td>166377</td>\n",
       "      <td>2019-08-04 00:00:00+03:00</td>\n",
       "      <td>in</td>\n",
       "      <td>False</td>\n",
       "      <td>NaN</td>\n",
       "      <td>True</td>\n",
       "      <td>2</td>\n",
       "      <td>0</td>\n",
       "      <td>4</td>\n",
       "    </tr>\n",
       "    <tr>\n",
       "      <td>1</td>\n",
       "      <td>166377</td>\n",
       "      <td>2019-08-05 00:00:00+03:00</td>\n",
       "      <td>out</td>\n",
       "      <td>True</td>\n",
       "      <td>880022.0</td>\n",
       "      <td>True</td>\n",
       "      <td>3</td>\n",
       "      <td>0</td>\n",
       "      <td>5</td>\n",
       "    </tr>\n",
       "    <tr>\n",
       "      <td>2</td>\n",
       "      <td>166377</td>\n",
       "      <td>2019-08-05 00:00:00+03:00</td>\n",
       "      <td>out</td>\n",
       "      <td>True</td>\n",
       "      <td>880020.0</td>\n",
       "      <td>True</td>\n",
       "      <td>1</td>\n",
       "      <td>0</td>\n",
       "      <td>1</td>\n",
       "    </tr>\n",
       "    <tr>\n",
       "      <td>3</td>\n",
       "      <td>166377</td>\n",
       "      <td>2019-08-05 00:00:00+03:00</td>\n",
       "      <td>out</td>\n",
       "      <td>True</td>\n",
       "      <td>880020.0</td>\n",
       "      <td>False</td>\n",
       "      <td>1</td>\n",
       "      <td>10</td>\n",
       "      <td>18</td>\n",
       "    </tr>\n",
       "    <tr>\n",
       "      <td>4</td>\n",
       "      <td>166377</td>\n",
       "      <td>2019-08-05 00:00:00+03:00</td>\n",
       "      <td>out</td>\n",
       "      <td>False</td>\n",
       "      <td>880022.0</td>\n",
       "      <td>True</td>\n",
       "      <td>3</td>\n",
       "      <td>0</td>\n",
       "      <td>25</td>\n",
       "    </tr>\n",
       "  </tbody>\n",
       "</table>\n",
       "</div>"
      ],
      "text/plain": [
       "   user_id                       date direction internal  operator_id  \\\n",
       "0   166377  2019-08-04 00:00:00+03:00        in    False          NaN   \n",
       "1   166377  2019-08-05 00:00:00+03:00       out     True     880022.0   \n",
       "2   166377  2019-08-05 00:00:00+03:00       out     True     880020.0   \n",
       "3   166377  2019-08-05 00:00:00+03:00       out     True     880020.0   \n",
       "4   166377  2019-08-05 00:00:00+03:00       out    False     880022.0   \n",
       "\n",
       "   is_missed_call  calls_count  call_duration  total_call_duration  \n",
       "0            True            2              0                    4  \n",
       "1            True            3              0                    5  \n",
       "2            True            1              0                    1  \n",
       "3           False            1             10                   18  \n",
       "4            True            3              0                   25  "
      ]
     },
     "execution_count": 5,
     "metadata": {},
     "output_type": "execute_result"
    }
   ],
   "source": [
    "dataset.head()"
   ]
  },
  {
   "cell_type": "code",
   "execution_count": 6,
   "metadata": {},
   "outputs": [
    {
     "name": "stdout",
     "output_type": "stream",
     "text": [
      "<class 'pandas.core.frame.DataFrame'>\n",
      "RangeIndex: 732 entries, 0 to 731\n",
      "Data columns (total 3 columns):\n",
      "user_id        732 non-null int64\n",
      "tariff_plan    732 non-null object\n",
      "date_start     732 non-null object\n",
      "dtypes: int64(1), object(2)\n",
      "memory usage: 17.3+ KB\n"
     ]
    }
   ],
   "source": [
    "clients.info()"
   ]
  },
  {
   "cell_type": "code",
   "execution_count": 7,
   "metadata": {},
   "outputs": [
    {
     "name": "stdout",
     "output_type": "stream",
     "text": [
      "<class 'pandas.core.frame.DataFrame'>\n",
      "RangeIndex: 53902 entries, 0 to 53901\n",
      "Data columns (total 9 columns):\n",
      "user_id                53902 non-null int64\n",
      "date                   53902 non-null object\n",
      "direction              53902 non-null object\n",
      "internal               53785 non-null object\n",
      "operator_id            45730 non-null float64\n",
      "is_missed_call         53902 non-null bool\n",
      "calls_count            53902 non-null int64\n",
      "call_duration          53902 non-null int64\n",
      "total_call_duration    53902 non-null int64\n",
      "dtypes: bool(1), float64(1), int64(4), object(3)\n",
      "memory usage: 3.3+ MB\n"
     ]
    }
   ],
   "source": [
    "dataset.info()"
   ]
  },
  {
   "cell_type": "markdown",
   "metadata": {},
   "source": [
    "### conclusion:\n",
    "The clients table - I don't see any missing data, I just need to convert the \"date_start\" colume to datatime type.\n",
    "The dataset table - I see there is missing data in the \"internal\" and \"operator_id\" columns, I'll have to check it carfully. Again, I  need to convert the \"date\" colume to datatime type. I also not sure why the \"operator_id\" column is in \"float\" type, seems like it should be \"int\" type."
   ]
  },
  {
   "cell_type": "markdown",
   "metadata": {},
   "source": [
    "<a id=\"5\"></a> \n",
    "## Study and replace/remove missing values"
   ]
  },
  {
   "cell_type": "code",
   "execution_count": 8,
   "metadata": {},
   "outputs": [
    {
     "data": {
      "text/plain": [
       "user_id                   0\n",
       "date                      0\n",
       "direction                 0\n",
       "internal                117\n",
       "operator_id            8172\n",
       "is_missed_call            0\n",
       "calls_count               0\n",
       "call_duration             0\n",
       "total_call_duration       0\n",
       "dtype: int64"
      ]
     },
     "execution_count": 8,
     "metadata": {},
     "output_type": "execute_result"
    }
   ],
   "source": [
    "dataset.isna().sum()"
   ]
  },
  {
   "cell_type": "code",
   "execution_count": 9,
   "metadata": {},
   "outputs": [
    {
     "data": {
      "text/plain": [
       "user_id                 0.000000\n",
       "date                    0.000000\n",
       "direction               0.000000\n",
       "internal                0.217061\n",
       "operator_id            15.160847\n",
       "is_missed_call          0.000000\n",
       "calls_count             0.000000\n",
       "call_duration           0.000000\n",
       "total_call_duration     0.000000\n",
       "dtype: float64"
      ]
     },
     "execution_count": 9,
     "metadata": {},
     "output_type": "execute_result"
    }
   ],
   "source": [
    "dataset.isna().sum()/len(dataset)*100"
   ]
  },
  {
   "cell_type": "markdown",
   "metadata": {},
   "source": [
    "The missing data in \"internal\" column is only 0.2% of the data, i'll drop it:"
   ]
  },
  {
   "cell_type": "code",
   "execution_count": 10,
   "metadata": {},
   "outputs": [
    {
     "name": "stdout",
     "output_type": "stream",
     "text": [
      "<class 'pandas.core.frame.DataFrame'>\n",
      "Int64Index: 53785 entries, 0 to 53901\n",
      "Data columns (total 9 columns):\n",
      "user_id                53785 non-null int64\n",
      "date                   53785 non-null object\n",
      "direction              53785 non-null object\n",
      "internal               53785 non-null object\n",
      "operator_id            45670 non-null float64\n",
      "is_missed_call         53785 non-null bool\n",
      "calls_count            53785 non-null int64\n",
      "call_duration          53785 non-null int64\n",
      "total_call_duration    53785 non-null int64\n",
      "dtypes: bool(1), float64(1), int64(4), object(3)\n",
      "memory usage: 3.7+ MB\n"
     ]
    },
    {
     "data": {
      "text/plain": [
       "None"
      ]
     },
     "metadata": {},
     "output_type": "display_data"
    }
   ],
   "source": [
    "dataset = dataset.dropna(subset=['internal'])\n",
    "display(dataset.info())"
   ]
  },
  {
   "cell_type": "markdown",
   "metadata": {},
   "source": [
    "Now let's see what we can do with the missing data in 'operator_id' column. \n",
    "First i'll check if there are customers with only one operator per date. If there are such customers, and they have missing data in the operator_id in spesific date, i'll fill it with the id of their exclusive operator at this date:"
   ]
  },
  {
   "cell_type": "code",
   "execution_count": 11,
   "metadata": {},
   "outputs": [
    {
     "data": {
      "text/html": [
       "<div>\n",
       "<style scoped>\n",
       "    .dataframe tbody tr th:only-of-type {\n",
       "        vertical-align: middle;\n",
       "    }\n",
       "\n",
       "    .dataframe tbody tr th {\n",
       "        vertical-align: top;\n",
       "    }\n",
       "\n",
       "    .dataframe thead th {\n",
       "        text-align: right;\n",
       "    }\n",
       "</style>\n",
       "<table border=\"1\" class=\"dataframe\">\n",
       "  <thead>\n",
       "    <tr style=\"text-align: right;\">\n",
       "      <th></th>\n",
       "      <th>user_id</th>\n",
       "      <th>date</th>\n",
       "      <th>operator_count</th>\n",
       "    </tr>\n",
       "  </thead>\n",
       "  <tbody>\n",
       "    <tr>\n",
       "      <td>0</td>\n",
       "      <td>166377</td>\n",
       "      <td>2019-08-04 00:00:00+03:00</td>\n",
       "      <td>0</td>\n",
       "    </tr>\n",
       "    <tr>\n",
       "      <td>1</td>\n",
       "      <td>166377</td>\n",
       "      <td>2019-08-05 00:00:00+03:00</td>\n",
       "      <td>2</td>\n",
       "    </tr>\n",
       "    <tr>\n",
       "      <td>2</td>\n",
       "      <td>166377</td>\n",
       "      <td>2019-08-06 00:00:00+03:00</td>\n",
       "      <td>2</td>\n",
       "    </tr>\n",
       "    <tr>\n",
       "      <td>3</td>\n",
       "      <td>166377</td>\n",
       "      <td>2019-08-07 00:00:00+03:00</td>\n",
       "      <td>3</td>\n",
       "    </tr>\n",
       "    <tr>\n",
       "      <td>4</td>\n",
       "      <td>166377</td>\n",
       "      <td>2019-08-08 00:00:00+03:00</td>\n",
       "      <td>1</td>\n",
       "    </tr>\n",
       "  </tbody>\n",
       "</table>\n",
       "</div>"
      ],
      "text/plain": [
       "   user_id                       date  operator_count\n",
       "0   166377  2019-08-04 00:00:00+03:00               0\n",
       "1   166377  2019-08-05 00:00:00+03:00               2\n",
       "2   166377  2019-08-06 00:00:00+03:00               2\n",
       "3   166377  2019-08-07 00:00:00+03:00               3\n",
       "4   166377  2019-08-08 00:00:00+03:00               1"
      ]
     },
     "metadata": {},
     "output_type": "display_data"
    }
   ],
   "source": [
    "operator_per_user_per_date = dataset.groupby(['user_id','date'])['operator_id'].nunique().reset_index()\n",
    "operator_per_user_per_date = operator_per_user_per_date.rename(columns={'operator_id': 'operator_count'})\n",
    "display(operator_per_user_per_date.head())"
   ]
  },
  {
   "cell_type": "code",
   "execution_count": 12,
   "metadata": {},
   "outputs": [
    {
     "data": {
      "text/html": [
       "<div>\n",
       "<style scoped>\n",
       "    .dataframe tbody tr th:only-of-type {\n",
       "        vertical-align: middle;\n",
       "    }\n",
       "\n",
       "    .dataframe tbody tr th {\n",
       "        vertical-align: top;\n",
       "    }\n",
       "\n",
       "    .dataframe thead th {\n",
       "        text-align: right;\n",
       "    }\n",
       "</style>\n",
       "<table border=\"1\" class=\"dataframe\">\n",
       "  <thead>\n",
       "    <tr style=\"text-align: right;\">\n",
       "      <th></th>\n",
       "      <th>user_id</th>\n",
       "      <th>date</th>\n",
       "    </tr>\n",
       "  </thead>\n",
       "  <tbody>\n",
       "    <tr>\n",
       "      <td>4</td>\n",
       "      <td>166377</td>\n",
       "      <td>2019-08-08 00:00:00+03:00</td>\n",
       "    </tr>\n",
       "    <tr>\n",
       "      <td>6</td>\n",
       "      <td>166377</td>\n",
       "      <td>2019-08-12 00:00:00+03:00</td>\n",
       "    </tr>\n",
       "    <tr>\n",
       "      <td>87</td>\n",
       "      <td>166391</td>\n",
       "      <td>2019-08-06 00:00:00+03:00</td>\n",
       "    </tr>\n",
       "    <tr>\n",
       "      <td>88</td>\n",
       "      <td>166391</td>\n",
       "      <td>2019-08-07 00:00:00+03:00</td>\n",
       "    </tr>\n",
       "    <tr>\n",
       "      <td>96</td>\n",
       "      <td>166391</td>\n",
       "      <td>2019-09-23 00:00:00+03:00</td>\n",
       "    </tr>\n",
       "  </tbody>\n",
       "</table>\n",
       "</div>"
      ],
      "text/plain": [
       "    user_id                       date\n",
       "4    166377  2019-08-08 00:00:00+03:00\n",
       "6    166377  2019-08-12 00:00:00+03:00\n",
       "87   166391  2019-08-06 00:00:00+03:00\n",
       "88   166391  2019-08-07 00:00:00+03:00\n",
       "96   166391  2019-09-23 00:00:00+03:00"
      ]
     },
     "metadata": {},
     "output_type": "display_data"
    }
   ],
   "source": [
    "users_with_1_operator_per_date = operator_per_user_per_date[operator_per_user_per_date['operator_count']==1]\n",
    "users_with_1_operator_per_date = users_with_1_operator_per_date.drop('operator_count',axis=1)\n",
    "display(users_with_1_operator_per_date.head())"
   ]
  },
  {
   "cell_type": "code",
   "execution_count": 13,
   "metadata": {},
   "outputs": [
    {
     "name": "stdout",
     "output_type": "stream",
     "text": [
      "Number of users with only 1 operator per date: 4776\n"
     ]
    }
   ],
   "source": [
    "print(\"Number of users with only 1 operator per date:\", len(users_with_1_operator_per_date))"
   ]
  },
  {
   "cell_type": "code",
   "execution_count": 14,
   "metadata": {},
   "outputs": [
    {
     "name": "stdout",
     "output_type": "stream",
     "text": [
      "<class 'pandas.core.frame.DataFrame'>\n",
      "Int64Index: 45670 entries, 1 to 53900\n",
      "Data columns (total 9 columns):\n",
      "user_id                45670 non-null int64\n",
      "date                   45670 non-null object\n",
      "direction              45670 non-null object\n",
      "internal               45670 non-null object\n",
      "operator_id            45670 non-null float64\n",
      "is_missed_call         45670 non-null bool\n",
      "calls_count            45670 non-null int64\n",
      "call_duration          45670 non-null int64\n",
      "total_call_duration    45670 non-null int64\n",
      "dtypes: bool(1), float64(1), int64(4), object(3)\n",
      "memory usage: 3.2+ MB\n",
      "None\n"
     ]
    }
   ],
   "source": [
    "nanless_dataset = dataset.dropna()\n",
    "print(nanless_dataset.info())"
   ]
  },
  {
   "cell_type": "code",
   "execution_count": 15,
   "metadata": {},
   "outputs": [
    {
     "data": {
      "text/html": [
       "<div>\n",
       "<style scoped>\n",
       "    .dataframe tbody tr th:only-of-type {\n",
       "        vertical-align: middle;\n",
       "    }\n",
       "\n",
       "    .dataframe tbody tr th {\n",
       "        vertical-align: top;\n",
       "    }\n",
       "\n",
       "    .dataframe thead th {\n",
       "        text-align: right;\n",
       "    }\n",
       "</style>\n",
       "<table border=\"1\" class=\"dataframe\">\n",
       "  <thead>\n",
       "    <tr style=\"text-align: right;\">\n",
       "      <th></th>\n",
       "      <th>date</th>\n",
       "      <th>user_id</th>\n",
       "      <th>operator_id</th>\n",
       "    </tr>\n",
       "  </thead>\n",
       "  <tbody>\n",
       "    <tr>\n",
       "      <td>1</td>\n",
       "      <td>2019-08-05 00:00:00+03:00</td>\n",
       "      <td>166377</td>\n",
       "      <td>880022.0</td>\n",
       "    </tr>\n",
       "    <tr>\n",
       "      <td>2</td>\n",
       "      <td>2019-08-05 00:00:00+03:00</td>\n",
       "      <td>166377</td>\n",
       "      <td>880020.0</td>\n",
       "    </tr>\n",
       "    <tr>\n",
       "      <td>10</td>\n",
       "      <td>2019-08-06 00:00:00+03:00</td>\n",
       "      <td>166377</td>\n",
       "      <td>881278.0</td>\n",
       "    </tr>\n",
       "    <tr>\n",
       "      <td>11</td>\n",
       "      <td>2019-08-06 00:00:00+03:00</td>\n",
       "      <td>166377</td>\n",
       "      <td>880020.0</td>\n",
       "    </tr>\n",
       "    <tr>\n",
       "      <td>14</td>\n",
       "      <td>2019-08-07 00:00:00+03:00</td>\n",
       "      <td>166377</td>\n",
       "      <td>880028.0</td>\n",
       "    </tr>\n",
       "  </tbody>\n",
       "</table>\n",
       "</div>"
      ],
      "text/plain": [
       "                         date  user_id  operator_id\n",
       "1   2019-08-05 00:00:00+03:00   166377     880022.0\n",
       "2   2019-08-05 00:00:00+03:00   166377     880020.0\n",
       "10  2019-08-06 00:00:00+03:00   166377     881278.0\n",
       "11  2019-08-06 00:00:00+03:00   166377     880020.0\n",
       "14  2019-08-07 00:00:00+03:00   166377     880028.0"
      ]
     },
     "metadata": {},
     "output_type": "display_data"
    }
   ],
   "source": [
    "users_operator_nanless = nanless_dataset[['date','user_id', 'operator_id']]\n",
    "users_operator_nanless = users_operator_nanless.drop_duplicates()\n",
    "display(users_operator_nanless.head())"
   ]
  },
  {
   "cell_type": "code",
   "execution_count": 16,
   "metadata": {},
   "outputs": [
    {
     "data": {
      "text/html": [
       "<div>\n",
       "<style scoped>\n",
       "    .dataframe tbody tr th:only-of-type {\n",
       "        vertical-align: middle;\n",
       "    }\n",
       "\n",
       "    .dataframe tbody tr th {\n",
       "        vertical-align: top;\n",
       "    }\n",
       "\n",
       "    .dataframe thead th {\n",
       "        text-align: right;\n",
       "    }\n",
       "</style>\n",
       "<table border=\"1\" class=\"dataframe\">\n",
       "  <thead>\n",
       "    <tr style=\"text-align: right;\">\n",
       "      <th></th>\n",
       "      <th>user_id</th>\n",
       "      <th>date</th>\n",
       "      <th>operator_id</th>\n",
       "    </tr>\n",
       "  </thead>\n",
       "  <tbody>\n",
       "    <tr>\n",
       "      <td>0</td>\n",
       "      <td>166377</td>\n",
       "      <td>2019-08-08 00:00:00+03:00</td>\n",
       "      <td>880022.0</td>\n",
       "    </tr>\n",
       "    <tr>\n",
       "      <td>1</td>\n",
       "      <td>166377</td>\n",
       "      <td>2019-08-12 00:00:00+03:00</td>\n",
       "      <td>880028.0</td>\n",
       "    </tr>\n",
       "    <tr>\n",
       "      <td>2</td>\n",
       "      <td>166391</td>\n",
       "      <td>2019-08-06 00:00:00+03:00</td>\n",
       "      <td>882476.0</td>\n",
       "    </tr>\n",
       "    <tr>\n",
       "      <td>3</td>\n",
       "      <td>166391</td>\n",
       "      <td>2019-08-07 00:00:00+03:00</td>\n",
       "      <td>882478.0</td>\n",
       "    </tr>\n",
       "    <tr>\n",
       "      <td>4</td>\n",
       "      <td>166391</td>\n",
       "      <td>2019-09-23 00:00:00+03:00</td>\n",
       "      <td>882476.0</td>\n",
       "    </tr>\n",
       "  </tbody>\n",
       "</table>\n",
       "</div>"
      ],
      "text/plain": [
       "   user_id                       date  operator_id\n",
       "0   166377  2019-08-08 00:00:00+03:00     880022.0\n",
       "1   166377  2019-08-12 00:00:00+03:00     880028.0\n",
       "2   166391  2019-08-06 00:00:00+03:00     882476.0\n",
       "3   166391  2019-08-07 00:00:00+03:00     882478.0\n",
       "4   166391  2019-09-23 00:00:00+03:00     882476.0"
      ]
     },
     "metadata": {},
     "output_type": "display_data"
    }
   ],
   "source": [
    "users_with_1_operator_per_date = users_with_1_operator_per_date.merge(users_operator_nanless, on=['user_id','date'], how='left')\n",
    "display(users_with_1_operator_per_date.head())"
   ]
  },
  {
   "cell_type": "code",
   "execution_count": 17,
   "metadata": {},
   "outputs": [
    {
     "data": {
      "text/html": [
       "<div>\n",
       "<style scoped>\n",
       "    .dataframe tbody tr th:only-of-type {\n",
       "        vertical-align: middle;\n",
       "    }\n",
       "\n",
       "    .dataframe tbody tr th {\n",
       "        vertical-align: top;\n",
       "    }\n",
       "\n",
       "    .dataframe thead th {\n",
       "        text-align: right;\n",
       "    }\n",
       "</style>\n",
       "<table border=\"1\" class=\"dataframe\">\n",
       "  <thead>\n",
       "    <tr style=\"text-align: right;\">\n",
       "      <th></th>\n",
       "      <th>user_id</th>\n",
       "      <th>date</th>\n",
       "      <th>direction</th>\n",
       "      <th>internal</th>\n",
       "      <th>operator_id_x</th>\n",
       "      <th>is_missed_call</th>\n",
       "      <th>calls_count</th>\n",
       "      <th>call_duration</th>\n",
       "      <th>total_call_duration</th>\n",
       "      <th>operator_id_y</th>\n",
       "    </tr>\n",
       "  </thead>\n",
       "  <tbody>\n",
       "    <tr>\n",
       "      <td>0</td>\n",
       "      <td>166377</td>\n",
       "      <td>2019-08-04 00:00:00+03:00</td>\n",
       "      <td>in</td>\n",
       "      <td>False</td>\n",
       "      <td>NaN</td>\n",
       "      <td>True</td>\n",
       "      <td>2</td>\n",
       "      <td>0</td>\n",
       "      <td>4</td>\n",
       "      <td>NaN</td>\n",
       "    </tr>\n",
       "    <tr>\n",
       "      <td>1</td>\n",
       "      <td>166377</td>\n",
       "      <td>2019-08-05 00:00:00+03:00</td>\n",
       "      <td>out</td>\n",
       "      <td>True</td>\n",
       "      <td>880022.0</td>\n",
       "      <td>True</td>\n",
       "      <td>3</td>\n",
       "      <td>0</td>\n",
       "      <td>5</td>\n",
       "      <td>NaN</td>\n",
       "    </tr>\n",
       "    <tr>\n",
       "      <td>2</td>\n",
       "      <td>166377</td>\n",
       "      <td>2019-08-05 00:00:00+03:00</td>\n",
       "      <td>out</td>\n",
       "      <td>True</td>\n",
       "      <td>880020.0</td>\n",
       "      <td>True</td>\n",
       "      <td>1</td>\n",
       "      <td>0</td>\n",
       "      <td>1</td>\n",
       "      <td>NaN</td>\n",
       "    </tr>\n",
       "    <tr>\n",
       "      <td>3</td>\n",
       "      <td>166377</td>\n",
       "      <td>2019-08-05 00:00:00+03:00</td>\n",
       "      <td>out</td>\n",
       "      <td>True</td>\n",
       "      <td>880020.0</td>\n",
       "      <td>False</td>\n",
       "      <td>1</td>\n",
       "      <td>10</td>\n",
       "      <td>18</td>\n",
       "      <td>NaN</td>\n",
       "    </tr>\n",
       "    <tr>\n",
       "      <td>4</td>\n",
       "      <td>166377</td>\n",
       "      <td>2019-08-05 00:00:00+03:00</td>\n",
       "      <td>out</td>\n",
       "      <td>False</td>\n",
       "      <td>880022.0</td>\n",
       "      <td>True</td>\n",
       "      <td>3</td>\n",
       "      <td>0</td>\n",
       "      <td>25</td>\n",
       "      <td>NaN</td>\n",
       "    </tr>\n",
       "  </tbody>\n",
       "</table>\n",
       "</div>"
      ],
      "text/plain": [
       "   user_id                       date direction internal  operator_id_x  \\\n",
       "0   166377  2019-08-04 00:00:00+03:00        in    False            NaN   \n",
       "1   166377  2019-08-05 00:00:00+03:00       out     True       880022.0   \n",
       "2   166377  2019-08-05 00:00:00+03:00       out     True       880020.0   \n",
       "3   166377  2019-08-05 00:00:00+03:00       out     True       880020.0   \n",
       "4   166377  2019-08-05 00:00:00+03:00       out    False       880022.0   \n",
       "\n",
       "   is_missed_call  calls_count  call_duration  total_call_duration  \\\n",
       "0            True            2              0                    4   \n",
       "1            True            3              0                    5   \n",
       "2            True            1              0                    1   \n",
       "3           False            1             10                   18   \n",
       "4            True            3              0                   25   \n",
       "\n",
       "   operator_id_y  \n",
       "0            NaN  \n",
       "1            NaN  \n",
       "2            NaN  \n",
       "3            NaN  \n",
       "4            NaN  "
      ]
     },
     "metadata": {},
     "output_type": "display_data"
    }
   ],
   "source": [
    "dataset = dataset.merge(users_with_1_operator_per_date, on=['user_id','date'], how='left')\n",
    "display(dataset.head())"
   ]
  },
  {
   "cell_type": "code",
   "execution_count": 18,
   "metadata": {},
   "outputs": [
    {
     "data": {
      "text/html": [
       "<div>\n",
       "<style scoped>\n",
       "    .dataframe tbody tr th:only-of-type {\n",
       "        vertical-align: middle;\n",
       "    }\n",
       "\n",
       "    .dataframe tbody tr th {\n",
       "        vertical-align: top;\n",
       "    }\n",
       "\n",
       "    .dataframe thead th {\n",
       "        text-align: right;\n",
       "    }\n",
       "</style>\n",
       "<table border=\"1\" class=\"dataframe\">\n",
       "  <thead>\n",
       "    <tr style=\"text-align: right;\">\n",
       "      <th></th>\n",
       "      <th>user_id</th>\n",
       "      <th>date</th>\n",
       "      <th>direction</th>\n",
       "      <th>internal</th>\n",
       "      <th>operator_id</th>\n",
       "      <th>is_missed_call</th>\n",
       "      <th>calls_count</th>\n",
       "      <th>call_duration</th>\n",
       "      <th>total_call_duration</th>\n",
       "    </tr>\n",
       "  </thead>\n",
       "  <tbody>\n",
       "    <tr>\n",
       "      <td>0</td>\n",
       "      <td>166377</td>\n",
       "      <td>2019-08-04 00:00:00+03:00</td>\n",
       "      <td>in</td>\n",
       "      <td>False</td>\n",
       "      <td>NaN</td>\n",
       "      <td>True</td>\n",
       "      <td>2</td>\n",
       "      <td>0</td>\n",
       "      <td>4</td>\n",
       "    </tr>\n",
       "    <tr>\n",
       "      <td>1</td>\n",
       "      <td>166377</td>\n",
       "      <td>2019-08-05 00:00:00+03:00</td>\n",
       "      <td>out</td>\n",
       "      <td>True</td>\n",
       "      <td>880022.0</td>\n",
       "      <td>True</td>\n",
       "      <td>3</td>\n",
       "      <td>0</td>\n",
       "      <td>5</td>\n",
       "    </tr>\n",
       "    <tr>\n",
       "      <td>2</td>\n",
       "      <td>166377</td>\n",
       "      <td>2019-08-05 00:00:00+03:00</td>\n",
       "      <td>out</td>\n",
       "      <td>True</td>\n",
       "      <td>880020.0</td>\n",
       "      <td>True</td>\n",
       "      <td>1</td>\n",
       "      <td>0</td>\n",
       "      <td>1</td>\n",
       "    </tr>\n",
       "    <tr>\n",
       "      <td>3</td>\n",
       "      <td>166377</td>\n",
       "      <td>2019-08-05 00:00:00+03:00</td>\n",
       "      <td>out</td>\n",
       "      <td>True</td>\n",
       "      <td>880020.0</td>\n",
       "      <td>False</td>\n",
       "      <td>1</td>\n",
       "      <td>10</td>\n",
       "      <td>18</td>\n",
       "    </tr>\n",
       "    <tr>\n",
       "      <td>4</td>\n",
       "      <td>166377</td>\n",
       "      <td>2019-08-05 00:00:00+03:00</td>\n",
       "      <td>out</td>\n",
       "      <td>False</td>\n",
       "      <td>880022.0</td>\n",
       "      <td>True</td>\n",
       "      <td>3</td>\n",
       "      <td>0</td>\n",
       "      <td>25</td>\n",
       "    </tr>\n",
       "  </tbody>\n",
       "</table>\n",
       "</div>"
      ],
      "text/plain": [
       "   user_id                       date direction internal  operator_id  \\\n",
       "0   166377  2019-08-04 00:00:00+03:00        in    False          NaN   \n",
       "1   166377  2019-08-05 00:00:00+03:00       out     True     880022.0   \n",
       "2   166377  2019-08-05 00:00:00+03:00       out     True     880020.0   \n",
       "3   166377  2019-08-05 00:00:00+03:00       out     True     880020.0   \n",
       "4   166377  2019-08-05 00:00:00+03:00       out    False     880022.0   \n",
       "\n",
       "   is_missed_call  calls_count  call_duration  total_call_duration  \n",
       "0            True            2              0                    4  \n",
       "1            True            3              0                    5  \n",
       "2            True            1              0                    1  \n",
       "3           False            1             10                   18  \n",
       "4            True            3              0                   25  "
      ]
     },
     "metadata": {},
     "output_type": "display_data"
    }
   ],
   "source": [
    "dataset['operator_id_x'] = dataset['operator_id_x'].fillna(dataset['operator_id_y'])\n",
    "dataset = dataset.drop('operator_id_y',axis=1)\n",
    "dataset = dataset.rename(columns={'operator_id_x': 'operator_id'})\n",
    "display(dataset.head())"
   ]
  },
  {
   "cell_type": "code",
   "execution_count": 19,
   "metadata": {},
   "outputs": [
    {
     "data": {
      "text/plain": [
       "5558"
      ]
     },
     "execution_count": 19,
     "metadata": {},
     "output_type": "execute_result"
    }
   ],
   "source": [
    "dataset['operator_id'].isna().sum()"
   ]
  },
  {
   "cell_type": "code",
   "execution_count": 20,
   "metadata": {},
   "outputs": [
    {
     "data": {
      "text/plain": [
       "10.33373617179511"
      ]
     },
     "execution_count": 20,
     "metadata": {},
     "output_type": "execute_result"
    }
   ],
   "source": [
    "dataset['operator_id'].isna().sum()/len(dataset)*100"
   ]
  },
  {
   "cell_type": "markdown",
   "metadata": {},
   "source": [
    "We still have 5,558 missing data (10% of the data).  I can't think of a way to predict the missing operator_id, so I decided to drop the missing values."
   ]
  },
  {
   "cell_type": "code",
   "execution_count": 21,
   "metadata": {},
   "outputs": [
    {
     "data": {
      "text/plain": [
       "53785"
      ]
     },
     "execution_count": 21,
     "metadata": {},
     "output_type": "execute_result"
    }
   ],
   "source": [
    "len(dataset)"
   ]
  },
  {
   "cell_type": "code",
   "execution_count": 22,
   "metadata": {},
   "outputs": [],
   "source": [
    "dataset = dataset.dropna()"
   ]
  },
  {
   "cell_type": "code",
   "execution_count": 23,
   "metadata": {},
   "outputs": [
    {
     "data": {
      "text/plain": [
       "48227"
      ]
     },
     "execution_count": 23,
     "metadata": {},
     "output_type": "execute_result"
    }
   ],
   "source": [
    "len(dataset)"
   ]
  },
  {
   "cell_type": "code",
   "execution_count": 24,
   "metadata": {},
   "outputs": [
    {
     "data": {
      "text/plain": [
       "1092"
      ]
     },
     "execution_count": 24,
     "metadata": {},
     "output_type": "execute_result"
    }
   ],
   "source": [
    "dataset['operator_id'].drop_duplicates().count()"
   ]
  },
  {
   "cell_type": "markdown",
   "metadata": {},
   "source": [
    "We have 1092 different operators."
   ]
  },
  {
   "cell_type": "code",
   "execution_count": 25,
   "metadata": {},
   "outputs": [
    {
     "data": {
      "text/plain": [
       "290"
      ]
     },
     "execution_count": 25,
     "metadata": {},
     "output_type": "execute_result"
    }
   ],
   "source": [
    "dataset['user_id'].drop_duplicates().count()"
   ]
  },
  {
   "cell_type": "markdown",
   "metadata": {},
   "source": [
    "We have 290 different clients."
   ]
  },
  {
   "cell_type": "markdown",
   "metadata": {},
   "source": [
    "<a id=\"4\"></a> \n",
    "## Convert types"
   ]
  },
  {
   "cell_type": "markdown",
   "metadata": {},
   "source": [
    "I already converted the 'date' column in the dataset table at the prior part, so I only need to convert the 'operator_id' column and the 'date_start' column (from the clients table):"
   ]
  },
  {
   "cell_type": "code",
   "execution_count": 26,
   "metadata": {},
   "outputs": [
    {
     "name": "stdout",
     "output_type": "stream",
     "text": [
      "<class 'pandas.core.frame.DataFrame'>\n",
      "Int64Index: 48227 entries, 1 to 53783\n",
      "Data columns (total 9 columns):\n",
      "user_id                48227 non-null int64\n",
      "date                   48227 non-null datetime64[ns]\n",
      "direction              48227 non-null object\n",
      "internal               48227 non-null object\n",
      "operator_id            48227 non-null float64\n",
      "is_missed_call         48227 non-null bool\n",
      "calls_count            48227 non-null int64\n",
      "call_duration          48227 non-null int64\n",
      "total_call_duration    48227 non-null int64\n",
      "dtypes: bool(1), datetime64[ns](1), float64(1), int64(4), object(2)\n",
      "memory usage: 3.4+ MB\n"
     ]
    },
    {
     "name": "stderr",
     "output_type": "stream",
     "text": [
      "/opt/conda/lib/python3.7/site-packages/ipykernel_launcher.py:1: DeprecationWarning:\n",
      "\n",
      "parsing timezone aware datetimes is deprecated; this will raise an error in the future\n",
      "\n"
     ]
    },
    {
     "data": {
      "text/plain": [
       "None"
      ]
     },
     "metadata": {},
     "output_type": "display_data"
    }
   ],
   "source": [
    "dataset['date'] = dataset['date'].values.astype('datetime64[D]')\n",
    "display(dataset.info())"
   ]
  },
  {
   "cell_type": "code",
   "execution_count": 27,
   "metadata": {},
   "outputs": [
    {
     "name": "stdout",
     "output_type": "stream",
     "text": [
      "<class 'pandas.core.frame.DataFrame'>\n",
      "Int64Index: 48227 entries, 1 to 53783\n",
      "Data columns (total 9 columns):\n",
      "user_id                48227 non-null int64\n",
      "date                   48227 non-null datetime64[ns]\n",
      "direction              48227 non-null object\n",
      "internal               48227 non-null object\n",
      "operator_id            48227 non-null int64\n",
      "is_missed_call         48227 non-null bool\n",
      "calls_count            48227 non-null int64\n",
      "call_duration          48227 non-null int64\n",
      "total_call_duration    48227 non-null int64\n",
      "dtypes: bool(1), datetime64[ns](1), int64(5), object(2)\n",
      "memory usage: 3.4+ MB\n"
     ]
    },
    {
     "data": {
      "text/plain": [
       "None"
      ]
     },
     "metadata": {},
     "output_type": "display_data"
    }
   ],
   "source": [
    "dataset['operator_id'] = dataset['operator_id'].astype('int')\n",
    "display(dataset.info())"
   ]
  },
  {
   "cell_type": "code",
   "execution_count": 28,
   "metadata": {},
   "outputs": [
    {
     "name": "stdout",
     "output_type": "stream",
     "text": [
      "<class 'pandas.core.frame.DataFrame'>\n",
      "RangeIndex: 732 entries, 0 to 731\n",
      "Data columns (total 3 columns):\n",
      "user_id        732 non-null int64\n",
      "tariff_plan    732 non-null object\n",
      "date_start     732 non-null datetime64[ns]\n",
      "dtypes: datetime64[ns](1), int64(1), object(1)\n",
      "memory usage: 17.3+ KB\n"
     ]
    },
    {
     "data": {
      "text/plain": [
       "None"
      ]
     },
     "metadata": {},
     "output_type": "display_data"
    }
   ],
   "source": [
    "clients['date_start'] =  clients['date_start'].values.astype('datetime64[D]')\n",
    "display(clients.info())"
   ]
  },
  {
   "cell_type": "markdown",
   "metadata": {},
   "source": [
    "<a id=\"7\"></a> \n",
    "## Remove duplicate values"
   ]
  },
  {
   "cell_type": "code",
   "execution_count": 29,
   "metadata": {},
   "outputs": [
    {
     "data": {
      "text/plain": [
       "4392"
      ]
     },
     "execution_count": 29,
     "metadata": {},
     "output_type": "execute_result"
    }
   ],
   "source": [
    "dataset.duplicated().sum()"
   ]
  },
  {
   "cell_type": "code",
   "execution_count": 30,
   "metadata": {},
   "outputs": [
    {
     "data": {
      "text/plain": [
       "9.106931801687852"
      ]
     },
     "execution_count": 30,
     "metadata": {},
     "output_type": "execute_result"
    }
   ],
   "source": [
    "dataset.duplicated().sum()/len(dataset)*100"
   ]
  },
  {
   "cell_type": "markdown",
   "metadata": {},
   "source": [
    "There are 4392 duplicates! lets drop it:"
   ]
  },
  {
   "cell_type": "code",
   "execution_count": 31,
   "metadata": {},
   "outputs": [],
   "source": [
    "dataset = dataset.drop_duplicates()"
   ]
  },
  {
   "cell_type": "code",
   "execution_count": 32,
   "metadata": {},
   "outputs": [
    {
     "data": {
      "text/plain": [
       "0"
      ]
     },
     "execution_count": 32,
     "metadata": {},
     "output_type": "execute_result"
    }
   ],
   "source": [
    "dataset.duplicated().sum()"
   ]
  },
  {
   "cell_type": "markdown",
   "metadata": {},
   "source": [
    "### conclusion:\n",
    "At First we had 15% missing data in the 'operator_id' column. I filled in partially: for users that had only 1 operator per date, I filled the missing value with the id of the operator they had in this date.\n",
    "After that we remained with 10% missing data that I decided to drop, since I did not find reasonable way to fill it.\n",
    "I also droped 4,392 duplicates I found."
   ]
  },
  {
   "cell_type": "markdown",
   "metadata": {},
   "source": [
    "<a id=\"9\"></a> \n",
    "# Exploratory data analysis"
   ]
  },
  {
   "cell_type": "markdown",
   "metadata": {},
   "source": [
    "<a id=\"10\"></a> \n",
    "## Study and remove outliers"
   ]
  },
  {
   "cell_type": "markdown",
   "metadata": {},
   "source": [
    "I will start with the \"calls_count\" column:"
   ]
  },
  {
   "cell_type": "code",
   "execution_count": 33,
   "metadata": {},
   "outputs": [
    {
     "data": {
      "text/plain": [
       "<matplotlib.axes._subplots.AxesSubplot at 0x7f419de45890>"
      ]
     },
     "execution_count": 33,
     "metadata": {},
     "output_type": "execute_result"
    },
    {
     "data": {
      "image/png": "[encoded data removed]",
      "text/plain": [
       "<Figure size 864x864 with 1 Axes>"
      ]
     },
     "metadata": {
      "needs_background": "light"
     },
     "output_type": "display_data"
    }
   ],
   "source": [
    "dataset.boxplot(column='calls_count', showmeans=True, figsize=(12,12))"
   ]
  },
  {
   "cell_type": "code",
   "execution_count": 34,
   "metadata": {},
   "outputs": [
    {
     "data": {
      "text/plain": [
       "(0, 100)"
      ]
     },
     "execution_count": 34,
     "metadata": {},
     "output_type": "execute_result"
    },
    {
     "data": {
      "image/png": "[encoded data removed]",
      "text/plain": [
       "<Figure size 864x864 with 1 Axes>"
      ]
     },
     "metadata": {
      "needs_background": "light"
     },
     "output_type": "display_data"
    }
   ],
   "source": [
    "dataset.boxplot(column='calls_count', showmeans=True, figsize=(12,12))\n",
    "plt.ylim(0, 100)"
   ]
  },
  {
   "cell_type": "code",
   "execution_count": 35,
   "metadata": {},
   "outputs": [
    {
     "data": {
      "text/plain": [
       "(0, 35)"
      ]
     },
     "execution_count": 35,
     "metadata": {},
     "output_type": "execute_result"
    },
    {
     "data": {
      "image/png": "[encoded data removed]",
      "text/plain": [
       "<Figure size 864x864 with 1 Axes>"
      ]
     },
     "metadata": {
      "needs_background": "light"
     },
     "output_type": "display_data"
    }
   ],
   "source": [
    "dataset.boxplot(column='calls_count', showmeans=True, figsize=(12,12))\n",
    "plt.ylim(0, 35)"
   ]
  },
  {
   "cell_type": "code",
   "execution_count": 36,
   "metadata": {},
   "outputs": [
    {
     "data": {
      "text/plain": [
       "11.043686551842136"
      ]
     },
     "execution_count": 36,
     "metadata": {},
     "output_type": "execute_result"
    }
   ],
   "source": [
    "len(dataset[dataset['calls_count']>32])/len(dataset)*100"
   ]
  },
  {
   "cell_type": "code",
   "execution_count": 37,
   "metadata": {},
   "outputs": [
    {
     "data": {
      "text/plain": [
       "1.0927341165735143"
      ]
     },
     "execution_count": 37,
     "metadata": {},
     "output_type": "execute_result"
    }
   ],
   "source": [
    "len(dataset[dataset['calls_count']>150])/len(dataset)*100"
   ]
  },
  {
   "cell_type": "markdown",
   "metadata": {},
   "source": [
    "I'll delete only 1% of the data - rows with more than 150 calls (I don't think it make sense that users do more than 150 calls a day)."
   ]
  },
  {
   "cell_type": "code",
   "execution_count": 38,
   "metadata": {},
   "outputs": [],
   "source": [
    "dataset = dataset[dataset['calls_count']<150]"
   ]
  },
  {
   "cell_type": "markdown",
   "metadata": {},
   "source": [
    "Let's move to the \"calls_count\" column. First, I will create new columns with the duration per call."
   ]
  },
  {
   "cell_type": "code",
   "execution_count": 39,
   "metadata": {},
   "outputs": [],
   "source": [
    "dataset['call_duration_per_call'] = dataset['call_duration'] / dataset['calls_count']\n",
    "dataset['total_call_duration_per_call'] = dataset['total_call_duration'] / dataset['calls_count']"
   ]
  },
  {
   "cell_type": "code",
   "execution_count": 40,
   "metadata": {},
   "outputs": [
    {
     "data": {
      "text/html": [
       "<div>\n",
       "<style scoped>\n",
       "    .dataframe tbody tr th:only-of-type {\n",
       "        vertical-align: middle;\n",
       "    }\n",
       "\n",
       "    .dataframe tbody tr th {\n",
       "        vertical-align: top;\n",
       "    }\n",
       "\n",
       "    .dataframe thead th {\n",
       "        text-align: right;\n",
       "    }\n",
       "</style>\n",
       "<table border=\"1\" class=\"dataframe\">\n",
       "  <thead>\n",
       "    <tr style=\"text-align: right;\">\n",
       "      <th></th>\n",
       "      <th>user_id</th>\n",
       "      <th>date</th>\n",
       "      <th>direction</th>\n",
       "      <th>internal</th>\n",
       "      <th>operator_id</th>\n",
       "      <th>is_missed_call</th>\n",
       "      <th>calls_count</th>\n",
       "      <th>call_duration</th>\n",
       "      <th>total_call_duration</th>\n",
       "      <th>call_duration_per_call</th>\n",
       "      <th>total_call_duration_per_call</th>\n",
       "    </tr>\n",
       "  </thead>\n",
       "  <tbody>\n",
       "    <tr>\n",
       "      <td>1</td>\n",
       "      <td>166377</td>\n",
       "      <td>2019-08-04</td>\n",
       "      <td>out</td>\n",
       "      <td>True</td>\n",
       "      <td>880022</td>\n",
       "      <td>True</td>\n",
       "      <td>3</td>\n",
       "      <td>0</td>\n",
       "      <td>5</td>\n",
       "      <td>0.0</td>\n",
       "      <td>1.666667</td>\n",
       "    </tr>\n",
       "    <tr>\n",
       "      <td>2</td>\n",
       "      <td>166377</td>\n",
       "      <td>2019-08-04</td>\n",
       "      <td>out</td>\n",
       "      <td>True</td>\n",
       "      <td>880020</td>\n",
       "      <td>True</td>\n",
       "      <td>1</td>\n",
       "      <td>0</td>\n",
       "      <td>1</td>\n",
       "      <td>0.0</td>\n",
       "      <td>1.000000</td>\n",
       "    </tr>\n",
       "    <tr>\n",
       "      <td>3</td>\n",
       "      <td>166377</td>\n",
       "      <td>2019-08-04</td>\n",
       "      <td>out</td>\n",
       "      <td>True</td>\n",
       "      <td>880020</td>\n",
       "      <td>False</td>\n",
       "      <td>1</td>\n",
       "      <td>10</td>\n",
       "      <td>18</td>\n",
       "      <td>10.0</td>\n",
       "      <td>18.000000</td>\n",
       "    </tr>\n",
       "    <tr>\n",
       "      <td>4</td>\n",
       "      <td>166377</td>\n",
       "      <td>2019-08-04</td>\n",
       "      <td>out</td>\n",
       "      <td>False</td>\n",
       "      <td>880022</td>\n",
       "      <td>True</td>\n",
       "      <td>3</td>\n",
       "      <td>0</td>\n",
       "      <td>25</td>\n",
       "      <td>0.0</td>\n",
       "      <td>8.333333</td>\n",
       "    </tr>\n",
       "    <tr>\n",
       "      <td>5</td>\n",
       "      <td>166377</td>\n",
       "      <td>2019-08-04</td>\n",
       "      <td>out</td>\n",
       "      <td>False</td>\n",
       "      <td>880020</td>\n",
       "      <td>False</td>\n",
       "      <td>2</td>\n",
       "      <td>3</td>\n",
       "      <td>29</td>\n",
       "      <td>1.5</td>\n",
       "      <td>14.500000</td>\n",
       "    </tr>\n",
       "  </tbody>\n",
       "</table>\n",
       "</div>"
      ],
      "text/plain": [
       "   user_id       date direction internal  operator_id  is_missed_call  \\\n",
       "1   166377 2019-08-04       out     True       880022            True   \n",
       "2   166377 2019-08-04       out     True       880020            True   \n",
       "3   166377 2019-08-04       out     True       880020           False   \n",
       "4   166377 2019-08-04       out    False       880022            True   \n",
       "5   166377 2019-08-04       out    False       880020           False   \n",
       "\n",
       "   calls_count  call_duration  total_call_duration  call_duration_per_call  \\\n",
       "1            3              0                    5                     0.0   \n",
       "2            1              0                    1                     0.0   \n",
       "3            1             10                   18                    10.0   \n",
       "4            3              0                   25                     0.0   \n",
       "5            2              3                   29                     1.5   \n",
       "\n",
       "   total_call_duration_per_call  \n",
       "1                      1.666667  \n",
       "2                      1.000000  \n",
       "3                     18.000000  \n",
       "4                      8.333333  \n",
       "5                     14.500000  "
      ]
     },
     "execution_count": 40,
     "metadata": {},
     "output_type": "execute_result"
    }
   ],
   "source": [
    "dataset.head()"
   ]
  },
  {
   "cell_type": "code",
   "execution_count": 41,
   "metadata": {},
   "outputs": [
    {
     "data": {
      "text/plain": [
       "<matplotlib.axes._subplots.AxesSubplot at 0x7f41955d1110>"
      ]
     },
     "execution_count": 41,
     "metadata": {},
     "output_type": "execute_result"
    },
    {
     "data": {
      "image/png": "[encoded data removed]",
      "text/plain": [
       "<Figure size 864x864 with 1 Axes>"
      ]
     },
     "metadata": {
      "needs_background": "light"
     },
     "output_type": "display_data"
    }
   ],
   "source": [
    "dataset.boxplot(column='total_call_duration_per_call', showmeans=True, figsize=(12,12))"
   ]
  },
  {
   "cell_type": "code",
   "execution_count": 42,
   "metadata": {},
   "outputs": [
    {
     "data": {
      "text/plain": [
       "1.5201845444059976"
      ]
     },
     "execution_count": 42,
     "metadata": {},
     "output_type": "execute_result"
    }
   ],
   "source": [
    "len(dataset[dataset['total_call_duration_per_call']>500])/len(dataset)*100"
   ]
  },
  {
   "cell_type": "markdown",
   "metadata": {},
   "source": [
    "I'll delete only rows with \"total_call_duration_per_call\" higher than 500 (1.5% of the data)."
   ]
  },
  {
   "cell_type": "code",
   "execution_count": 43,
   "metadata": {},
   "outputs": [],
   "source": [
    "dataset = dataset[dataset['total_call_duration_per_call']<500]"
   ]
  },
  {
   "cell_type": "code",
   "execution_count": 44,
   "metadata": {},
   "outputs": [
    {
     "data": {
      "text/plain": [
       "42691"
      ]
     },
     "execution_count": 44,
     "metadata": {},
     "output_type": "execute_result"
    }
   ],
   "source": [
    "len(dataset)"
   ]
  },
  {
   "cell_type": "markdown",
   "metadata": {},
   "source": [
    "<a id=\"11\"></a> \n",
    "## Find the Operators that have large number of missed incoming calls"
   ]
  },
  {
   "cell_type": "code",
   "execution_count": 45,
   "metadata": {},
   "outputs": [
    {
     "data": {
      "text/html": [
       "<div>\n",
       "<style scoped>\n",
       "    .dataframe tbody tr th:only-of-type {\n",
       "        vertical-align: middle;\n",
       "    }\n",
       "\n",
       "    .dataframe tbody tr th {\n",
       "        vertical-align: top;\n",
       "    }\n",
       "\n",
       "    .dataframe thead th {\n",
       "        text-align: right;\n",
       "    }\n",
       "</style>\n",
       "<table border=\"1\" class=\"dataframe\">\n",
       "  <thead>\n",
       "    <tr style=\"text-align: right;\">\n",
       "      <th></th>\n",
       "      <th>user_id</th>\n",
       "      <th>date</th>\n",
       "      <th>direction</th>\n",
       "      <th>internal</th>\n",
       "      <th>operator_id</th>\n",
       "      <th>is_missed_call</th>\n",
       "      <th>calls_count</th>\n",
       "      <th>call_duration</th>\n",
       "      <th>total_call_duration</th>\n",
       "      <th>call_duration_per_call</th>\n",
       "      <th>total_call_duration_per_call</th>\n",
       "    </tr>\n",
       "  </thead>\n",
       "  <tbody>\n",
       "    <tr>\n",
       "      <td>26</td>\n",
       "      <td>166377</td>\n",
       "      <td>2019-08-11</td>\n",
       "      <td>in</td>\n",
       "      <td>False</td>\n",
       "      <td>880028</td>\n",
       "      <td>False</td>\n",
       "      <td>1</td>\n",
       "      <td>407</td>\n",
       "      <td>411</td>\n",
       "      <td>407.0</td>\n",
       "      <td>411.0</td>\n",
       "    </tr>\n",
       "    <tr>\n",
       "      <td>27</td>\n",
       "      <td>166377</td>\n",
       "      <td>2019-08-11</td>\n",
       "      <td>in</td>\n",
       "      <td>False</td>\n",
       "      <td>880028</td>\n",
       "      <td>True</td>\n",
       "      <td>2</td>\n",
       "      <td>0</td>\n",
       "      <td>34</td>\n",
       "      <td>0.0</td>\n",
       "      <td>17.0</td>\n",
       "    </tr>\n",
       "    <tr>\n",
       "      <td>34</td>\n",
       "      <td>166377</td>\n",
       "      <td>2019-08-12</td>\n",
       "      <td>in</td>\n",
       "      <td>False</td>\n",
       "      <td>880028</td>\n",
       "      <td>False</td>\n",
       "      <td>1</td>\n",
       "      <td>88</td>\n",
       "      <td>102</td>\n",
       "      <td>88.0</td>\n",
       "      <td>102.0</td>\n",
       "    </tr>\n",
       "    <tr>\n",
       "      <td>37</td>\n",
       "      <td>166377</td>\n",
       "      <td>2019-08-13</td>\n",
       "      <td>in</td>\n",
       "      <td>False</td>\n",
       "      <td>880026</td>\n",
       "      <td>False</td>\n",
       "      <td>2</td>\n",
       "      <td>197</td>\n",
       "      <td>218</td>\n",
       "      <td>98.5</td>\n",
       "      <td>109.0</td>\n",
       "    </tr>\n",
       "    <tr>\n",
       "      <td>39</td>\n",
       "      <td>166377</td>\n",
       "      <td>2019-08-13</td>\n",
       "      <td>in</td>\n",
       "      <td>False</td>\n",
       "      <td>880028</td>\n",
       "      <td>False</td>\n",
       "      <td>1</td>\n",
       "      <td>33</td>\n",
       "      <td>37</td>\n",
       "      <td>33.0</td>\n",
       "      <td>37.0</td>\n",
       "    </tr>\n",
       "  </tbody>\n",
       "</table>\n",
       "</div>"
      ],
      "text/plain": [
       "    user_id       date direction internal  operator_id  is_missed_call  \\\n",
       "26   166377 2019-08-11        in    False       880028           False   \n",
       "27   166377 2019-08-11        in    False       880028            True   \n",
       "34   166377 2019-08-12        in    False       880028           False   \n",
       "37   166377 2019-08-13        in    False       880026           False   \n",
       "39   166377 2019-08-13        in    False       880028           False   \n",
       "\n",
       "    calls_count  call_duration  total_call_duration  call_duration_per_call  \\\n",
       "26            1            407                  411                   407.0   \n",
       "27            2              0                   34                     0.0   \n",
       "34            1             88                  102                    88.0   \n",
       "37            2            197                  218                    98.5   \n",
       "39            1             33                   37                    33.0   \n",
       "\n",
       "    total_call_duration_per_call  \n",
       "26                         411.0  \n",
       "27                          17.0  \n",
       "34                         102.0  \n",
       "37                         109.0  \n",
       "39                          37.0  "
      ]
     },
     "metadata": {},
     "output_type": "display_data"
    }
   ],
   "source": [
    "incoming_calls = dataset[dataset['direction']==\"in\"]\n",
    "display(incoming_calls.head())"
   ]
  },
  {
   "cell_type": "code",
   "execution_count": 46,
   "metadata": {},
   "outputs": [
    {
     "data": {
      "text/html": [
       "<div>\n",
       "<style scoped>\n",
       "    .dataframe tbody tr th:only-of-type {\n",
       "        vertical-align: middle;\n",
       "    }\n",
       "\n",
       "    .dataframe tbody tr th {\n",
       "        vertical-align: top;\n",
       "    }\n",
       "\n",
       "    .dataframe thead th {\n",
       "        text-align: right;\n",
       "    }\n",
       "</style>\n",
       "<table border=\"1\" class=\"dataframe\">\n",
       "  <thead>\n",
       "    <tr style=\"text-align: right;\">\n",
       "      <th></th>\n",
       "      <th>operator_id</th>\n",
       "      <th>calls_count</th>\n",
       "    </tr>\n",
       "  </thead>\n",
       "  <tbody>\n",
       "    <tr>\n",
       "      <td>0</td>\n",
       "      <td>879896</td>\n",
       "      <td>59</td>\n",
       "    </tr>\n",
       "    <tr>\n",
       "      <td>1</td>\n",
       "      <td>879898</td>\n",
       "      <td>143</td>\n",
       "    </tr>\n",
       "    <tr>\n",
       "      <td>2</td>\n",
       "      <td>880020</td>\n",
       "      <td>7</td>\n",
       "    </tr>\n",
       "    <tr>\n",
       "      <td>3</td>\n",
       "      <td>880022</td>\n",
       "      <td>8</td>\n",
       "    </tr>\n",
       "    <tr>\n",
       "      <td>4</td>\n",
       "      <td>880026</td>\n",
       "      <td>24</td>\n",
       "    </tr>\n",
       "  </tbody>\n",
       "</table>\n",
       "</div>"
      ],
      "text/plain": [
       "   operator_id  calls_count\n",
       "0       879896           59\n",
       "1       879898          143\n",
       "2       880020            7\n",
       "3       880022            8\n",
       "4       880026           24"
      ]
     },
     "metadata": {},
     "output_type": "display_data"
    },
    {
     "data": {
      "text/plain": [
       "798"
      ]
     },
     "metadata": {},
     "output_type": "display_data"
    }
   ],
   "source": [
    "incoming_calls_per_operator = incoming_calls.groupby('operator_id')['calls_count'].sum().reset_index()\n",
    "incoming_calls_per_operator = incoming_calls_per_operator[incoming_calls_per_operator['calls_count'] != 0]\n",
    "display(incoming_calls_per_operator.head())\n",
    "display(len(incoming_calls_per_operator))"
   ]
  },
  {
   "cell_type": "code",
   "execution_count": 47,
   "metadata": {},
   "outputs": [
    {
     "data": {
      "text/html": [
       "<div>\n",
       "<style scoped>\n",
       "    .dataframe tbody tr th:only-of-type {\n",
       "        vertical-align: middle;\n",
       "    }\n",
       "\n",
       "    .dataframe tbody tr th {\n",
       "        vertical-align: top;\n",
       "    }\n",
       "\n",
       "    .dataframe thead th {\n",
       "        text-align: right;\n",
       "    }\n",
       "</style>\n",
       "<table border=\"1\" class=\"dataframe\">\n",
       "  <thead>\n",
       "    <tr style=\"text-align: right;\">\n",
       "      <th></th>\n",
       "      <th>operator_id</th>\n",
       "      <th>calls_count</th>\n",
       "    </tr>\n",
       "  </thead>\n",
       "  <tbody>\n",
       "    <tr>\n",
       "      <td>0</td>\n",
       "      <td>879896</td>\n",
       "      <td>2</td>\n",
       "    </tr>\n",
       "    <tr>\n",
       "      <td>1</td>\n",
       "      <td>879898</td>\n",
       "      <td>40</td>\n",
       "    </tr>\n",
       "    <tr>\n",
       "      <td>2</td>\n",
       "      <td>880028</td>\n",
       "      <td>2</td>\n",
       "    </tr>\n",
       "    <tr>\n",
       "      <td>3</td>\n",
       "      <td>882476</td>\n",
       "      <td>3</td>\n",
       "    </tr>\n",
       "    <tr>\n",
       "      <td>4</td>\n",
       "      <td>882478</td>\n",
       "      <td>2</td>\n",
       "    </tr>\n",
       "  </tbody>\n",
       "</table>\n",
       "</div>"
      ],
      "text/plain": [
       "   operator_id  calls_count\n",
       "0       879896            2\n",
       "1       879898           40\n",
       "2       880028            2\n",
       "3       882476            3\n",
       "4       882478            2"
      ]
     },
     "metadata": {},
     "output_type": "display_data"
    }
   ],
   "source": [
    "missed_incoming_calls = dataset[(dataset['direction']==\"in\") & (dataset['is_missed_call']==True)]\n",
    "missed_incoming_calls_per_operator = missed_incoming_calls.groupby('operator_id')['calls_count'].sum().reset_index()\n",
    "display(missed_incoming_calls_per_operator.head())"
   ]
  },
  {
   "cell_type": "code",
   "execution_count": 48,
   "metadata": {},
   "outputs": [
    {
     "data": {
      "text/html": [
       "<div>\n",
       "<style scoped>\n",
       "    .dataframe tbody tr th:only-of-type {\n",
       "        vertical-align: middle;\n",
       "    }\n",
       "\n",
       "    .dataframe tbody tr th {\n",
       "        vertical-align: top;\n",
       "    }\n",
       "\n",
       "    .dataframe thead th {\n",
       "        text-align: right;\n",
       "    }\n",
       "</style>\n",
       "<table border=\"1\" class=\"dataframe\">\n",
       "  <thead>\n",
       "    <tr style=\"text-align: right;\">\n",
       "      <th></th>\n",
       "      <th>operator_id</th>\n",
       "      <th>calls_count_x</th>\n",
       "      <th>calls_count_y</th>\n",
       "    </tr>\n",
       "  </thead>\n",
       "  <tbody>\n",
       "    <tr>\n",
       "      <td>0</td>\n",
       "      <td>879896</td>\n",
       "      <td>59</td>\n",
       "      <td>2.0</td>\n",
       "    </tr>\n",
       "    <tr>\n",
       "      <td>1</td>\n",
       "      <td>879898</td>\n",
       "      <td>143</td>\n",
       "      <td>40.0</td>\n",
       "    </tr>\n",
       "    <tr>\n",
       "      <td>2</td>\n",
       "      <td>880020</td>\n",
       "      <td>7</td>\n",
       "      <td>NaN</td>\n",
       "    </tr>\n",
       "    <tr>\n",
       "      <td>3</td>\n",
       "      <td>880022</td>\n",
       "      <td>8</td>\n",
       "      <td>NaN</td>\n",
       "    </tr>\n",
       "    <tr>\n",
       "      <td>4</td>\n",
       "      <td>880026</td>\n",
       "      <td>24</td>\n",
       "      <td>NaN</td>\n",
       "    </tr>\n",
       "  </tbody>\n",
       "</table>\n",
       "</div>"
      ],
      "text/plain": [
       "   operator_id  calls_count_x  calls_count_y\n",
       "0       879896             59            2.0\n",
       "1       879898            143           40.0\n",
       "2       880020              7            NaN\n",
       "3       880022              8            NaN\n",
       "4       880026             24            NaN"
      ]
     },
     "metadata": {},
     "output_type": "display_data"
    },
    {
     "data": {
      "text/plain": [
       "798"
      ]
     },
     "execution_count": 48,
     "metadata": {},
     "output_type": "execute_result"
    }
   ],
   "source": [
    "percentage_missed_calls = incoming_calls_per_operator.merge(missed_incoming_calls_per_operator, on=\"operator_id\", how=\"left\")\n",
    "display(percentage_missed_calls.head())\n",
    "len(percentage_missed_calls)"
   ]
  },
  {
   "cell_type": "code",
   "execution_count": 49,
   "metadata": {},
   "outputs": [
    {
     "data": {
      "text/html": [
       "<div>\n",
       "<style scoped>\n",
       "    .dataframe tbody tr th:only-of-type {\n",
       "        vertical-align: middle;\n",
       "    }\n",
       "\n",
       "    .dataframe tbody tr th {\n",
       "        vertical-align: top;\n",
       "    }\n",
       "\n",
       "    .dataframe thead th {\n",
       "        text-align: right;\n",
       "    }\n",
       "</style>\n",
       "<table border=\"1\" class=\"dataframe\">\n",
       "  <thead>\n",
       "    <tr style=\"text-align: right;\">\n",
       "      <th></th>\n",
       "      <th>operator_id</th>\n",
       "      <th>total_incoming_calls_count</th>\n",
       "      <th>missed_incoming_calls_count</th>\n",
       "      <th>missed_incoming_calls_percentage</th>\n",
       "      <th>general_percentage</th>\n",
       "      <th>distance_from_mean</th>\n",
       "    </tr>\n",
       "  </thead>\n",
       "  <tbody>\n",
       "    <tr>\n",
       "      <td>0</td>\n",
       "      <td>879896</td>\n",
       "      <td>59</td>\n",
       "      <td>2.0</td>\n",
       "      <td>3.389831</td>\n",
       "      <td>12.20016</td>\n",
       "      <td>-8.810329</td>\n",
       "    </tr>\n",
       "    <tr>\n",
       "      <td>1</td>\n",
       "      <td>879898</td>\n",
       "      <td>143</td>\n",
       "      <td>40.0</td>\n",
       "      <td>27.972028</td>\n",
       "      <td>12.20016</td>\n",
       "      <td>15.771868</td>\n",
       "    </tr>\n",
       "    <tr>\n",
       "      <td>2</td>\n",
       "      <td>880020</td>\n",
       "      <td>7</td>\n",
       "      <td>0.0</td>\n",
       "      <td>0.000000</td>\n",
       "      <td>12.20016</td>\n",
       "      <td>-12.200160</td>\n",
       "    </tr>\n",
       "    <tr>\n",
       "      <td>3</td>\n",
       "      <td>880022</td>\n",
       "      <td>8</td>\n",
       "      <td>0.0</td>\n",
       "      <td>0.000000</td>\n",
       "      <td>12.20016</td>\n",
       "      <td>-12.200160</td>\n",
       "    </tr>\n",
       "    <tr>\n",
       "      <td>4</td>\n",
       "      <td>880026</td>\n",
       "      <td>24</td>\n",
       "      <td>0.0</td>\n",
       "      <td>0.000000</td>\n",
       "      <td>12.20016</td>\n",
       "      <td>-12.200160</td>\n",
       "    </tr>\n",
       "  </tbody>\n",
       "</table>\n",
       "</div>"
      ],
      "text/plain": [
       "   operator_id  total_incoming_calls_count  missed_incoming_calls_count  \\\n",
       "0       879896                          59                          2.0   \n",
       "1       879898                         143                         40.0   \n",
       "2       880020                           7                          0.0   \n",
       "3       880022                           8                          0.0   \n",
       "4       880026                          24                          0.0   \n",
       "\n",
       "   missed_incoming_calls_percentage  general_percentage  distance_from_mean  \n",
       "0                          3.389831            12.20016           -8.810329  \n",
       "1                         27.972028            12.20016           15.771868  \n",
       "2                          0.000000            12.20016          -12.200160  \n",
       "3                          0.000000            12.20016          -12.200160  \n",
       "4                          0.000000            12.20016          -12.200160  "
      ]
     },
     "metadata": {},
     "output_type": "display_data"
    }
   ],
   "source": [
    "percentage_missed_calls = percentage_missed_calls.rename(columns={'calls_count_x': 'total_incoming_calls_count'})\n",
    "percentage_missed_calls = percentage_missed_calls.rename(columns={'calls_count_y': 'missed_incoming_calls_count'})\n",
    "percentage_missed_calls = percentage_missed_calls.fillna(0)\n",
    "percentage_missed_calls['missed_incoming_calls_percentage'] = percentage_missed_calls['missed_incoming_calls_count']/percentage_missed_calls['total_incoming_calls_count']*100\n",
    "percentage_missed_calls['general_percentage'] = percentage_missed_calls['missed_incoming_calls_count'].sum()/ percentage_missed_calls['total_incoming_calls_count'].sum()*100\n",
    "percentage_missed_calls['distance_from_mean'] = percentage_missed_calls['missed_incoming_calls_percentage']-percentage_missed_calls['general_percentage']\n",
    "display(percentage_missed_calls.head())"
   ]
  },
  {
   "cell_type": "code",
   "execution_count": 50,
   "metadata": {},
   "outputs": [
    {
     "data": {
      "text/plain": [
       "count    798.000000\n",
       "mean       9.399175\n",
       "std       31.086625\n",
       "min      -12.200160\n",
       "25%      -12.200160\n",
       "50%       -8.438195\n",
       "75%       21.133174\n",
       "max       87.799840\n",
       "Name: distance_from_mean, dtype: float64"
      ]
     },
     "execution_count": 50,
     "metadata": {},
     "output_type": "execute_result"
    }
   ],
   "source": [
    "percentage_missed_calls['distance_from_mean'].describe()"
   ]
  },
  {
   "cell_type": "code",
   "execution_count": 51,
   "metadata": {},
   "outputs": [
    {
     "data": {
      "text/plain": [
       "<matplotlib.axes._subplots.AxesSubplot at 0x7f4195568410>"
      ]
     },
     "execution_count": 51,
     "metadata": {},
     "output_type": "execute_result"
    },
    {
     "data": {
      "image/png": "[encoded data removed]",
      "text/plain": [
       "<Figure size 432x288 with 1 Axes>"
      ]
     },
     "metadata": {
      "needs_background": "light"
     },
     "output_type": "display_data"
    }
   ],
   "source": [
    "fig = plt.figure()\n",
    "fig.suptitle('Percentage missed calls, distance_from_mean', fontsize=14, fontweight='bold')\n",
    "percentage_missed_calls.boxplot(column='distance_from_mean', showmeans=True)"
   ]
  },
  {
   "cell_type": "code",
   "execution_count": 52,
   "metadata": {},
   "outputs": [
    {
     "data": {
      "text/html": [
       "<div>\n",
       "<style scoped>\n",
       "    .dataframe tbody tr th:only-of-type {\n",
       "        vertical-align: middle;\n",
       "    }\n",
       "\n",
       "    .dataframe tbody tr th {\n",
       "        vertical-align: top;\n",
       "    }\n",
       "\n",
       "    .dataframe thead th {\n",
       "        text-align: right;\n",
       "    }\n",
       "</style>\n",
       "<table border=\"1\" class=\"dataframe\">\n",
       "  <thead>\n",
       "    <tr style=\"text-align: right;\">\n",
       "      <th></th>\n",
       "      <th>operator_id</th>\n",
       "      <th>total_incoming_calls_count</th>\n",
       "      <th>missed_incoming_calls_count</th>\n",
       "      <th>missed_incoming_calls_percentage</th>\n",
       "      <th>general_percentage</th>\n",
       "      <th>distance_from_mean</th>\n",
       "      <th>effectiveness</th>\n",
       "    </tr>\n",
       "  </thead>\n",
       "  <tbody>\n",
       "    <tr>\n",
       "      <td>0</td>\n",
       "      <td>879896</td>\n",
       "      <td>59</td>\n",
       "      <td>2.0</td>\n",
       "      <td>3.389831</td>\n",
       "      <td>12.20016</td>\n",
       "      <td>-8.810329</td>\n",
       "      <td>2</td>\n",
       "    </tr>\n",
       "    <tr>\n",
       "      <td>1</td>\n",
       "      <td>879898</td>\n",
       "      <td>143</td>\n",
       "      <td>40.0</td>\n",
       "      <td>27.972028</td>\n",
       "      <td>12.20016</td>\n",
       "      <td>15.771868</td>\n",
       "      <td>1</td>\n",
       "    </tr>\n",
       "    <tr>\n",
       "      <td>2</td>\n",
       "      <td>880020</td>\n",
       "      <td>7</td>\n",
       "      <td>0.0</td>\n",
       "      <td>0.000000</td>\n",
       "      <td>12.20016</td>\n",
       "      <td>-12.200160</td>\n",
       "      <td>3</td>\n",
       "    </tr>\n",
       "    <tr>\n",
       "      <td>3</td>\n",
       "      <td>880022</td>\n",
       "      <td>8</td>\n",
       "      <td>0.0</td>\n",
       "      <td>0.000000</td>\n",
       "      <td>12.20016</td>\n",
       "      <td>-12.200160</td>\n",
       "      <td>3</td>\n",
       "    </tr>\n",
       "    <tr>\n",
       "      <td>4</td>\n",
       "      <td>880026</td>\n",
       "      <td>24</td>\n",
       "      <td>0.0</td>\n",
       "      <td>0.000000</td>\n",
       "      <td>12.20016</td>\n",
       "      <td>-12.200160</td>\n",
       "      <td>3</td>\n",
       "    </tr>\n",
       "  </tbody>\n",
       "</table>\n",
       "</div>"
      ],
      "text/plain": [
       "   operator_id  total_incoming_calls_count  missed_incoming_calls_count  \\\n",
       "0       879896                          59                          2.0   \n",
       "1       879898                         143                         40.0   \n",
       "2       880020                           7                          0.0   \n",
       "3       880022                           8                          0.0   \n",
       "4       880026                          24                          0.0   \n",
       "\n",
       "   missed_incoming_calls_percentage  general_percentage  distance_from_mean  \\\n",
       "0                          3.389831            12.20016           -8.810329   \n",
       "1                         27.972028            12.20016           15.771868   \n",
       "2                          0.000000            12.20016          -12.200160   \n",
       "3                          0.000000            12.20016          -12.200160   \n",
       "4                          0.000000            12.20016          -12.200160   \n",
       "\n",
       "   effectiveness  \n",
       "0              2  \n",
       "1              1  \n",
       "2              3  \n",
       "3              3  \n",
       "4              3  "
      ]
     },
     "metadata": {},
     "output_type": "display_data"
    }
   ],
   "source": [
    "percentage_missed_calls[\"effectiveness\"] = [3 if x<=-12 else 0 for x in percentage_missed_calls[\"distance_from_mean\"]]\n",
    "percentage_missed_calls.loc[(percentage_missed_calls['distance_from_mean'] >-12) & (percentage_missed_calls['distance_from_mean'] <=-8), 'effectiveness'] = 2\n",
    "percentage_missed_calls.loc[(percentage_missed_calls['distance_from_mean'] >-8) & (percentage_missed_calls['distance_from_mean'] <=21), 'effectiveness'] = 1 \n",
    "display(percentage_missed_calls.head())"
   ]
  },
  {
   "cell_type": "code",
   "execution_count": 53,
   "metadata": {},
   "outputs": [
    {
     "data": {
      "text/plain": [
       "3    291\n",
       "0    205\n",
       "1    186\n",
       "2    116\n",
       "Name: effectiveness, dtype: int64"
      ]
     },
     "execution_count": 53,
     "metadata": {},
     "output_type": "execute_result"
    }
   ],
   "source": [
    "percentage_missed_calls['effectiveness'].value_counts()"
   ]
  },
  {
   "cell_type": "code",
   "execution_count": 54,
   "metadata": {},
   "outputs": [
    {
     "data": {
      "text/plain": [
       "array([[<matplotlib.axes._subplots.AxesSubplot object at 0x7f41954d19d0>]],\n",
       "      dtype=object)"
      ]
     },
     "execution_count": 54,
     "metadata": {},
     "output_type": "execute_result"
    },
    {
     "data": {
      "image/png": "[encoded data removed]",
      "text/plain": [
       "<Figure size 432x288 with 1 Axes>"
      ]
     },
     "metadata": {
      "needs_background": "light"
     },
     "output_type": "display_data"
    }
   ],
   "source": [
    "percentage_missed_calls.hist('effectiveness')"
   ]
  },
  {
   "cell_type": "markdown",
   "metadata": {},
   "source": [
    "I divided the operators to \"effectiveness\" groups base on the percentage of missed incoming calls they had (with regard to the general percentage). 3 = most effective, 0 = least effective."
   ]
  },
  {
   "cell_type": "markdown",
   "metadata": {},
   "source": [
    "<a id=\"12\"></a> \n",
    "## Find the Operators that have long waiting time for incoming calls"
   ]
  },
  {
   "cell_type": "code",
   "execution_count": 55,
   "metadata": {},
   "outputs": [
    {
     "data": {
      "text/html": [
       "<div>\n",
       "<style scoped>\n",
       "    .dataframe tbody tr th:only-of-type {\n",
       "        vertical-align: middle;\n",
       "    }\n",
       "\n",
       "    .dataframe tbody tr th {\n",
       "        vertical-align: top;\n",
       "    }\n",
       "\n",
       "    .dataframe thead th {\n",
       "        text-align: right;\n",
       "    }\n",
       "</style>\n",
       "<table border=\"1\" class=\"dataframe\">\n",
       "  <thead>\n",
       "    <tr style=\"text-align: right;\">\n",
       "      <th></th>\n",
       "      <th>user_id</th>\n",
       "      <th>date</th>\n",
       "      <th>direction</th>\n",
       "      <th>internal</th>\n",
       "      <th>operator_id</th>\n",
       "      <th>is_missed_call</th>\n",
       "      <th>calls_count</th>\n",
       "      <th>call_duration</th>\n",
       "      <th>total_call_duration</th>\n",
       "      <th>call_duration_per_call</th>\n",
       "      <th>total_call_duration_per_call</th>\n",
       "    </tr>\n",
       "  </thead>\n",
       "  <tbody>\n",
       "    <tr>\n",
       "      <td>26</td>\n",
       "      <td>166377</td>\n",
       "      <td>2019-08-11</td>\n",
       "      <td>in</td>\n",
       "      <td>False</td>\n",
       "      <td>880028</td>\n",
       "      <td>False</td>\n",
       "      <td>1</td>\n",
       "      <td>407</td>\n",
       "      <td>411</td>\n",
       "      <td>407.0</td>\n",
       "      <td>411.0</td>\n",
       "    </tr>\n",
       "    <tr>\n",
       "      <td>34</td>\n",
       "      <td>166377</td>\n",
       "      <td>2019-08-12</td>\n",
       "      <td>in</td>\n",
       "      <td>False</td>\n",
       "      <td>880028</td>\n",
       "      <td>False</td>\n",
       "      <td>1</td>\n",
       "      <td>88</td>\n",
       "      <td>102</td>\n",
       "      <td>88.0</td>\n",
       "      <td>102.0</td>\n",
       "    </tr>\n",
       "    <tr>\n",
       "      <td>37</td>\n",
       "      <td>166377</td>\n",
       "      <td>2019-08-13</td>\n",
       "      <td>in</td>\n",
       "      <td>False</td>\n",
       "      <td>880026</td>\n",
       "      <td>False</td>\n",
       "      <td>2</td>\n",
       "      <td>197</td>\n",
       "      <td>218</td>\n",
       "      <td>98.5</td>\n",
       "      <td>109.0</td>\n",
       "    </tr>\n",
       "    <tr>\n",
       "      <td>39</td>\n",
       "      <td>166377</td>\n",
       "      <td>2019-08-13</td>\n",
       "      <td>in</td>\n",
       "      <td>False</td>\n",
       "      <td>880028</td>\n",
       "      <td>False</td>\n",
       "      <td>1</td>\n",
       "      <td>33</td>\n",
       "      <td>37</td>\n",
       "      <td>33.0</td>\n",
       "      <td>37.0</td>\n",
       "    </tr>\n",
       "    <tr>\n",
       "      <td>49</td>\n",
       "      <td>166377</td>\n",
       "      <td>2019-08-14</td>\n",
       "      <td>in</td>\n",
       "      <td>False</td>\n",
       "      <td>880028</td>\n",
       "      <td>False</td>\n",
       "      <td>1</td>\n",
       "      <td>23</td>\n",
       "      <td>27</td>\n",
       "      <td>23.0</td>\n",
       "      <td>27.0</td>\n",
       "    </tr>\n",
       "  </tbody>\n",
       "</table>\n",
       "</div>"
      ],
      "text/plain": [
       "    user_id       date direction internal  operator_id  is_missed_call  \\\n",
       "26   166377 2019-08-11        in    False       880028           False   \n",
       "34   166377 2019-08-12        in    False       880028           False   \n",
       "37   166377 2019-08-13        in    False       880026           False   \n",
       "39   166377 2019-08-13        in    False       880028           False   \n",
       "49   166377 2019-08-14        in    False       880028           False   \n",
       "\n",
       "    calls_count  call_duration  total_call_duration  call_duration_per_call  \\\n",
       "26            1            407                  411                   407.0   \n",
       "34            1             88                  102                    88.0   \n",
       "37            2            197                  218                    98.5   \n",
       "39            1             33                   37                    33.0   \n",
       "49            1             23                   27                    23.0   \n",
       "\n",
       "    total_call_duration_per_call  \n",
       "26                         411.0  \n",
       "34                         102.0  \n",
       "37                         109.0  \n",
       "39                          37.0  \n",
       "49                          27.0  "
      ]
     },
     "metadata": {},
     "output_type": "display_data"
    }
   ],
   "source": [
    "waiting_time = dataset[(dataset['direction']==\"in\") & (dataset['is_missed_call']==False)]\n",
    "display(waiting_time.head())"
   ]
  },
  {
   "cell_type": "code",
   "execution_count": 56,
   "metadata": {},
   "outputs": [
    {
     "data": {
      "text/html": [
       "<div>\n",
       "<style scoped>\n",
       "    .dataframe tbody tr th:only-of-type {\n",
       "        vertical-align: middle;\n",
       "    }\n",
       "\n",
       "    .dataframe tbody tr th {\n",
       "        vertical-align: top;\n",
       "    }\n",
       "\n",
       "    .dataframe thead th {\n",
       "        text-align: right;\n",
       "    }\n",
       "</style>\n",
       "<table border=\"1\" class=\"dataframe\">\n",
       "  <thead>\n",
       "    <tr style=\"text-align: right;\">\n",
       "      <th></th>\n",
       "      <th>operator_id</th>\n",
       "      <th>total_call_duration_per_call</th>\n",
       "    </tr>\n",
       "  </thead>\n",
       "  <tbody>\n",
       "    <tr>\n",
       "      <td>0</td>\n",
       "      <td>879896</td>\n",
       "      <td>1972.77193</td>\n",
       "    </tr>\n",
       "    <tr>\n",
       "      <td>1</td>\n",
       "      <td>879898</td>\n",
       "      <td>4521.80000</td>\n",
       "    </tr>\n",
       "    <tr>\n",
       "      <td>2</td>\n",
       "      <td>880020</td>\n",
       "      <td>353.00000</td>\n",
       "    </tr>\n",
       "    <tr>\n",
       "      <td>3</td>\n",
       "      <td>880022</td>\n",
       "      <td>624.00000</td>\n",
       "    </tr>\n",
       "    <tr>\n",
       "      <td>4</td>\n",
       "      <td>880026</td>\n",
       "      <td>1127.00000</td>\n",
       "    </tr>\n",
       "  </tbody>\n",
       "</table>\n",
       "</div>"
      ],
      "text/plain": [
       "   operator_id  total_call_duration_per_call\n",
       "0       879896                    1972.77193\n",
       "1       879898                    4521.80000\n",
       "2       880020                     353.00000\n",
       "3       880022                     624.00000\n",
       "4       880026                    1127.00000"
      ]
     },
     "metadata": {},
     "output_type": "display_data"
    },
    {
     "data": {
      "text/plain": [
       "747"
      ]
     },
     "metadata": {},
     "output_type": "display_data"
    }
   ],
   "source": [
    "total_duration_per_operator = waiting_time.groupby('operator_id')['total_call_duration_per_call'].sum().reset_index()\n",
    "total_duration_per_operator = total_duration_per_operator[total_duration_per_operator['total_call_duration_per_call'] != 0]\n",
    "display(total_duration_per_operator.head())\n",
    "display(len(total_duration_per_operator))"
   ]
  },
  {
   "cell_type": "code",
   "execution_count": 57,
   "metadata": {},
   "outputs": [
    {
     "data": {
      "text/html": [
       "<div>\n",
       "<style scoped>\n",
       "    .dataframe tbody tr th:only-of-type {\n",
       "        vertical-align: middle;\n",
       "    }\n",
       "\n",
       "    .dataframe tbody tr th {\n",
       "        vertical-align: top;\n",
       "    }\n",
       "\n",
       "    .dataframe thead th {\n",
       "        text-align: right;\n",
       "    }\n",
       "</style>\n",
       "<table border=\"1\" class=\"dataframe\">\n",
       "  <thead>\n",
       "    <tr style=\"text-align: right;\">\n",
       "      <th></th>\n",
       "      <th>operator_id</th>\n",
       "      <th>call_duration_per_call</th>\n",
       "    </tr>\n",
       "  </thead>\n",
       "  <tbody>\n",
       "    <tr>\n",
       "      <td>0</td>\n",
       "      <td>879896</td>\n",
       "      <td>1696.451754</td>\n",
       "    </tr>\n",
       "    <tr>\n",
       "      <td>1</td>\n",
       "      <td>879898</td>\n",
       "      <td>3726.233333</td>\n",
       "    </tr>\n",
       "    <tr>\n",
       "      <td>2</td>\n",
       "      <td>880020</td>\n",
       "      <td>299.000000</td>\n",
       "    </tr>\n",
       "    <tr>\n",
       "      <td>3</td>\n",
       "      <td>880022</td>\n",
       "      <td>512.000000</td>\n",
       "    </tr>\n",
       "    <tr>\n",
       "      <td>4</td>\n",
       "      <td>880026</td>\n",
       "      <td>1020.166667</td>\n",
       "    </tr>\n",
       "  </tbody>\n",
       "</table>\n",
       "</div>"
      ],
      "text/plain": [
       "   operator_id  call_duration_per_call\n",
       "0       879896             1696.451754\n",
       "1       879898             3726.233333\n",
       "2       880020              299.000000\n",
       "3       880022              512.000000\n",
       "4       880026             1020.166667"
      ]
     },
     "metadata": {},
     "output_type": "display_data"
    }
   ],
   "source": [
    "call_duration_per_operator = waiting_time.groupby('operator_id')['call_duration_per_call'].sum().reset_index()\n",
    "display(call_duration_per_operator.head())"
   ]
  },
  {
   "cell_type": "code",
   "execution_count": 58,
   "metadata": {},
   "outputs": [
    {
     "data": {
      "text/html": [
       "<div>\n",
       "<style scoped>\n",
       "    .dataframe tbody tr th:only-of-type {\n",
       "        vertical-align: middle;\n",
       "    }\n",
       "\n",
       "    .dataframe tbody tr th {\n",
       "        vertical-align: top;\n",
       "    }\n",
       "\n",
       "    .dataframe thead th {\n",
       "        text-align: right;\n",
       "    }\n",
       "</style>\n",
       "<table border=\"1\" class=\"dataframe\">\n",
       "  <thead>\n",
       "    <tr style=\"text-align: right;\">\n",
       "      <th></th>\n",
       "      <th>operator_id</th>\n",
       "      <th>total_call_duration_per_call</th>\n",
       "      <th>call_duration_per_call</th>\n",
       "    </tr>\n",
       "  </thead>\n",
       "  <tbody>\n",
       "    <tr>\n",
       "      <td>0</td>\n",
       "      <td>879896</td>\n",
       "      <td>1972.77193</td>\n",
       "      <td>1696.451754</td>\n",
       "    </tr>\n",
       "    <tr>\n",
       "      <td>1</td>\n",
       "      <td>879898</td>\n",
       "      <td>4521.80000</td>\n",
       "      <td>3726.233333</td>\n",
       "    </tr>\n",
       "    <tr>\n",
       "      <td>2</td>\n",
       "      <td>880020</td>\n",
       "      <td>353.00000</td>\n",
       "      <td>299.000000</td>\n",
       "    </tr>\n",
       "    <tr>\n",
       "      <td>3</td>\n",
       "      <td>880022</td>\n",
       "      <td>624.00000</td>\n",
       "      <td>512.000000</td>\n",
       "    </tr>\n",
       "    <tr>\n",
       "      <td>4</td>\n",
       "      <td>880026</td>\n",
       "      <td>1127.00000</td>\n",
       "      <td>1020.166667</td>\n",
       "    </tr>\n",
       "  </tbody>\n",
       "</table>\n",
       "</div>"
      ],
      "text/plain": [
       "   operator_id  total_call_duration_per_call  call_duration_per_call\n",
       "0       879896                    1972.77193             1696.451754\n",
       "1       879898                    4521.80000             3726.233333\n",
       "2       880020                     353.00000              299.000000\n",
       "3       880022                     624.00000              512.000000\n",
       "4       880026                    1127.00000             1020.166667"
      ]
     },
     "metadata": {},
     "output_type": "display_data"
    },
    {
     "data": {
      "text/plain": [
       "747"
      ]
     },
     "execution_count": 58,
     "metadata": {},
     "output_type": "execute_result"
    }
   ],
   "source": [
    "percentage_call_duration = total_duration_per_operator.merge(call_duration_per_operator, on=\"operator_id\", how=\"left\")\n",
    "display(percentage_call_duration.head())\n",
    "len(percentage_call_duration)"
   ]
  },
  {
   "cell_type": "code",
   "execution_count": 59,
   "metadata": {},
   "outputs": [
    {
     "data": {
      "text/html": [
       "<div>\n",
       "<style scoped>\n",
       "    .dataframe tbody tr th:only-of-type {\n",
       "        vertical-align: middle;\n",
       "    }\n",
       "\n",
       "    .dataframe tbody tr th {\n",
       "        vertical-align: top;\n",
       "    }\n",
       "\n",
       "    .dataframe thead th {\n",
       "        text-align: right;\n",
       "    }\n",
       "</style>\n",
       "<table border=\"1\" class=\"dataframe\">\n",
       "  <thead>\n",
       "    <tr style=\"text-align: right;\">\n",
       "      <th></th>\n",
       "      <th>operator_id</th>\n",
       "      <th>total_call_duration_per_call</th>\n",
       "      <th>call_duration_per_call</th>\n",
       "      <th>percentage_waiting_time</th>\n",
       "      <th>general_percentage</th>\n",
       "      <th>distance_from_mean</th>\n",
       "    </tr>\n",
       "  </thead>\n",
       "  <tbody>\n",
       "    <tr>\n",
       "      <td>0</td>\n",
       "      <td>879896</td>\n",
       "      <td>1972.77193</td>\n",
       "      <td>1696.451754</td>\n",
       "      <td>14.006696</td>\n",
       "      <td>13.738425</td>\n",
       "      <td>0.268271</td>\n",
       "    </tr>\n",
       "    <tr>\n",
       "      <td>1</td>\n",
       "      <td>879898</td>\n",
       "      <td>4521.80000</td>\n",
       "      <td>3726.233333</td>\n",
       "      <td>17.594026</td>\n",
       "      <td>13.738425</td>\n",
       "      <td>3.855601</td>\n",
       "    </tr>\n",
       "    <tr>\n",
       "      <td>2</td>\n",
       "      <td>880020</td>\n",
       "      <td>353.00000</td>\n",
       "      <td>299.000000</td>\n",
       "      <td>15.297450</td>\n",
       "      <td>13.738425</td>\n",
       "      <td>1.559025</td>\n",
       "    </tr>\n",
       "    <tr>\n",
       "      <td>3</td>\n",
       "      <td>880022</td>\n",
       "      <td>624.00000</td>\n",
       "      <td>512.000000</td>\n",
       "      <td>17.948718</td>\n",
       "      <td>13.738425</td>\n",
       "      <td>4.210293</td>\n",
       "    </tr>\n",
       "    <tr>\n",
       "      <td>4</td>\n",
       "      <td>880026</td>\n",
       "      <td>1127.00000</td>\n",
       "      <td>1020.166667</td>\n",
       "      <td>9.479444</td>\n",
       "      <td>13.738425</td>\n",
       "      <td>-4.258981</td>\n",
       "    </tr>\n",
       "  </tbody>\n",
       "</table>\n",
       "</div>"
      ],
      "text/plain": [
       "   operator_id  total_call_duration_per_call  call_duration_per_call  \\\n",
       "0       879896                    1972.77193             1696.451754   \n",
       "1       879898                    4521.80000             3726.233333   \n",
       "2       880020                     353.00000              299.000000   \n",
       "3       880022                     624.00000              512.000000   \n",
       "4       880026                    1127.00000             1020.166667   \n",
       "\n",
       "   percentage_waiting_time  general_percentage  distance_from_mean  \n",
       "0                14.006696           13.738425            0.268271  \n",
       "1                17.594026           13.738425            3.855601  \n",
       "2                15.297450           13.738425            1.559025  \n",
       "3                17.948718           13.738425            4.210293  \n",
       "4                 9.479444           13.738425           -4.258981  "
      ]
     },
     "metadata": {},
     "output_type": "display_data"
    }
   ],
   "source": [
    "percentage_call_duration = percentage_call_duration.fillna(0)\n",
    "percentage_call_duration['percentage_waiting_time'] = 100-(percentage_call_duration['call_duration_per_call']/percentage_call_duration['total_call_duration_per_call']*100)\n",
    "percentage_call_duration['general_percentage'] = 100-(percentage_call_duration['call_duration_per_call'].sum()/ percentage_call_duration['total_call_duration_per_call'].sum()*100)\n",
    "percentage_call_duration['distance_from_mean'] = percentage_call_duration['percentage_waiting_time']-percentage_call_duration['general_percentage']\n",
    "display(percentage_call_duration.head())"
   ]
  },
  {
   "cell_type": "code",
   "execution_count": 60,
   "metadata": {},
   "outputs": [
    {
     "data": {
      "text/plain": [
       "count    747.000000\n",
       "mean       7.385628\n",
       "std       16.782228\n",
       "min      -13.175210\n",
       "25%       -4.084278\n",
       "50%        2.768466\n",
       "75%       13.270716\n",
       "max       82.261575\n",
       "Name: distance_from_mean, dtype: float64"
      ]
     },
     "execution_count": 60,
     "metadata": {},
     "output_type": "execute_result"
    }
   ],
   "source": [
    "percentage_call_duration['distance_from_mean'].describe()"
   ]
  },
  {
   "cell_type": "code",
   "execution_count": 61,
   "metadata": {},
   "outputs": [
    {
     "data": {
      "text/plain": [
       "<matplotlib.axes._subplots.AxesSubplot at 0x7f41954866d0>"
      ]
     },
     "execution_count": 61,
     "metadata": {},
     "output_type": "execute_result"
    },
    {
     "data": {
      "image/png": "[encoded data removed]",
      "text/plain": [
       "<Figure size 432x288 with 1 Axes>"
      ]
     },
     "metadata": {
      "needs_background": "light"
     },
     "output_type": "display_data"
    }
   ],
   "source": [
    "fig = plt.figure()\n",
    "fig.suptitle('percentage waiting time, distance_from_mean', fontsize=14, fontweight='bold')\n",
    "percentage_call_duration.boxplot(column='distance_from_mean', showmeans=True)"
   ]
  },
  {
   "cell_type": "code",
   "execution_count": 62,
   "metadata": {},
   "outputs": [
    {
     "data": {
      "text/html": [
       "<div>\n",
       "<style scoped>\n",
       "    .dataframe tbody tr th:only-of-type {\n",
       "        vertical-align: middle;\n",
       "    }\n",
       "\n",
       "    .dataframe tbody tr th {\n",
       "        vertical-align: top;\n",
       "    }\n",
       "\n",
       "    .dataframe thead th {\n",
       "        text-align: right;\n",
       "    }\n",
       "</style>\n",
       "<table border=\"1\" class=\"dataframe\">\n",
       "  <thead>\n",
       "    <tr style=\"text-align: right;\">\n",
       "      <th></th>\n",
       "      <th>operator_id</th>\n",
       "      <th>total_call_duration_per_call</th>\n",
       "      <th>call_duration_per_call</th>\n",
       "      <th>percentage_waiting_time</th>\n",
       "      <th>general_percentage</th>\n",
       "      <th>distance_from_mean</th>\n",
       "      <th>effectiveness</th>\n",
       "    </tr>\n",
       "  </thead>\n",
       "  <tbody>\n",
       "    <tr>\n",
       "      <td>0</td>\n",
       "      <td>879896</td>\n",
       "      <td>1972.77193</td>\n",
       "      <td>1696.451754</td>\n",
       "      <td>14.006696</td>\n",
       "      <td>13.738425</td>\n",
       "      <td>0.268271</td>\n",
       "      <td>2</td>\n",
       "    </tr>\n",
       "    <tr>\n",
       "      <td>1</td>\n",
       "      <td>879898</td>\n",
       "      <td>4521.80000</td>\n",
       "      <td>3726.233333</td>\n",
       "      <td>17.594026</td>\n",
       "      <td>13.738425</td>\n",
       "      <td>3.855601</td>\n",
       "      <td>1</td>\n",
       "    </tr>\n",
       "    <tr>\n",
       "      <td>2</td>\n",
       "      <td>880020</td>\n",
       "      <td>353.00000</td>\n",
       "      <td>299.000000</td>\n",
       "      <td>15.297450</td>\n",
       "      <td>13.738425</td>\n",
       "      <td>1.559025</td>\n",
       "      <td>2</td>\n",
       "    </tr>\n",
       "    <tr>\n",
       "      <td>3</td>\n",
       "      <td>880022</td>\n",
       "      <td>624.00000</td>\n",
       "      <td>512.000000</td>\n",
       "      <td>17.948718</td>\n",
       "      <td>13.738425</td>\n",
       "      <td>4.210293</td>\n",
       "      <td>1</td>\n",
       "    </tr>\n",
       "    <tr>\n",
       "      <td>4</td>\n",
       "      <td>880026</td>\n",
       "      <td>1127.00000</td>\n",
       "      <td>1020.166667</td>\n",
       "      <td>9.479444</td>\n",
       "      <td>13.738425</td>\n",
       "      <td>-4.258981</td>\n",
       "      <td>3</td>\n",
       "    </tr>\n",
       "  </tbody>\n",
       "</table>\n",
       "</div>"
      ],
      "text/plain": [
       "   operator_id  total_call_duration_per_call  call_duration_per_call  \\\n",
       "0       879896                    1972.77193             1696.451754   \n",
       "1       879898                    4521.80000             3726.233333   \n",
       "2       880020                     353.00000              299.000000   \n",
       "3       880022                     624.00000              512.000000   \n",
       "4       880026                    1127.00000             1020.166667   \n",
       "\n",
       "   percentage_waiting_time  general_percentage  distance_from_mean  \\\n",
       "0                14.006696           13.738425            0.268271   \n",
       "1                17.594026           13.738425            3.855601   \n",
       "2                15.297450           13.738425            1.559025   \n",
       "3                17.948718           13.738425            4.210293   \n",
       "4                 9.479444           13.738425           -4.258981   \n",
       "\n",
       "   effectiveness  \n",
       "0              2  \n",
       "1              1  \n",
       "2              2  \n",
       "3              1  \n",
       "4              3  "
      ]
     },
     "metadata": {},
     "output_type": "display_data"
    }
   ],
   "source": [
    "percentage_call_duration[\"effectiveness\"] = [3 if x<=-4 else 0 for x in percentage_call_duration[\"distance_from_mean\"]]\n",
    "percentage_call_duration.loc[(percentage_call_duration['distance_from_mean'] >-4) & (percentage_call_duration['distance_from_mean'] <=2), 'effectiveness'] = 2\n",
    "percentage_call_duration.loc[(percentage_call_duration['distance_from_mean'] >2) & (percentage_call_duration['distance_from_mean'] <=13), 'effectiveness'] = 1 \n",
    "display(percentage_call_duration.head())"
   ]
  },
  {
   "cell_type": "code",
   "execution_count": 63,
   "metadata": {},
   "outputs": [
    {
     "data": {
      "text/plain": [
       "1    200\n",
       "3    190\n",
       "0    188\n",
       "2    169\n",
       "Name: effectiveness, dtype: int64"
      ]
     },
     "execution_count": 63,
     "metadata": {},
     "output_type": "execute_result"
    }
   ],
   "source": [
    "percentage_call_duration['effectiveness'].value_counts()"
   ]
  },
  {
   "cell_type": "code",
   "execution_count": 64,
   "metadata": {},
   "outputs": [
    {
     "data": {
      "text/plain": [
       "array([[<matplotlib.axes._subplots.AxesSubplot object at 0x7f41953dad50>]],\n",
       "      dtype=object)"
      ]
     },
     "execution_count": 64,
     "metadata": {},
     "output_type": "execute_result"
    },
    {
     "data": {
      "image/png": "[encoded data removed]",
      "text/plain": [
       "<Figure size 432x288 with 1 Axes>"
      ]
     },
     "metadata": {
      "needs_background": "light"
     },
     "output_type": "display_data"
    }
   ],
   "source": [
    "percentage_missed_calls.hist('effectiveness')"
   ]
  },
  {
   "cell_type": "markdown",
   "metadata": {},
   "source": [
    "I divided the operators to \"effectiveness\" groups base on the percentage of waiting time of their incoming calls (with regard to the general percentage). 3 = most effective, 0 = least effective."
   ]
  },
  {
   "cell_type": "markdown",
   "metadata": {},
   "source": [
    "<a id=\"13\"></a> \n",
    "## Find the Operators that supposed to make outgoing calls and make small number of them"
   ]
  },
  {
   "cell_type": "code",
   "execution_count": 65,
   "metadata": {},
   "outputs": [
    {
     "data": {
      "text/html": [
       "<div>\n",
       "<style scoped>\n",
       "    .dataframe tbody tr th:only-of-type {\n",
       "        vertical-align: middle;\n",
       "    }\n",
       "\n",
       "    .dataframe tbody tr th {\n",
       "        vertical-align: top;\n",
       "    }\n",
       "\n",
       "    .dataframe thead th {\n",
       "        text-align: right;\n",
       "    }\n",
       "</style>\n",
       "<table border=\"1\" class=\"dataframe\">\n",
       "  <thead>\n",
       "    <tr style=\"text-align: right;\">\n",
       "      <th></th>\n",
       "      <th>operator_id</th>\n",
       "      <th>total_calls_count</th>\n",
       "    </tr>\n",
       "  </thead>\n",
       "  <tbody>\n",
       "    <tr>\n",
       "      <td>0</td>\n",
       "      <td>879896</td>\n",
       "      <td>926</td>\n",
       "    </tr>\n",
       "    <tr>\n",
       "      <td>1</td>\n",
       "      <td>879898</td>\n",
       "      <td>7196</td>\n",
       "    </tr>\n",
       "    <tr>\n",
       "      <td>2</td>\n",
       "      <td>880020</td>\n",
       "      <td>45</td>\n",
       "    </tr>\n",
       "    <tr>\n",
       "      <td>3</td>\n",
       "      <td>880022</td>\n",
       "      <td>193</td>\n",
       "    </tr>\n",
       "    <tr>\n",
       "      <td>4</td>\n",
       "      <td>880026</td>\n",
       "      <td>2232</td>\n",
       "    </tr>\n",
       "  </tbody>\n",
       "</table>\n",
       "</div>"
      ],
      "text/plain": [
       "   operator_id  total_calls_count\n",
       "0       879896                926\n",
       "1       879898               7196\n",
       "2       880020                 45\n",
       "3       880022                193\n",
       "4       880026               2232"
      ]
     },
     "metadata": {},
     "output_type": "display_data"
    }
   ],
   "source": [
    "all_calls_per_operator = dataset.groupby('operator_id')['calls_count'].sum().reset_index()\n",
    "all_calls_per_operator = all_calls_per_operator.rename(columns={'calls_count': 'total_calls_count'})\n",
    "all_calls_per_operator = all_calls_per_operator.dropna()\n",
    "display(all_calls_per_operator.head())"
   ]
  },
  {
   "cell_type": "code",
   "execution_count": 66,
   "metadata": {},
   "outputs": [
    {
     "data": {
      "text/html": [
       "<div>\n",
       "<style scoped>\n",
       "    .dataframe tbody tr th:only-of-type {\n",
       "        vertical-align: middle;\n",
       "    }\n",
       "\n",
       "    .dataframe tbody tr th {\n",
       "        vertical-align: top;\n",
       "    }\n",
       "\n",
       "    .dataframe thead th {\n",
       "        text-align: right;\n",
       "    }\n",
       "</style>\n",
       "<table border=\"1\" class=\"dataframe\">\n",
       "  <thead>\n",
       "    <tr style=\"text-align: right;\">\n",
       "      <th></th>\n",
       "      <th>user_id</th>\n",
       "      <th>date</th>\n",
       "      <th>direction</th>\n",
       "      <th>internal</th>\n",
       "      <th>operator_id</th>\n",
       "      <th>is_missed_call</th>\n",
       "      <th>calls_count</th>\n",
       "      <th>call_duration</th>\n",
       "      <th>total_call_duration</th>\n",
       "      <th>call_duration_per_call</th>\n",
       "      <th>total_call_duration_per_call</th>\n",
       "    </tr>\n",
       "  </thead>\n",
       "  <tbody>\n",
       "    <tr>\n",
       "      <td>4</td>\n",
       "      <td>166377</td>\n",
       "      <td>2019-08-04</td>\n",
       "      <td>out</td>\n",
       "      <td>False</td>\n",
       "      <td>880022</td>\n",
       "      <td>True</td>\n",
       "      <td>3</td>\n",
       "      <td>0</td>\n",
       "      <td>25</td>\n",
       "      <td>0.0</td>\n",
       "      <td>8.333333</td>\n",
       "    </tr>\n",
       "    <tr>\n",
       "      <td>5</td>\n",
       "      <td>166377</td>\n",
       "      <td>2019-08-04</td>\n",
       "      <td>out</td>\n",
       "      <td>False</td>\n",
       "      <td>880020</td>\n",
       "      <td>False</td>\n",
       "      <td>2</td>\n",
       "      <td>3</td>\n",
       "      <td>29</td>\n",
       "      <td>1.5</td>\n",
       "      <td>14.500000</td>\n",
       "    </tr>\n",
       "    <tr>\n",
       "      <td>6</td>\n",
       "      <td>166377</td>\n",
       "      <td>2019-08-04</td>\n",
       "      <td>out</td>\n",
       "      <td>False</td>\n",
       "      <td>880020</td>\n",
       "      <td>True</td>\n",
       "      <td>8</td>\n",
       "      <td>0</td>\n",
       "      <td>50</td>\n",
       "      <td>0.0</td>\n",
       "      <td>6.250000</td>\n",
       "    </tr>\n",
       "    <tr>\n",
       "      <td>10</td>\n",
       "      <td>166377</td>\n",
       "      <td>2019-08-05</td>\n",
       "      <td>out</td>\n",
       "      <td>False</td>\n",
       "      <td>881278</td>\n",
       "      <td>True</td>\n",
       "      <td>3</td>\n",
       "      <td>0</td>\n",
       "      <td>29</td>\n",
       "      <td>0.0</td>\n",
       "      <td>9.666667</td>\n",
       "    </tr>\n",
       "    <tr>\n",
       "      <td>11</td>\n",
       "      <td>166377</td>\n",
       "      <td>2019-08-05</td>\n",
       "      <td>out</td>\n",
       "      <td>False</td>\n",
       "      <td>880020</td>\n",
       "      <td>True</td>\n",
       "      <td>5</td>\n",
       "      <td>0</td>\n",
       "      <td>70</td>\n",
       "      <td>0.0</td>\n",
       "      <td>14.000000</td>\n",
       "    </tr>\n",
       "  </tbody>\n",
       "</table>\n",
       "</div>"
      ],
      "text/plain": [
       "    user_id       date direction internal  operator_id  is_missed_call  \\\n",
       "4    166377 2019-08-04       out    False       880022            True   \n",
       "5    166377 2019-08-04       out    False       880020           False   \n",
       "6    166377 2019-08-04       out    False       880020            True   \n",
       "10   166377 2019-08-05       out    False       881278            True   \n",
       "11   166377 2019-08-05       out    False       880020            True   \n",
       "\n",
       "    calls_count  call_duration  total_call_duration  call_duration_per_call  \\\n",
       "4             3              0                   25                     0.0   \n",
       "5             2              3                   29                     1.5   \n",
       "6             8              0                   50                     0.0   \n",
       "10            3              0                   29                     0.0   \n",
       "11            5              0                   70                     0.0   \n",
       "\n",
       "    total_call_duration_per_call  \n",
       "4                       8.333333  \n",
       "5                      14.500000  \n",
       "6                       6.250000  \n",
       "10                      9.666667  \n",
       "11                     14.000000  "
      ]
     },
     "metadata": {},
     "output_type": "display_data"
    }
   ],
   "source": [
    "outgoing_calls = dataset[(dataset['direction']==\"out\") & (dataset['internal']==False)]\n",
    "display(outgoing_calls.head())"
   ]
  },
  {
   "cell_type": "code",
   "execution_count": 67,
   "metadata": {},
   "outputs": [
    {
     "data": {
      "text/html": [
       "<div>\n",
       "<style scoped>\n",
       "    .dataframe tbody tr th:only-of-type {\n",
       "        vertical-align: middle;\n",
       "    }\n",
       "\n",
       "    .dataframe tbody tr th {\n",
       "        vertical-align: top;\n",
       "    }\n",
       "\n",
       "    .dataframe thead th {\n",
       "        text-align: right;\n",
       "    }\n",
       "</style>\n",
       "<table border=\"1\" class=\"dataframe\">\n",
       "  <thead>\n",
       "    <tr style=\"text-align: right;\">\n",
       "      <th></th>\n",
       "      <th>operator_id</th>\n",
       "      <th>outgoing_calls_count</th>\n",
       "    </tr>\n",
       "  </thead>\n",
       "  <tbody>\n",
       "    <tr>\n",
       "      <td>0</td>\n",
       "      <td>879896</td>\n",
       "      <td>811</td>\n",
       "    </tr>\n",
       "    <tr>\n",
       "      <td>1</td>\n",
       "      <td>879898</td>\n",
       "      <td>7035</td>\n",
       "    </tr>\n",
       "    <tr>\n",
       "      <td>2</td>\n",
       "      <td>880020</td>\n",
       "      <td>34</td>\n",
       "    </tr>\n",
       "    <tr>\n",
       "      <td>3</td>\n",
       "      <td>880022</td>\n",
       "      <td>170</td>\n",
       "    </tr>\n",
       "    <tr>\n",
       "      <td>4</td>\n",
       "      <td>880026</td>\n",
       "      <td>2188</td>\n",
       "    </tr>\n",
       "  </tbody>\n",
       "</table>\n",
       "</div>"
      ],
      "text/plain": [
       "   operator_id  outgoing_calls_count\n",
       "0       879896                   811\n",
       "1       879898                  7035\n",
       "2       880020                    34\n",
       "3       880022                   170\n",
       "4       880026                  2188"
      ]
     },
     "metadata": {},
     "output_type": "display_data"
    },
    {
     "data": {
      "text/plain": [
       "830"
      ]
     },
     "metadata": {},
     "output_type": "display_data"
    }
   ],
   "source": [
    "outgoing_calls_per_operator = outgoing_calls.groupby('operator_id')['calls_count'].sum().reset_index()\n",
    "outgoing_calls_per_operator = outgoing_calls_per_operator.rename(columns={'calls_count': 'outgoing_calls_count'})\n",
    "display(outgoing_calls_per_operator.head())\n",
    "display(len(outgoing_calls_per_operator))"
   ]
  },
  {
   "cell_type": "code",
   "execution_count": 68,
   "metadata": {},
   "outputs": [
    {
     "data": {
      "text/html": [
       "<div>\n",
       "<style scoped>\n",
       "    .dataframe tbody tr th:only-of-type {\n",
       "        vertical-align: middle;\n",
       "    }\n",
       "\n",
       "    .dataframe tbody tr th {\n",
       "        vertical-align: top;\n",
       "    }\n",
       "\n",
       "    .dataframe thead th {\n",
       "        text-align: right;\n",
       "    }\n",
       "</style>\n",
       "<table border=\"1\" class=\"dataframe\">\n",
       "  <thead>\n",
       "    <tr style=\"text-align: right;\">\n",
       "      <th></th>\n",
       "      <th>operator_id</th>\n",
       "      <th>outgoing_calls_count</th>\n",
       "      <th>total_calls_count</th>\n",
       "    </tr>\n",
       "  </thead>\n",
       "  <tbody>\n",
       "    <tr>\n",
       "      <td>0</td>\n",
       "      <td>879896</td>\n",
       "      <td>811</td>\n",
       "      <td>926</td>\n",
       "    </tr>\n",
       "    <tr>\n",
       "      <td>1</td>\n",
       "      <td>879898</td>\n",
       "      <td>7035</td>\n",
       "      <td>7196</td>\n",
       "    </tr>\n",
       "    <tr>\n",
       "      <td>2</td>\n",
       "      <td>880020</td>\n",
       "      <td>34</td>\n",
       "      <td>45</td>\n",
       "    </tr>\n",
       "    <tr>\n",
       "      <td>3</td>\n",
       "      <td>880022</td>\n",
       "      <td>170</td>\n",
       "      <td>193</td>\n",
       "    </tr>\n",
       "    <tr>\n",
       "      <td>4</td>\n",
       "      <td>880026</td>\n",
       "      <td>2188</td>\n",
       "      <td>2232</td>\n",
       "    </tr>\n",
       "  </tbody>\n",
       "</table>\n",
       "</div>"
      ],
      "text/plain": [
       "   operator_id  outgoing_calls_count  total_calls_count\n",
       "0       879896                   811                926\n",
       "1       879898                  7035               7196\n",
       "2       880020                    34                 45\n",
       "3       880022                   170                193\n",
       "4       880026                  2188               2232"
      ]
     },
     "metadata": {},
     "output_type": "display_data"
    },
    {
     "data": {
      "text/plain": [
       "830"
      ]
     },
     "metadata": {},
     "output_type": "display_data"
    }
   ],
   "source": [
    "percentage_outgoing_calls = outgoing_calls_per_operator.merge(all_calls_per_operator, on=\"operator_id\", how=\"left\")\n",
    "display(percentage_outgoing_calls.head())\n",
    "display(len(percentage_outgoing_calls))"
   ]
  },
  {
   "cell_type": "code",
   "execution_count": 69,
   "metadata": {},
   "outputs": [
    {
     "data": {
      "text/html": [
       "<div>\n",
       "<style scoped>\n",
       "    .dataframe tbody tr th:only-of-type {\n",
       "        vertical-align: middle;\n",
       "    }\n",
       "\n",
       "    .dataframe tbody tr th {\n",
       "        vertical-align: top;\n",
       "    }\n",
       "\n",
       "    .dataframe thead th {\n",
       "        text-align: right;\n",
       "    }\n",
       "</style>\n",
       "<table border=\"1\" class=\"dataframe\">\n",
       "  <thead>\n",
       "    <tr style=\"text-align: right;\">\n",
       "      <th></th>\n",
       "      <th>operator_id</th>\n",
       "      <th>outgoing_calls_count</th>\n",
       "      <th>total_calls_count</th>\n",
       "      <th>percentage_outgoing_calls</th>\n",
       "      <th>general_percentage</th>\n",
       "      <th>distance_from_mean</th>\n",
       "    </tr>\n",
       "  </thead>\n",
       "  <tbody>\n",
       "    <tr>\n",
       "      <td>0</td>\n",
       "      <td>879896</td>\n",
       "      <td>811</td>\n",
       "      <td>926</td>\n",
       "      <td>87.580994</td>\n",
       "      <td>79.421077</td>\n",
       "      <td>8.159916</td>\n",
       "    </tr>\n",
       "    <tr>\n",
       "      <td>1</td>\n",
       "      <td>879898</td>\n",
       "      <td>7035</td>\n",
       "      <td>7196</td>\n",
       "      <td>97.762646</td>\n",
       "      <td>79.421077</td>\n",
       "      <td>18.341569</td>\n",
       "    </tr>\n",
       "    <tr>\n",
       "      <td>2</td>\n",
       "      <td>880020</td>\n",
       "      <td>34</td>\n",
       "      <td>45</td>\n",
       "      <td>75.555556</td>\n",
       "      <td>79.421077</td>\n",
       "      <td>-3.865522</td>\n",
       "    </tr>\n",
       "    <tr>\n",
       "      <td>3</td>\n",
       "      <td>880022</td>\n",
       "      <td>170</td>\n",
       "      <td>193</td>\n",
       "      <td>88.082902</td>\n",
       "      <td>79.421077</td>\n",
       "      <td>8.661824</td>\n",
       "    </tr>\n",
       "    <tr>\n",
       "      <td>4</td>\n",
       "      <td>880026</td>\n",
       "      <td>2188</td>\n",
       "      <td>2232</td>\n",
       "      <td>98.028674</td>\n",
       "      <td>79.421077</td>\n",
       "      <td>18.607597</td>\n",
       "    </tr>\n",
       "  </tbody>\n",
       "</table>\n",
       "</div>"
      ],
      "text/plain": [
       "   operator_id  outgoing_calls_count  total_calls_count  \\\n",
       "0       879896                   811                926   \n",
       "1       879898                  7035               7196   \n",
       "2       880020                    34                 45   \n",
       "3       880022                   170                193   \n",
       "4       880026                  2188               2232   \n",
       "\n",
       "   percentage_outgoing_calls  general_percentage  distance_from_mean  \n",
       "0                  87.580994           79.421077            8.159916  \n",
       "1                  97.762646           79.421077           18.341569  \n",
       "2                  75.555556           79.421077           -3.865522  \n",
       "3                  88.082902           79.421077            8.661824  \n",
       "4                  98.028674           79.421077           18.607597  "
      ]
     },
     "metadata": {},
     "output_type": "display_data"
    }
   ],
   "source": [
    "percentage_outgoing_calls['percentage_outgoing_calls'] = percentage_outgoing_calls['outgoing_calls_count']/percentage_outgoing_calls['total_calls_count']*100\n",
    "percentage_outgoing_calls['general_percentage'] = percentage_outgoing_calls['outgoing_calls_count'].sum()/ percentage_outgoing_calls['total_calls_count'].sum()*100\n",
    "percentage_outgoing_calls['distance_from_mean'] = percentage_outgoing_calls['percentage_outgoing_calls']-percentage_outgoing_calls['general_percentage']\n",
    "display(percentage_outgoing_calls.head())"
   ]
  },
  {
   "cell_type": "code",
   "execution_count": 70,
   "metadata": {},
   "outputs": [
    {
     "data": {
      "text/plain": [
       "count    830.000000\n",
       "mean     -11.767830\n",
       "std       32.496762\n",
       "min      -79.313086\n",
       "25%      -34.675932\n",
       "50%       -2.512212\n",
       "75%       19.503033\n",
       "max       20.578923\n",
       "Name: distance_from_mean, dtype: float64"
      ]
     },
     "execution_count": 70,
     "metadata": {},
     "output_type": "execute_result"
    }
   ],
   "source": [
    "percentage_outgoing_calls['distance_from_mean'].describe()"
   ]
  },
  {
   "cell_type": "code",
   "execution_count": 71,
   "metadata": {},
   "outputs": [
    {
     "data": {
      "text/plain": [
       "<matplotlib.axes._subplots.AxesSubplot at 0x7f419553f3d0>"
      ]
     },
     "execution_count": 71,
     "metadata": {},
     "output_type": "execute_result"
    },
    {
     "data": {
      "image/png": "[encoded data removed]",
      "text/plain": [
       "<Figure size 432x288 with 1 Axes>"
      ]
     },
     "metadata": {
      "needs_background": "light"
     },
     "output_type": "display_data"
    }
   ],
   "source": [
    "fig = plt.figure()\n",
    "fig.suptitle('Percentage outgoing calls, distance_from_mean', fontsize=14, fontweight='bold')\n",
    "percentage_outgoing_calls.boxplot(column='distance_from_mean', showmeans=True)"
   ]
  },
  {
   "cell_type": "code",
   "execution_count": 72,
   "metadata": {},
   "outputs": [
    {
     "data": {
      "text/html": [
       "<div>\n",
       "<style scoped>\n",
       "    .dataframe tbody tr th:only-of-type {\n",
       "        vertical-align: middle;\n",
       "    }\n",
       "\n",
       "    .dataframe tbody tr th {\n",
       "        vertical-align: top;\n",
       "    }\n",
       "\n",
       "    .dataframe thead th {\n",
       "        text-align: right;\n",
       "    }\n",
       "</style>\n",
       "<table border=\"1\" class=\"dataframe\">\n",
       "  <thead>\n",
       "    <tr style=\"text-align: right;\">\n",
       "      <th></th>\n",
       "      <th>operator_id</th>\n",
       "      <th>outgoing_calls_count</th>\n",
       "      <th>total_calls_count</th>\n",
       "      <th>percentage_outgoing_calls</th>\n",
       "      <th>general_percentage</th>\n",
       "      <th>distance_from_mean</th>\n",
       "      <th>effectiveness</th>\n",
       "    </tr>\n",
       "  </thead>\n",
       "  <tbody>\n",
       "    <tr>\n",
       "      <td>0</td>\n",
       "      <td>879896</td>\n",
       "      <td>811</td>\n",
       "      <td>926</td>\n",
       "      <td>87.580994</td>\n",
       "      <td>79.421077</td>\n",
       "      <td>8.159916</td>\n",
       "      <td>2</td>\n",
       "    </tr>\n",
       "    <tr>\n",
       "      <td>1</td>\n",
       "      <td>879898</td>\n",
       "      <td>7035</td>\n",
       "      <td>7196</td>\n",
       "      <td>97.762646</td>\n",
       "      <td>79.421077</td>\n",
       "      <td>18.341569</td>\n",
       "      <td>2</td>\n",
       "    </tr>\n",
       "    <tr>\n",
       "      <td>2</td>\n",
       "      <td>880020</td>\n",
       "      <td>34</td>\n",
       "      <td>45</td>\n",
       "      <td>75.555556</td>\n",
       "      <td>79.421077</td>\n",
       "      <td>-3.865522</td>\n",
       "      <td>1</td>\n",
       "    </tr>\n",
       "    <tr>\n",
       "      <td>3</td>\n",
       "      <td>880022</td>\n",
       "      <td>170</td>\n",
       "      <td>193</td>\n",
       "      <td>88.082902</td>\n",
       "      <td>79.421077</td>\n",
       "      <td>8.661824</td>\n",
       "      <td>2</td>\n",
       "    </tr>\n",
       "    <tr>\n",
       "      <td>4</td>\n",
       "      <td>880026</td>\n",
       "      <td>2188</td>\n",
       "      <td>2232</td>\n",
       "      <td>98.028674</td>\n",
       "      <td>79.421077</td>\n",
       "      <td>18.607597</td>\n",
       "      <td>2</td>\n",
       "    </tr>\n",
       "  </tbody>\n",
       "</table>\n",
       "</div>"
      ],
      "text/plain": [
       "   operator_id  outgoing_calls_count  total_calls_count  \\\n",
       "0       879896                   811                926   \n",
       "1       879898                  7035               7196   \n",
       "2       880020                    34                 45   \n",
       "3       880022                   170                193   \n",
       "4       880026                  2188               2232   \n",
       "\n",
       "   percentage_outgoing_calls  general_percentage  distance_from_mean  \\\n",
       "0                  87.580994           79.421077            8.159916   \n",
       "1                  97.762646           79.421077           18.341569   \n",
       "2                  75.555556           79.421077           -3.865522   \n",
       "3                  88.082902           79.421077            8.661824   \n",
       "4                  98.028674           79.421077           18.607597   \n",
       "\n",
       "   effectiveness  \n",
       "0              2  \n",
       "1              2  \n",
       "2              1  \n",
       "3              2  \n",
       "4              2  "
      ]
     },
     "metadata": {},
     "output_type": "display_data"
    }
   ],
   "source": [
    "percentage_outgoing_calls[\"effectiveness\"] = [3 if x>=19.5 else 0 for x in percentage_outgoing_calls[\"distance_from_mean\"]]\n",
    "percentage_outgoing_calls.loc[(percentage_outgoing_calls['distance_from_mean'] <19.5) & (percentage_outgoing_calls['distance_from_mean'] >=-2.5), 'effectiveness'] = 2\n",
    "percentage_outgoing_calls.loc[(percentage_outgoing_calls['distance_from_mean'] <-2.5) & (percentage_outgoing_calls['distance_from_mean'] >=-34.67), 'effectiveness'] = 1 \n",
    "display(percentage_outgoing_calls.head())"
   ]
  },
  {
   "cell_type": "code",
   "execution_count": 73,
   "metadata": {},
   "outputs": [
    {
     "data": {
      "text/plain": [
       "3    209\n",
       "0    208\n",
       "1    207\n",
       "2    206\n",
       "Name: effectiveness, dtype: int64"
      ]
     },
     "execution_count": 73,
     "metadata": {},
     "output_type": "execute_result"
    }
   ],
   "source": [
    "percentage_outgoing_calls['effectiveness'].value_counts()"
   ]
  },
  {
   "cell_type": "code",
   "execution_count": 74,
   "metadata": {},
   "outputs": [
    {
     "data": {
      "text/plain": [
       "array([[<matplotlib.axes._subplots.AxesSubplot object at 0x7f41956d2350>]],\n",
       "      dtype=object)"
      ]
     },
     "execution_count": 74,
     "metadata": {},
     "output_type": "execute_result"
    },
    {
     "data": {
      "image/png": "[encoded data removed]",
      "text/plain": [
       "<Figure size 432x288 with 1 Axes>"
      ]
     },
     "metadata": {
      "needs_background": "light"
     },
     "output_type": "display_data"
    }
   ],
   "source": [
    "percentage_outgoing_calls.hist('effectiveness')"
   ]
  },
  {
   "cell_type": "markdown",
   "metadata": {},
   "source": [
    "I divided the operators to \"effectiveness\" groups base on the percentage of external outgoing calls they had (with regard to the general percentage). 3 = most effective, 0 = least effective. "
   ]
  },
  {
   "cell_type": "markdown",
   "metadata": {},
   "source": [
    "<a id=\"14\"></a> \n",
    "## Identifying Ineffective Operators"
   ]
  },
  {
   "cell_type": "code",
   "execution_count": 75,
   "metadata": {},
   "outputs": [
    {
     "data": {
      "text/html": [
       "<div>\n",
       "<style scoped>\n",
       "    .dataframe tbody tr th:only-of-type {\n",
       "        vertical-align: middle;\n",
       "    }\n",
       "\n",
       "    .dataframe tbody tr th {\n",
       "        vertical-align: top;\n",
       "    }\n",
       "\n",
       "    .dataframe thead th {\n",
       "        text-align: right;\n",
       "    }\n",
       "</style>\n",
       "<table border=\"1\" class=\"dataframe\">\n",
       "  <thead>\n",
       "    <tr style=\"text-align: right;\">\n",
       "      <th></th>\n",
       "      <th>index</th>\n",
       "      <th>operator_id</th>\n",
       "    </tr>\n",
       "  </thead>\n",
       "  <tbody>\n",
       "    <tr>\n",
       "      <td>0</td>\n",
       "      <td>1</td>\n",
       "      <td>880022</td>\n",
       "    </tr>\n",
       "    <tr>\n",
       "      <td>1</td>\n",
       "      <td>2</td>\n",
       "      <td>880020</td>\n",
       "    </tr>\n",
       "    <tr>\n",
       "      <td>2</td>\n",
       "      <td>10</td>\n",
       "      <td>881278</td>\n",
       "    </tr>\n",
       "    <tr>\n",
       "      <td>3</td>\n",
       "      <td>14</td>\n",
       "      <td>880028</td>\n",
       "    </tr>\n",
       "    <tr>\n",
       "      <td>4</td>\n",
       "      <td>15</td>\n",
       "      <td>880026</td>\n",
       "    </tr>\n",
       "  </tbody>\n",
       "</table>\n",
       "</div>"
      ],
      "text/plain": [
       "   index  operator_id\n",
       "0      1       880022\n",
       "1      2       880020\n",
       "2     10       881278\n",
       "3     14       880028\n",
       "4     15       880026"
      ]
     },
     "metadata": {},
     "output_type": "display_data"
    }
   ],
   "source": [
    "operators = dataset['operator_id'].drop_duplicates().reset_index()\n",
    "display(operators.head())"
   ]
  },
  {
   "cell_type": "code",
   "execution_count": 76,
   "metadata": {},
   "outputs": [
    {
     "data": {
      "text/html": [
       "<div>\n",
       "<style scoped>\n",
       "    .dataframe tbody tr th:only-of-type {\n",
       "        vertical-align: middle;\n",
       "    }\n",
       "\n",
       "    .dataframe tbody tr th {\n",
       "        vertical-align: top;\n",
       "    }\n",
       "\n",
       "    .dataframe thead th {\n",
       "        text-align: right;\n",
       "    }\n",
       "</style>\n",
       "<table border=\"1\" class=\"dataframe\">\n",
       "  <thead>\n",
       "    <tr style=\"text-align: right;\">\n",
       "      <th></th>\n",
       "      <th>operator_id</th>\n",
       "      <th>total_incoming_calls_count</th>\n",
       "      <th>missed_incoming_calls_count</th>\n",
       "      <th>missed_incoming_calls_percentage</th>\n",
       "      <th>general_percentage</th>\n",
       "      <th>distance_from_mean</th>\n",
       "      <th>effectiveness</th>\n",
       "    </tr>\n",
       "  </thead>\n",
       "  <tbody>\n",
       "    <tr>\n",
       "      <td>0</td>\n",
       "      <td>879896</td>\n",
       "      <td>59</td>\n",
       "      <td>2.0</td>\n",
       "      <td>3.389831</td>\n",
       "      <td>12.20016</td>\n",
       "      <td>-8.810329</td>\n",
       "      <td>2</td>\n",
       "    </tr>\n",
       "    <tr>\n",
       "      <td>1</td>\n",
       "      <td>879898</td>\n",
       "      <td>143</td>\n",
       "      <td>40.0</td>\n",
       "      <td>27.972028</td>\n",
       "      <td>12.20016</td>\n",
       "      <td>15.771868</td>\n",
       "      <td>1</td>\n",
       "    </tr>\n",
       "    <tr>\n",
       "      <td>2</td>\n",
       "      <td>880020</td>\n",
       "      <td>7</td>\n",
       "      <td>0.0</td>\n",
       "      <td>0.000000</td>\n",
       "      <td>12.20016</td>\n",
       "      <td>-12.200160</td>\n",
       "      <td>3</td>\n",
       "    </tr>\n",
       "    <tr>\n",
       "      <td>3</td>\n",
       "      <td>880022</td>\n",
       "      <td>8</td>\n",
       "      <td>0.0</td>\n",
       "      <td>0.000000</td>\n",
       "      <td>12.20016</td>\n",
       "      <td>-12.200160</td>\n",
       "      <td>3</td>\n",
       "    </tr>\n",
       "    <tr>\n",
       "      <td>4</td>\n",
       "      <td>880026</td>\n",
       "      <td>24</td>\n",
       "      <td>0.0</td>\n",
       "      <td>0.000000</td>\n",
       "      <td>12.20016</td>\n",
       "      <td>-12.200160</td>\n",
       "      <td>3</td>\n",
       "    </tr>\n",
       "    <tr>\n",
       "      <td>...</td>\n",
       "      <td>...</td>\n",
       "      <td>...</td>\n",
       "      <td>...</td>\n",
       "      <td>...</td>\n",
       "      <td>...</td>\n",
       "      <td>...</td>\n",
       "      <td>...</td>\n",
       "    </tr>\n",
       "    <tr>\n",
       "      <td>793</td>\n",
       "      <td>971102</td>\n",
       "      <td>111</td>\n",
       "      <td>35.0</td>\n",
       "      <td>31.531532</td>\n",
       "      <td>12.20016</td>\n",
       "      <td>19.331372</td>\n",
       "      <td>1</td>\n",
       "    </tr>\n",
       "    <tr>\n",
       "      <td>794</td>\n",
       "      <td>971354</td>\n",
       "      <td>11</td>\n",
       "      <td>5.0</td>\n",
       "      <td>45.454545</td>\n",
       "      <td>12.20016</td>\n",
       "      <td>33.254386</td>\n",
       "      <td>0</td>\n",
       "    </tr>\n",
       "    <tr>\n",
       "      <td>795</td>\n",
       "      <td>972412</td>\n",
       "      <td>1</td>\n",
       "      <td>0.0</td>\n",
       "      <td>0.000000</td>\n",
       "      <td>12.20016</td>\n",
       "      <td>-12.200160</td>\n",
       "      <td>3</td>\n",
       "    </tr>\n",
       "    <tr>\n",
       "      <td>796</td>\n",
       "      <td>972460</td>\n",
       "      <td>2</td>\n",
       "      <td>1.0</td>\n",
       "      <td>50.000000</td>\n",
       "      <td>12.20016</td>\n",
       "      <td>37.799840</td>\n",
       "      <td>0</td>\n",
       "    </tr>\n",
       "    <tr>\n",
       "      <td>797</td>\n",
       "      <td>973286</td>\n",
       "      <td>9</td>\n",
       "      <td>7.0</td>\n",
       "      <td>77.777778</td>\n",
       "      <td>12.20016</td>\n",
       "      <td>65.577618</td>\n",
       "      <td>0</td>\n",
       "    </tr>\n",
       "  </tbody>\n",
       "</table>\n",
       "<p>798 rows × 7 columns</p>\n",
       "</div>"
      ],
      "text/plain": [
       "     operator_id  total_incoming_calls_count  missed_incoming_calls_count  \\\n",
       "0         879896                          59                          2.0   \n",
       "1         879898                         143                         40.0   \n",
       "2         880020                           7                          0.0   \n",
       "3         880022                           8                          0.0   \n",
       "4         880026                          24                          0.0   \n",
       "..           ...                         ...                          ...   \n",
       "793       971102                         111                         35.0   \n",
       "794       971354                          11                          5.0   \n",
       "795       972412                           1                          0.0   \n",
       "796       972460                           2                          1.0   \n",
       "797       973286                           9                          7.0   \n",
       "\n",
       "     missed_incoming_calls_percentage  general_percentage  distance_from_mean  \\\n",
       "0                            3.389831            12.20016           -8.810329   \n",
       "1                           27.972028            12.20016           15.771868   \n",
       "2                            0.000000            12.20016          -12.200160   \n",
       "3                            0.000000            12.20016          -12.200160   \n",
       "4                            0.000000            12.20016          -12.200160   \n",
       "..                                ...                 ...                 ...   \n",
       "793                         31.531532            12.20016           19.331372   \n",
       "794                         45.454545            12.20016           33.254386   \n",
       "795                          0.000000            12.20016          -12.200160   \n",
       "796                         50.000000            12.20016           37.799840   \n",
       "797                         77.777778            12.20016           65.577618   \n",
       "\n",
       "     effectiveness  \n",
       "0                2  \n",
       "1                1  \n",
       "2                3  \n",
       "3                3  \n",
       "4                3  \n",
       "..             ...  \n",
       "793              1  \n",
       "794              0  \n",
       "795              3  \n",
       "796              0  \n",
       "797              0  \n",
       "\n",
       "[798 rows x 7 columns]"
      ]
     },
     "execution_count": 76,
     "metadata": {},
     "output_type": "execute_result"
    }
   ],
   "source": [
    "percentage_missed_calls"
   ]
  },
  {
   "cell_type": "code",
   "execution_count": 77,
   "metadata": {},
   "outputs": [
    {
     "data": {
      "text/html": [
       "<div>\n",
       "<style scoped>\n",
       "    .dataframe tbody tr th:only-of-type {\n",
       "        vertical-align: middle;\n",
       "    }\n",
       "\n",
       "    .dataframe tbody tr th {\n",
       "        vertical-align: top;\n",
       "    }\n",
       "\n",
       "    .dataframe thead th {\n",
       "        text-align: right;\n",
       "    }\n",
       "</style>\n",
       "<table border=\"1\" class=\"dataframe\">\n",
       "  <thead>\n",
       "    <tr style=\"text-align: right;\">\n",
       "      <th></th>\n",
       "      <th>index</th>\n",
       "      <th>operator_id</th>\n",
       "      <th>total_incoming_calls_count</th>\n",
       "      <th>missed_incoming_calls_count</th>\n",
       "      <th>missed_incoming_calls_percentage</th>\n",
       "      <th>general_percentage</th>\n",
       "      <th>distance_from_mean</th>\n",
       "      <th>effectiveness: missed_incoming_calls</th>\n",
       "    </tr>\n",
       "  </thead>\n",
       "  <tbody>\n",
       "    <tr>\n",
       "      <td>0</td>\n",
       "      <td>1</td>\n",
       "      <td>880022</td>\n",
       "      <td>8.0</td>\n",
       "      <td>0.0</td>\n",
       "      <td>0.000000</td>\n",
       "      <td>12.20016</td>\n",
       "      <td>-12.200160</td>\n",
       "      <td>3.0</td>\n",
       "    </tr>\n",
       "    <tr>\n",
       "      <td>1</td>\n",
       "      <td>2</td>\n",
       "      <td>880020</td>\n",
       "      <td>7.0</td>\n",
       "      <td>0.0</td>\n",
       "      <td>0.000000</td>\n",
       "      <td>12.20016</td>\n",
       "      <td>-12.200160</td>\n",
       "      <td>3.0</td>\n",
       "    </tr>\n",
       "    <tr>\n",
       "      <td>2</td>\n",
       "      <td>10</td>\n",
       "      <td>881278</td>\n",
       "      <td>NaN</td>\n",
       "      <td>NaN</td>\n",
       "      <td>NaN</td>\n",
       "      <td>NaN</td>\n",
       "      <td>NaN</td>\n",
       "      <td>NaN</td>\n",
       "    </tr>\n",
       "    <tr>\n",
       "      <td>3</td>\n",
       "      <td>14</td>\n",
       "      <td>880028</td>\n",
       "      <td>65.0</td>\n",
       "      <td>2.0</td>\n",
       "      <td>3.076923</td>\n",
       "      <td>12.20016</td>\n",
       "      <td>-9.123237</td>\n",
       "      <td>2.0</td>\n",
       "    </tr>\n",
       "    <tr>\n",
       "      <td>4</td>\n",
       "      <td>15</td>\n",
       "      <td>880026</td>\n",
       "      <td>24.0</td>\n",
       "      <td>0.0</td>\n",
       "      <td>0.000000</td>\n",
       "      <td>12.20016</td>\n",
       "      <td>-12.200160</td>\n",
       "      <td>3.0</td>\n",
       "    </tr>\n",
       "  </tbody>\n",
       "</table>\n",
       "</div>"
      ],
      "text/plain": [
       "   index  operator_id  total_incoming_calls_count  \\\n",
       "0      1       880022                         8.0   \n",
       "1      2       880020                         7.0   \n",
       "2     10       881278                         NaN   \n",
       "3     14       880028                        65.0   \n",
       "4     15       880026                        24.0   \n",
       "\n",
       "   missed_incoming_calls_count  missed_incoming_calls_percentage  \\\n",
       "0                          0.0                          0.000000   \n",
       "1                          0.0                          0.000000   \n",
       "2                          NaN                               NaN   \n",
       "3                          2.0                          3.076923   \n",
       "4                          0.0                          0.000000   \n",
       "\n",
       "   general_percentage  distance_from_mean  \\\n",
       "0            12.20016          -12.200160   \n",
       "1            12.20016          -12.200160   \n",
       "2                 NaN                 NaN   \n",
       "3            12.20016           -9.123237   \n",
       "4            12.20016          -12.200160   \n",
       "\n",
       "   effectiveness: missed_incoming_calls  \n",
       "0                                   3.0  \n",
       "1                                   3.0  \n",
       "2                                   NaN  \n",
       "3                                   2.0  \n",
       "4                                   3.0  "
      ]
     },
     "metadata": {},
     "output_type": "display_data"
    }
   ],
   "source": [
    "operators = operators.merge(percentage_missed_calls, on=\"operator_id\", how=\"left\")\n",
    "operators = operators.rename(columns={'effectiveness': 'effectiveness: missed_incoming_calls'})\n",
    "display(operators.head())"
   ]
  },
  {
   "cell_type": "code",
   "execution_count": 78,
   "metadata": {},
   "outputs": [
    {
     "data": {
      "text/html": [
       "<div>\n",
       "<style scoped>\n",
       "    .dataframe tbody tr th:only-of-type {\n",
       "        vertical-align: middle;\n",
       "    }\n",
       "\n",
       "    .dataframe tbody tr th {\n",
       "        vertical-align: top;\n",
       "    }\n",
       "\n",
       "    .dataframe thead th {\n",
       "        text-align: right;\n",
       "    }\n",
       "</style>\n",
       "<table border=\"1\" class=\"dataframe\">\n",
       "  <thead>\n",
       "    <tr style=\"text-align: right;\">\n",
       "      <th></th>\n",
       "      <th>index</th>\n",
       "      <th>operator_id</th>\n",
       "      <th>effectiveness: missed_incoming_calls</th>\n",
       "    </tr>\n",
       "  </thead>\n",
       "  <tbody>\n",
       "    <tr>\n",
       "      <td>0</td>\n",
       "      <td>1</td>\n",
       "      <td>880022</td>\n",
       "      <td>3.0</td>\n",
       "    </tr>\n",
       "    <tr>\n",
       "      <td>1</td>\n",
       "      <td>2</td>\n",
       "      <td>880020</td>\n",
       "      <td>3.0</td>\n",
       "    </tr>\n",
       "    <tr>\n",
       "      <td>2</td>\n",
       "      <td>10</td>\n",
       "      <td>881278</td>\n",
       "      <td>NaN</td>\n",
       "    </tr>\n",
       "    <tr>\n",
       "      <td>3</td>\n",
       "      <td>14</td>\n",
       "      <td>880028</td>\n",
       "      <td>2.0</td>\n",
       "    </tr>\n",
       "    <tr>\n",
       "      <td>4</td>\n",
       "      <td>15</td>\n",
       "      <td>880026</td>\n",
       "      <td>3.0</td>\n",
       "    </tr>\n",
       "  </tbody>\n",
       "</table>\n",
       "</div>"
      ],
      "text/plain": [
       "   index  operator_id  effectiveness: missed_incoming_calls\n",
       "0      1       880022                                   3.0\n",
       "1      2       880020                                   3.0\n",
       "2     10       881278                                   NaN\n",
       "3     14       880028                                   2.0\n",
       "4     15       880026                                   3.0"
      ]
     },
     "metadata": {},
     "output_type": "display_data"
    }
   ],
   "source": [
    "operators = operators.drop(['total_incoming_calls_count', 'missed_incoming_calls_count', 'missed_incoming_calls_percentage', 'general_percentage', 'distance_from_mean'], axis = 1)\n",
    "display(operators.head())"
   ]
  },
  {
   "cell_type": "code",
   "execution_count": 79,
   "metadata": {},
   "outputs": [
    {
     "data": {
      "text/html": [
       "<div>\n",
       "<style scoped>\n",
       "    .dataframe tbody tr th:only-of-type {\n",
       "        vertical-align: middle;\n",
       "    }\n",
       "\n",
       "    .dataframe tbody tr th {\n",
       "        vertical-align: top;\n",
       "    }\n",
       "\n",
       "    .dataframe thead th {\n",
       "        text-align: right;\n",
       "    }\n",
       "</style>\n",
       "<table border=\"1\" class=\"dataframe\">\n",
       "  <thead>\n",
       "    <tr style=\"text-align: right;\">\n",
       "      <th></th>\n",
       "      <th>index</th>\n",
       "      <th>operator_id</th>\n",
       "      <th>effectiveness: missed_incoming_calls</th>\n",
       "      <th>total_call_duration_per_call</th>\n",
       "      <th>call_duration_per_call</th>\n",
       "      <th>percentage_waiting_time</th>\n",
       "      <th>general_percentage</th>\n",
       "      <th>distance_from_mean</th>\n",
       "      <th>effectiveness: waiting_time</th>\n",
       "    </tr>\n",
       "  </thead>\n",
       "  <tbody>\n",
       "    <tr>\n",
       "      <td>0</td>\n",
       "      <td>1</td>\n",
       "      <td>880022</td>\n",
       "      <td>3.0</td>\n",
       "      <td>624.0</td>\n",
       "      <td>512.000000</td>\n",
       "      <td>17.948718</td>\n",
       "      <td>13.738425</td>\n",
       "      <td>4.210293</td>\n",
       "      <td>1.0</td>\n",
       "    </tr>\n",
       "    <tr>\n",
       "      <td>1</td>\n",
       "      <td>2</td>\n",
       "      <td>880020</td>\n",
       "      <td>3.0</td>\n",
       "      <td>353.0</td>\n",
       "      <td>299.000000</td>\n",
       "      <td>15.297450</td>\n",
       "      <td>13.738425</td>\n",
       "      <td>1.559025</td>\n",
       "      <td>2.0</td>\n",
       "    </tr>\n",
       "    <tr>\n",
       "      <td>2</td>\n",
       "      <td>10</td>\n",
       "      <td>881278</td>\n",
       "      <td>NaN</td>\n",
       "      <td>NaN</td>\n",
       "      <td>NaN</td>\n",
       "      <td>NaN</td>\n",
       "      <td>NaN</td>\n",
       "      <td>NaN</td>\n",
       "      <td>NaN</td>\n",
       "    </tr>\n",
       "    <tr>\n",
       "      <td>3</td>\n",
       "      <td>14</td>\n",
       "      <td>880028</td>\n",
       "      <td>2.0</td>\n",
       "      <td>3852.2</td>\n",
       "      <td>3601.833333</td>\n",
       "      <td>6.499316</td>\n",
       "      <td>13.738425</td>\n",
       "      <td>-7.239109</td>\n",
       "      <td>3.0</td>\n",
       "    </tr>\n",
       "    <tr>\n",
       "      <td>4</td>\n",
       "      <td>15</td>\n",
       "      <td>880026</td>\n",
       "      <td>3.0</td>\n",
       "      <td>1127.0</td>\n",
       "      <td>1020.166667</td>\n",
       "      <td>9.479444</td>\n",
       "      <td>13.738425</td>\n",
       "      <td>-4.258981</td>\n",
       "      <td>3.0</td>\n",
       "    </tr>\n",
       "  </tbody>\n",
       "</table>\n",
       "</div>"
      ],
      "text/plain": [
       "   index  operator_id  effectiveness: missed_incoming_calls  \\\n",
       "0      1       880022                                   3.0   \n",
       "1      2       880020                                   3.0   \n",
       "2     10       881278                                   NaN   \n",
       "3     14       880028                                   2.0   \n",
       "4     15       880026                                   3.0   \n",
       "\n",
       "   total_call_duration_per_call  call_duration_per_call  \\\n",
       "0                         624.0              512.000000   \n",
       "1                         353.0              299.000000   \n",
       "2                           NaN                     NaN   \n",
       "3                        3852.2             3601.833333   \n",
       "4                        1127.0             1020.166667   \n",
       "\n",
       "   percentage_waiting_time  general_percentage  distance_from_mean  \\\n",
       "0                17.948718           13.738425            4.210293   \n",
       "1                15.297450           13.738425            1.559025   \n",
       "2                      NaN                 NaN                 NaN   \n",
       "3                 6.499316           13.738425           -7.239109   \n",
       "4                 9.479444           13.738425           -4.258981   \n",
       "\n",
       "   effectiveness: waiting_time  \n",
       "0                          1.0  \n",
       "1                          2.0  \n",
       "2                          NaN  \n",
       "3                          3.0  \n",
       "4                          3.0  "
      ]
     },
     "metadata": {},
     "output_type": "display_data"
    }
   ],
   "source": [
    "operators = operators.merge(percentage_call_duration, on=\"operator_id\", how=\"left\")\n",
    "operators = operators.rename(columns={'effectiveness': 'effectiveness: waiting_time'})\n",
    "display(operators.head())"
   ]
  },
  {
   "cell_type": "code",
   "execution_count": 80,
   "metadata": {},
   "outputs": [
    {
     "data": {
      "text/html": [
       "<div>\n",
       "<style scoped>\n",
       "    .dataframe tbody tr th:only-of-type {\n",
       "        vertical-align: middle;\n",
       "    }\n",
       "\n",
       "    .dataframe tbody tr th {\n",
       "        vertical-align: top;\n",
       "    }\n",
       "\n",
       "    .dataframe thead th {\n",
       "        text-align: right;\n",
       "    }\n",
       "</style>\n",
       "<table border=\"1\" class=\"dataframe\">\n",
       "  <thead>\n",
       "    <tr style=\"text-align: right;\">\n",
       "      <th></th>\n",
       "      <th>index</th>\n",
       "      <th>operator_id</th>\n",
       "      <th>effectiveness: missed_incoming_calls</th>\n",
       "      <th>effectiveness: waiting_time</th>\n",
       "    </tr>\n",
       "  </thead>\n",
       "  <tbody>\n",
       "    <tr>\n",
       "      <td>0</td>\n",
       "      <td>1</td>\n",
       "      <td>880022</td>\n",
       "      <td>3.0</td>\n",
       "      <td>1.0</td>\n",
       "    </tr>\n",
       "    <tr>\n",
       "      <td>1</td>\n",
       "      <td>2</td>\n",
       "      <td>880020</td>\n",
       "      <td>3.0</td>\n",
       "      <td>2.0</td>\n",
       "    </tr>\n",
       "    <tr>\n",
       "      <td>2</td>\n",
       "      <td>10</td>\n",
       "      <td>881278</td>\n",
       "      <td>NaN</td>\n",
       "      <td>NaN</td>\n",
       "    </tr>\n",
       "    <tr>\n",
       "      <td>3</td>\n",
       "      <td>14</td>\n",
       "      <td>880028</td>\n",
       "      <td>2.0</td>\n",
       "      <td>3.0</td>\n",
       "    </tr>\n",
       "    <tr>\n",
       "      <td>4</td>\n",
       "      <td>15</td>\n",
       "      <td>880026</td>\n",
       "      <td>3.0</td>\n",
       "      <td>3.0</td>\n",
       "    </tr>\n",
       "  </tbody>\n",
       "</table>\n",
       "</div>"
      ],
      "text/plain": [
       "   index  operator_id  effectiveness: missed_incoming_calls  \\\n",
       "0      1       880022                                   3.0   \n",
       "1      2       880020                                   3.0   \n",
       "2     10       881278                                   NaN   \n",
       "3     14       880028                                   2.0   \n",
       "4     15       880026                                   3.0   \n",
       "\n",
       "   effectiveness: waiting_time  \n",
       "0                          1.0  \n",
       "1                          2.0  \n",
       "2                          NaN  \n",
       "3                          3.0  \n",
       "4                          3.0  "
      ]
     },
     "metadata": {},
     "output_type": "display_data"
    }
   ],
   "source": [
    "operators = operators.drop(['total_call_duration_per_call', 'call_duration_per_call', 'percentage_waiting_time', 'general_percentage', 'distance_from_mean'], axis = 1)\n",
    "display(operators.head())"
   ]
  },
  {
   "cell_type": "code",
   "execution_count": 81,
   "metadata": {},
   "outputs": [
    {
     "data": {
      "text/html": [
       "<div>\n",
       "<style scoped>\n",
       "    .dataframe tbody tr th:only-of-type {\n",
       "        vertical-align: middle;\n",
       "    }\n",
       "\n",
       "    .dataframe tbody tr th {\n",
       "        vertical-align: top;\n",
       "    }\n",
       "\n",
       "    .dataframe thead th {\n",
       "        text-align: right;\n",
       "    }\n",
       "</style>\n",
       "<table border=\"1\" class=\"dataframe\">\n",
       "  <thead>\n",
       "    <tr style=\"text-align: right;\">\n",
       "      <th></th>\n",
       "      <th>index</th>\n",
       "      <th>operator_id</th>\n",
       "      <th>effectiveness: missed_incoming_calls</th>\n",
       "      <th>effectiveness: waiting_time</th>\n",
       "      <th>outgoing_calls_count</th>\n",
       "      <th>total_calls_count</th>\n",
       "      <th>percentage_outgoing_calls</th>\n",
       "      <th>general_percentage</th>\n",
       "      <th>distance_from_mean</th>\n",
       "      <th>effectiveness: outgoing_calls</th>\n",
       "    </tr>\n",
       "  </thead>\n",
       "  <tbody>\n",
       "    <tr>\n",
       "      <td>0</td>\n",
       "      <td>1</td>\n",
       "      <td>880022</td>\n",
       "      <td>3.0</td>\n",
       "      <td>1.0</td>\n",
       "      <td>170.0</td>\n",
       "      <td>193.0</td>\n",
       "      <td>88.082902</td>\n",
       "      <td>79.421077</td>\n",
       "      <td>8.661824</td>\n",
       "      <td>2.0</td>\n",
       "    </tr>\n",
       "    <tr>\n",
       "      <td>1</td>\n",
       "      <td>2</td>\n",
       "      <td>880020</td>\n",
       "      <td>3.0</td>\n",
       "      <td>2.0</td>\n",
       "      <td>34.0</td>\n",
       "      <td>45.0</td>\n",
       "      <td>75.555556</td>\n",
       "      <td>79.421077</td>\n",
       "      <td>-3.865522</td>\n",
       "      <td>1.0</td>\n",
       "    </tr>\n",
       "    <tr>\n",
       "      <td>2</td>\n",
       "      <td>10</td>\n",
       "      <td>881278</td>\n",
       "      <td>NaN</td>\n",
       "      <td>NaN</td>\n",
       "      <td>12.0</td>\n",
       "      <td>20.0</td>\n",
       "      <td>60.000000</td>\n",
       "      <td>79.421077</td>\n",
       "      <td>-19.421077</td>\n",
       "      <td>1.0</td>\n",
       "    </tr>\n",
       "    <tr>\n",
       "      <td>3</td>\n",
       "      <td>14</td>\n",
       "      <td>880028</td>\n",
       "      <td>2.0</td>\n",
       "      <td>3.0</td>\n",
       "      <td>2489.0</td>\n",
       "      <td>2562.0</td>\n",
       "      <td>97.150664</td>\n",
       "      <td>79.421077</td>\n",
       "      <td>17.729586</td>\n",
       "      <td>2.0</td>\n",
       "    </tr>\n",
       "    <tr>\n",
       "      <td>4</td>\n",
       "      <td>15</td>\n",
       "      <td>880026</td>\n",
       "      <td>3.0</td>\n",
       "      <td>3.0</td>\n",
       "      <td>2188.0</td>\n",
       "      <td>2232.0</td>\n",
       "      <td>98.028674</td>\n",
       "      <td>79.421077</td>\n",
       "      <td>18.607597</td>\n",
       "      <td>2.0</td>\n",
       "    </tr>\n",
       "  </tbody>\n",
       "</table>\n",
       "</div>"
      ],
      "text/plain": [
       "   index  operator_id  effectiveness: missed_incoming_calls  \\\n",
       "0      1       880022                                   3.0   \n",
       "1      2       880020                                   3.0   \n",
       "2     10       881278                                   NaN   \n",
       "3     14       880028                                   2.0   \n",
       "4     15       880026                                   3.0   \n",
       "\n",
       "   effectiveness: waiting_time  outgoing_calls_count  total_calls_count  \\\n",
       "0                          1.0                 170.0              193.0   \n",
       "1                          2.0                  34.0               45.0   \n",
       "2                          NaN                  12.0               20.0   \n",
       "3                          3.0                2489.0             2562.0   \n",
       "4                          3.0                2188.0             2232.0   \n",
       "\n",
       "   percentage_outgoing_calls  general_percentage  distance_from_mean  \\\n",
       "0                  88.082902           79.421077            8.661824   \n",
       "1                  75.555556           79.421077           -3.865522   \n",
       "2                  60.000000           79.421077          -19.421077   \n",
       "3                  97.150664           79.421077           17.729586   \n",
       "4                  98.028674           79.421077           18.607597   \n",
       "\n",
       "   effectiveness: outgoing_calls  \n",
       "0                            2.0  \n",
       "1                            1.0  \n",
       "2                            1.0  \n",
       "3                            2.0  \n",
       "4                            2.0  "
      ]
     },
     "metadata": {},
     "output_type": "display_data"
    }
   ],
   "source": [
    "operators = operators.merge(percentage_outgoing_calls, on=\"operator_id\", how=\"left\")\n",
    "operators = operators.rename(columns={'effectiveness': 'effectiveness: outgoing_calls'})\n",
    "display(operators.head())"
   ]
  },
  {
   "cell_type": "code",
   "execution_count": 82,
   "metadata": {},
   "outputs": [
    {
     "data": {
      "text/html": [
       "<div>\n",
       "<style scoped>\n",
       "    .dataframe tbody tr th:only-of-type {\n",
       "        vertical-align: middle;\n",
       "    }\n",
       "\n",
       "    .dataframe tbody tr th {\n",
       "        vertical-align: top;\n",
       "    }\n",
       "\n",
       "    .dataframe thead th {\n",
       "        text-align: right;\n",
       "    }\n",
       "</style>\n",
       "<table border=\"1\" class=\"dataframe\">\n",
       "  <thead>\n",
       "    <tr style=\"text-align: right;\">\n",
       "      <th></th>\n",
       "      <th>index</th>\n",
       "      <th>operator_id</th>\n",
       "      <th>effectiveness: missed_incoming_calls</th>\n",
       "      <th>effectiveness: waiting_time</th>\n",
       "      <th>effectiveness: outgoing_calls</th>\n",
       "    </tr>\n",
       "  </thead>\n",
       "  <tbody>\n",
       "    <tr>\n",
       "      <td>0</td>\n",
       "      <td>1</td>\n",
       "      <td>880022</td>\n",
       "      <td>3.0</td>\n",
       "      <td>1.0</td>\n",
       "      <td>2.0</td>\n",
       "    </tr>\n",
       "    <tr>\n",
       "      <td>1</td>\n",
       "      <td>2</td>\n",
       "      <td>880020</td>\n",
       "      <td>3.0</td>\n",
       "      <td>2.0</td>\n",
       "      <td>1.0</td>\n",
       "    </tr>\n",
       "    <tr>\n",
       "      <td>2</td>\n",
       "      <td>10</td>\n",
       "      <td>881278</td>\n",
       "      <td>NaN</td>\n",
       "      <td>NaN</td>\n",
       "      <td>1.0</td>\n",
       "    </tr>\n",
       "    <tr>\n",
       "      <td>3</td>\n",
       "      <td>14</td>\n",
       "      <td>880028</td>\n",
       "      <td>2.0</td>\n",
       "      <td>3.0</td>\n",
       "      <td>2.0</td>\n",
       "    </tr>\n",
       "    <tr>\n",
       "      <td>4</td>\n",
       "      <td>15</td>\n",
       "      <td>880026</td>\n",
       "      <td>3.0</td>\n",
       "      <td>3.0</td>\n",
       "      <td>2.0</td>\n",
       "    </tr>\n",
       "  </tbody>\n",
       "</table>\n",
       "</div>"
      ],
      "text/plain": [
       "   index  operator_id  effectiveness: missed_incoming_calls  \\\n",
       "0      1       880022                                   3.0   \n",
       "1      2       880020                                   3.0   \n",
       "2     10       881278                                   NaN   \n",
       "3     14       880028                                   2.0   \n",
       "4     15       880026                                   3.0   \n",
       "\n",
       "   effectiveness: waiting_time  effectiveness: outgoing_calls  \n",
       "0                          1.0                            2.0  \n",
       "1                          2.0                            1.0  \n",
       "2                          NaN                            1.0  \n",
       "3                          3.0                            2.0  \n",
       "4                          3.0                            2.0  "
      ]
     },
     "metadata": {},
     "output_type": "display_data"
    }
   ],
   "source": [
    "operators = operators.drop(['outgoing_calls_count', 'total_calls_count', 'percentage_outgoing_calls', 'general_percentage', 'distance_from_mean'], axis = 1)\n",
    "display(operators.head())"
   ]
  },
  {
   "cell_type": "code",
   "execution_count": 83,
   "metadata": {},
   "outputs": [
    {
     "data": {
      "text/plain": [
       "index                                     0\n",
       "operator_id                               0\n",
       "effectiveness: missed_incoming_calls    292\n",
       "effectiveness: waiting_time             343\n",
       "effectiveness: outgoing_calls           260\n",
       "dtype: int64"
      ]
     },
     "metadata": {},
     "output_type": "display_data"
    }
   ],
   "source": [
    "display(operators.isna().sum())"
   ]
  },
  {
   "cell_type": "markdown",
   "metadata": {},
   "source": [
    "I will fill the missing data in column \"effectiveness: missed_incoming_calls\" with 3, because if the we don't have data on operators it means that they didn't have missing calls."
   ]
  },
  {
   "cell_type": "code",
   "execution_count": 84,
   "metadata": {},
   "outputs": [
    {
     "data": {
      "text/html": [
       "<div>\n",
       "<style scoped>\n",
       "    .dataframe tbody tr th:only-of-type {\n",
       "        vertical-align: middle;\n",
       "    }\n",
       "\n",
       "    .dataframe tbody tr th {\n",
       "        vertical-align: top;\n",
       "    }\n",
       "\n",
       "    .dataframe thead th {\n",
       "        text-align: right;\n",
       "    }\n",
       "</style>\n",
       "<table border=\"1\" class=\"dataframe\">\n",
       "  <thead>\n",
       "    <tr style=\"text-align: right;\">\n",
       "      <th></th>\n",
       "      <th>index</th>\n",
       "      <th>operator_id</th>\n",
       "      <th>effectiveness: missed_incoming_calls</th>\n",
       "      <th>effectiveness: waiting_time</th>\n",
       "      <th>effectiveness: outgoing_calls</th>\n",
       "    </tr>\n",
       "  </thead>\n",
       "  <tbody>\n",
       "    <tr>\n",
       "      <td>0</td>\n",
       "      <td>1</td>\n",
       "      <td>880022</td>\n",
       "      <td>3.0</td>\n",
       "      <td>1.0</td>\n",
       "      <td>2.0</td>\n",
       "    </tr>\n",
       "    <tr>\n",
       "      <td>1</td>\n",
       "      <td>2</td>\n",
       "      <td>880020</td>\n",
       "      <td>3.0</td>\n",
       "      <td>2.0</td>\n",
       "      <td>1.0</td>\n",
       "    </tr>\n",
       "    <tr>\n",
       "      <td>2</td>\n",
       "      <td>10</td>\n",
       "      <td>881278</td>\n",
       "      <td>3.0</td>\n",
       "      <td>NaN</td>\n",
       "      <td>1.0</td>\n",
       "    </tr>\n",
       "    <tr>\n",
       "      <td>3</td>\n",
       "      <td>14</td>\n",
       "      <td>880028</td>\n",
       "      <td>2.0</td>\n",
       "      <td>3.0</td>\n",
       "      <td>2.0</td>\n",
       "    </tr>\n",
       "    <tr>\n",
       "      <td>4</td>\n",
       "      <td>15</td>\n",
       "      <td>880026</td>\n",
       "      <td>3.0</td>\n",
       "      <td>3.0</td>\n",
       "      <td>2.0</td>\n",
       "    </tr>\n",
       "  </tbody>\n",
       "</table>\n",
       "</div>"
      ],
      "text/plain": [
       "   index  operator_id  effectiveness: missed_incoming_calls  \\\n",
       "0      1       880022                                   3.0   \n",
       "1      2       880020                                   3.0   \n",
       "2     10       881278                                   3.0   \n",
       "3     14       880028                                   2.0   \n",
       "4     15       880026                                   3.0   \n",
       "\n",
       "   effectiveness: waiting_time  effectiveness: outgoing_calls  \n",
       "0                          1.0                            2.0  \n",
       "1                          2.0                            1.0  \n",
       "2                          NaN                            1.0  \n",
       "3                          3.0                            2.0  \n",
       "4                          3.0                            2.0  "
      ]
     },
     "metadata": {},
     "output_type": "display_data"
    }
   ],
   "source": [
    "operators['effectiveness: missed_incoming_calls'] = operators['effectiveness: missed_incoming_calls'].fillna(3)\n",
    "display(operators.head())"
   ]
  },
  {
   "cell_type": "code",
   "execution_count": 85,
   "metadata": {},
   "outputs": [
    {
     "data": {
      "text/plain": [
       "index                                     0\n",
       "operator_id                               0\n",
       "effectiveness: missed_incoming_calls      0\n",
       "effectiveness: waiting_time             343\n",
       "effectiveness: outgoing_calls           260\n",
       "dtype: int64"
      ]
     },
     "metadata": {},
     "output_type": "display_data"
    }
   ],
   "source": [
    "display(operators.isna().sum())"
   ]
  },
  {
   "cell_type": "markdown",
   "metadata": {},
   "source": [
    "I won't change the missing data in column \"effectiveness: waiting_time\", because if operators have missing data in this column it means that they didn't got calls so I can't rate them. I also won't change the missing data in \"effectiveness: outgoing_calls\" column, since not all the operators need to make outgoing calls."
   ]
  },
  {
   "cell_type": "code",
   "execution_count": 86,
   "metadata": {},
   "outputs": [
    {
     "data": {
      "text/html": [
       "<div>\n",
       "<style scoped>\n",
       "    .dataframe tbody tr th:only-of-type {\n",
       "        vertical-align: middle;\n",
       "    }\n",
       "\n",
       "    .dataframe tbody tr th {\n",
       "        vertical-align: top;\n",
       "    }\n",
       "\n",
       "    .dataframe thead th {\n",
       "        text-align: right;\n",
       "    }\n",
       "</style>\n",
       "<table border=\"1\" class=\"dataframe\">\n",
       "  <thead>\n",
       "    <tr style=\"text-align: right;\">\n",
       "      <th></th>\n",
       "      <th>index</th>\n",
       "      <th>operator_id</th>\n",
       "      <th>effectiveness: missed_incoming_calls</th>\n",
       "      <th>effectiveness: waiting_time</th>\n",
       "      <th>effectiveness: outgoing_calls</th>\n",
       "      <th>total</th>\n",
       "    </tr>\n",
       "  </thead>\n",
       "  <tbody>\n",
       "    <tr>\n",
       "      <td>0</td>\n",
       "      <td>1</td>\n",
       "      <td>880022</td>\n",
       "      <td>3.0</td>\n",
       "      <td>1.0</td>\n",
       "      <td>2.0</td>\n",
       "      <td>2.000000</td>\n",
       "    </tr>\n",
       "    <tr>\n",
       "      <td>1</td>\n",
       "      <td>2</td>\n",
       "      <td>880020</td>\n",
       "      <td>3.0</td>\n",
       "      <td>2.0</td>\n",
       "      <td>1.0</td>\n",
       "      <td>2.000000</td>\n",
       "    </tr>\n",
       "    <tr>\n",
       "      <td>2</td>\n",
       "      <td>10</td>\n",
       "      <td>881278</td>\n",
       "      <td>3.0</td>\n",
       "      <td>NaN</td>\n",
       "      <td>1.0</td>\n",
       "      <td>NaN</td>\n",
       "    </tr>\n",
       "    <tr>\n",
       "      <td>3</td>\n",
       "      <td>14</td>\n",
       "      <td>880028</td>\n",
       "      <td>2.0</td>\n",
       "      <td>3.0</td>\n",
       "      <td>2.0</td>\n",
       "      <td>2.333333</td>\n",
       "    </tr>\n",
       "    <tr>\n",
       "      <td>4</td>\n",
       "      <td>15</td>\n",
       "      <td>880026</td>\n",
       "      <td>3.0</td>\n",
       "      <td>3.0</td>\n",
       "      <td>2.0</td>\n",
       "      <td>2.666667</td>\n",
       "    </tr>\n",
       "  </tbody>\n",
       "</table>\n",
       "</div>"
      ],
      "text/plain": [
       "   index  operator_id  effectiveness: missed_incoming_calls  \\\n",
       "0      1       880022                                   3.0   \n",
       "1      2       880020                                   3.0   \n",
       "2     10       881278                                   3.0   \n",
       "3     14       880028                                   2.0   \n",
       "4     15       880026                                   3.0   \n",
       "\n",
       "   effectiveness: waiting_time  effectiveness: outgoing_calls     total  \n",
       "0                          1.0                            2.0  2.000000  \n",
       "1                          2.0                            1.0  2.000000  \n",
       "2                          NaN                            1.0       NaN  \n",
       "3                          3.0                            2.0  2.333333  \n",
       "4                          3.0                            2.0  2.666667  "
      ]
     },
     "metadata": {},
     "output_type": "display_data"
    }
   ],
   "source": [
    "operators['total'] = (operators['effectiveness: missed_incoming_calls'] + operators['effectiveness: waiting_time'] + operators['effectiveness: outgoing_calls'])/3\n",
    "display(operators.head())"
   ]
  },
  {
   "cell_type": "code",
   "execution_count": 87,
   "metadata": {},
   "outputs": [
    {
     "data": {
      "text/html": [
       "<div>\n",
       "<style scoped>\n",
       "    .dataframe tbody tr th:only-of-type {\n",
       "        vertical-align: middle;\n",
       "    }\n",
       "\n",
       "    .dataframe tbody tr th {\n",
       "        vertical-align: top;\n",
       "    }\n",
       "\n",
       "    .dataframe thead th {\n",
       "        text-align: right;\n",
       "    }\n",
       "</style>\n",
       "<table border=\"1\" class=\"dataframe\">\n",
       "  <thead>\n",
       "    <tr style=\"text-align: right;\">\n",
       "      <th></th>\n",
       "      <th>index</th>\n",
       "      <th>operator_id</th>\n",
       "      <th>effectiveness: missed_incoming_calls</th>\n",
       "      <th>effectiveness: waiting_time</th>\n",
       "      <th>effectiveness: outgoing_calls</th>\n",
       "      <th>total</th>\n",
       "    </tr>\n",
       "  </thead>\n",
       "  <tbody>\n",
       "    <tr>\n",
       "      <td>0</td>\n",
       "      <td>1</td>\n",
       "      <td>880022</td>\n",
       "      <td>3.0</td>\n",
       "      <td>1.0</td>\n",
       "      <td>2.0</td>\n",
       "      <td>2.000000</td>\n",
       "    </tr>\n",
       "    <tr>\n",
       "      <td>1</td>\n",
       "      <td>2</td>\n",
       "      <td>880020</td>\n",
       "      <td>3.0</td>\n",
       "      <td>2.0</td>\n",
       "      <td>1.0</td>\n",
       "      <td>2.000000</td>\n",
       "    </tr>\n",
       "    <tr>\n",
       "      <td>2</td>\n",
       "      <td>10</td>\n",
       "      <td>881278</td>\n",
       "      <td>3.0</td>\n",
       "      <td>NaN</td>\n",
       "      <td>1.0</td>\n",
       "      <td>2.000000</td>\n",
       "    </tr>\n",
       "    <tr>\n",
       "      <td>3</td>\n",
       "      <td>14</td>\n",
       "      <td>880028</td>\n",
       "      <td>2.0</td>\n",
       "      <td>3.0</td>\n",
       "      <td>2.0</td>\n",
       "      <td>2.333333</td>\n",
       "    </tr>\n",
       "    <tr>\n",
       "      <td>4</td>\n",
       "      <td>15</td>\n",
       "      <td>880026</td>\n",
       "      <td>3.0</td>\n",
       "      <td>3.0</td>\n",
       "      <td>2.0</td>\n",
       "      <td>2.666667</td>\n",
       "    </tr>\n",
       "  </tbody>\n",
       "</table>\n",
       "</div>"
      ],
      "text/plain": [
       "   index  operator_id  effectiveness: missed_incoming_calls  \\\n",
       "0      1       880022                                   3.0   \n",
       "1      2       880020                                   3.0   \n",
       "2     10       881278                                   3.0   \n",
       "3     14       880028                                   2.0   \n",
       "4     15       880026                                   3.0   \n",
       "\n",
       "   effectiveness: waiting_time  effectiveness: outgoing_calls     total  \n",
       "0                          1.0                            2.0  2.000000  \n",
       "1                          2.0                            1.0  2.000000  \n",
       "2                          NaN                            1.0  2.000000  \n",
       "3                          3.0                            2.0  2.333333  \n",
       "4                          3.0                            2.0  2.666667  "
      ]
     },
     "metadata": {},
     "output_type": "display_data"
    }
   ],
   "source": [
    "operators['total'] = operators['total'].fillna((operators['effectiveness: missed_incoming_calls'] + operators['effectiveness: waiting_time'])/2)\n",
    "operators['total'] = operators['total'].fillna((operators['effectiveness: missed_incoming_calls'] + operators['effectiveness: outgoing_calls'])/2)\n",
    "display(operators.head())                              "
   ]
  },
  {
   "cell_type": "code",
   "execution_count": 88,
   "metadata": {},
   "outputs": [
    {
     "data": {
      "text/plain": [
       "medium    420\n",
       "high      370\n",
       "low       300\n",
       "Name: effectiveness: total, dtype: int64"
      ]
     },
     "metadata": {},
     "output_type": "display_data"
    }
   ],
   "source": [
    "operators['effectiveness: total'] = [\"low\" if x<=1 else \"high\" for x in operators[\"total\"]]\n",
    "operators.loc[(operators['total'] >1) & (operators['total'] <=2), 'effectiveness: total'] = \"medium\"\n",
    "display(operators['effectiveness: total'].value_counts())"
   ]
  },
  {
   "cell_type": "code",
   "execution_count": 89,
   "metadata": {},
   "outputs": [
    {
     "data": {
      "text/html": [
       "<div>\n",
       "<style scoped>\n",
       "    .dataframe tbody tr th:only-of-type {\n",
       "        vertical-align: middle;\n",
       "    }\n",
       "\n",
       "    .dataframe tbody tr th {\n",
       "        vertical-align: top;\n",
       "    }\n",
       "\n",
       "    .dataframe thead th {\n",
       "        text-align: right;\n",
       "    }\n",
       "</style>\n",
       "<table border=\"1\" class=\"dataframe\">\n",
       "  <thead>\n",
       "    <tr style=\"text-align: right;\">\n",
       "      <th></th>\n",
       "      <th>index</th>\n",
       "      <th>operator_id</th>\n",
       "      <th>effectiveness: missed_incoming_calls</th>\n",
       "      <th>effectiveness: waiting_time</th>\n",
       "      <th>effectiveness: outgoing_calls</th>\n",
       "      <th>total</th>\n",
       "      <th>effectiveness: total</th>\n",
       "    </tr>\n",
       "  </thead>\n",
       "  <tbody>\n",
       "    <tr>\n",
       "      <td>0</td>\n",
       "      <td>1</td>\n",
       "      <td>880022</td>\n",
       "      <td>3.0</td>\n",
       "      <td>1.0</td>\n",
       "      <td>2.0</td>\n",
       "      <td>2.000000</td>\n",
       "      <td>medium</td>\n",
       "    </tr>\n",
       "    <tr>\n",
       "      <td>1</td>\n",
       "      <td>2</td>\n",
       "      <td>880020</td>\n",
       "      <td>3.0</td>\n",
       "      <td>2.0</td>\n",
       "      <td>1.0</td>\n",
       "      <td>2.000000</td>\n",
       "      <td>medium</td>\n",
       "    </tr>\n",
       "    <tr>\n",
       "      <td>2</td>\n",
       "      <td>10</td>\n",
       "      <td>881278</td>\n",
       "      <td>3.0</td>\n",
       "      <td>NaN</td>\n",
       "      <td>1.0</td>\n",
       "      <td>2.000000</td>\n",
       "      <td>medium</td>\n",
       "    </tr>\n",
       "    <tr>\n",
       "      <td>3</td>\n",
       "      <td>14</td>\n",
       "      <td>880028</td>\n",
       "      <td>2.0</td>\n",
       "      <td>3.0</td>\n",
       "      <td>2.0</td>\n",
       "      <td>2.333333</td>\n",
       "      <td>high</td>\n",
       "    </tr>\n",
       "    <tr>\n",
       "      <td>4</td>\n",
       "      <td>15</td>\n",
       "      <td>880026</td>\n",
       "      <td>3.0</td>\n",
       "      <td>3.0</td>\n",
       "      <td>2.0</td>\n",
       "      <td>2.666667</td>\n",
       "      <td>high</td>\n",
       "    </tr>\n",
       "  </tbody>\n",
       "</table>\n",
       "</div>"
      ],
      "text/plain": [
       "   index  operator_id  effectiveness: missed_incoming_calls  \\\n",
       "0      1       880022                                   3.0   \n",
       "1      2       880020                                   3.0   \n",
       "2     10       881278                                   3.0   \n",
       "3     14       880028                                   2.0   \n",
       "4     15       880026                                   3.0   \n",
       "\n",
       "   effectiveness: waiting_time  effectiveness: outgoing_calls     total  \\\n",
       "0                          1.0                            2.0  2.000000   \n",
       "1                          2.0                            1.0  2.000000   \n",
       "2                          NaN                            1.0  2.000000   \n",
       "3                          3.0                            2.0  2.333333   \n",
       "4                          3.0                            2.0  2.666667   \n",
       "\n",
       "  effectiveness: total  \n",
       "0               medium  \n",
       "1               medium  \n",
       "2               medium  \n",
       "3                 high  \n",
       "4                 high  "
      ]
     },
     "metadata": {},
     "output_type": "display_data"
    }
   ],
   "source": [
    "display(operators.head())"
   ]
  },
  {
   "cell_type": "code",
   "execution_count": 90,
   "metadata": {},
   "outputs": [
    {
     "data": {
      "text/html": [
       "<div>\n",
       "<style scoped>\n",
       "    .dataframe tbody tr th:only-of-type {\n",
       "        vertical-align: middle;\n",
       "    }\n",
       "\n",
       "    .dataframe tbody tr th {\n",
       "        vertical-align: top;\n",
       "    }\n",
       "\n",
       "    .dataframe thead th {\n",
       "        text-align: right;\n",
       "    }\n",
       "</style>\n",
       "<table border=\"1\" class=\"dataframe\">\n",
       "  <thead>\n",
       "    <tr style=\"text-align: right;\">\n",
       "      <th></th>\n",
       "      <th>operator_id</th>\n",
       "      <th>effectiveness: total</th>\n",
       "    </tr>\n",
       "  </thead>\n",
       "  <tbody>\n",
       "    <tr>\n",
       "      <td>0</td>\n",
       "      <td>880022</td>\n",
       "      <td>medium</td>\n",
       "    </tr>\n",
       "    <tr>\n",
       "      <td>1</td>\n",
       "      <td>880020</td>\n",
       "      <td>medium</td>\n",
       "    </tr>\n",
       "    <tr>\n",
       "      <td>2</td>\n",
       "      <td>881278</td>\n",
       "      <td>medium</td>\n",
       "    </tr>\n",
       "    <tr>\n",
       "      <td>3</td>\n",
       "      <td>880028</td>\n",
       "      <td>high</td>\n",
       "    </tr>\n",
       "    <tr>\n",
       "      <td>4</td>\n",
       "      <td>880026</td>\n",
       "      <td>high</td>\n",
       "    </tr>\n",
       "  </tbody>\n",
       "</table>\n",
       "</div>"
      ],
      "text/plain": [
       "   operator_id effectiveness: total\n",
       "0       880022               medium\n",
       "1       880020               medium\n",
       "2       881278               medium\n",
       "3       880028                 high\n",
       "4       880026                 high"
      ]
     },
     "metadata": {},
     "output_type": "display_data"
    }
   ],
   "source": [
    "operators_final = operators.drop(['index', 'effectiveness: missed_incoming_calls', 'effectiveness: waiting_time', 'effectiveness: outgoing_calls', 'total'], axis = 1)\n",
    "display(operators_final.head())"
   ]
  },
  {
   "cell_type": "code",
   "execution_count": 91,
   "metadata": {},
   "outputs": [
    {
     "data": {
      "text/plain": [
       "operator_id             0\n",
       "effectiveness: total    0\n",
       "dtype: int64"
      ]
     },
     "execution_count": 91,
     "metadata": {},
     "output_type": "execute_result"
    }
   ],
   "source": [
    "operators_final.isna().sum()"
   ]
  },
  {
   "cell_type": "code",
   "execution_count": 92,
   "metadata": {},
   "outputs": [
    {
     "data": {
      "text/plain": [
       "<matplotlib.axes._subplots.AxesSubplot at 0x7f4195332f50>"
      ]
     },
     "execution_count": 92,
     "metadata": {},
     "output_type": "execute_result"
    },
    {
     "data": {
      "image/png": "[encoded data removed]",
      "text/plain": [
       "<Figure size 432x288 with 1 Axes>"
      ]
     },
     "metadata": {
      "needs_background": "light"
     },
     "output_type": "display_data"
    }
   ],
   "source": [
    "operators_final.groupby('effectiveness: total')['operator_id'].nunique().plot(kind='bar', title=\"NUMBER OF OPERATORS IN EACH EFFECTIVENESS GROUP\")"
   ]
  },
  {
   "cell_type": "code",
   "execution_count": 93,
   "metadata": {},
   "outputs": [
    {
     "data": {
      "text/plain": [
       "[882476,\n",
       " 882478,\n",
       " 886892,\n",
       " 891900,\n",
       " 886674,\n",
       " 902510,\n",
       " 939478,\n",
       " 888534,\n",
       " 888532,\n",
       " 882680,\n",
       " 884294,\n",
       " 934076,\n",
       " 934074,\n",
       " 887280,\n",
       " 884412,\n",
       " 884408,\n",
       " 906680,\n",
       " 925106,\n",
       " 885682,\n",
       " 884946,\n",
       " 884478,\n",
       " 884524,\n",
       " 900194,\n",
       " 908834,\n",
       " 908960,\n",
       " 908958,\n",
       " 946468,\n",
       " 889638,\n",
       " 893420,\n",
       " 893400,\n",
       " 893402,\n",
       " 886146,\n",
       " 892798,\n",
       " 897872,\n",
       " 890582,\n",
       " 887416,\n",
       " 891162,\n",
       " 889640,\n",
       " 888406,\n",
       " 891744,\n",
       " 891746,\n",
       " 950444,\n",
       " 898892,\n",
       " 899082,\n",
       " 891252,\n",
       " 891970,\n",
       " 891254,\n",
       " 891918,\n",
       " 903390,\n",
       " 895170,\n",
       " 894232,\n",
       " 894224,\n",
       " 894230,\n",
       " 891824,\n",
       " 895266,\n",
       " 894120,\n",
       " 892530,\n",
       " 892536,\n",
       " 892532,\n",
       " 892534,\n",
       " 891946,\n",
       " 893172,\n",
       " 900614,\n",
       " 955820,\n",
       " 901350,\n",
       " 910226,\n",
       " 913886,\n",
       " 910038,\n",
       " 930242,\n",
       " 895140,\n",
       " 895598,\n",
       " 896538,\n",
       " 903512,\n",
       " 895776,\n",
       " 895578,\n",
       " 895576,\n",
       " 894656,\n",
       " 896010,\n",
       " 896018,\n",
       " 895786,\n",
       " 906396,\n",
       " 906392,\n",
       " 906402,\n",
       " 906400,\n",
       " 906408,\n",
       " 906410,\n",
       " 906412,\n",
       " 906416,\n",
       " 954750,\n",
       " 910594,\n",
       " 972460,\n",
       " 896390,\n",
       " 900742,\n",
       " 900746,\n",
       " 898560,\n",
       " 898558,\n",
       " 898422,\n",
       " 914630,\n",
       " 914626,\n",
       " 909134,\n",
       " 904284,\n",
       " 901178,\n",
       " 903312,\n",
       " 900492,\n",
       " 901492,\n",
       " 898906,\n",
       " 898434,\n",
       " 916424,\n",
       " 903292,\n",
       " 911102,\n",
       " 911142,\n",
       " 930914,\n",
       " 901034,\n",
       " 901038,\n",
       " 913942,\n",
       " 904058,\n",
       " 922356,\n",
       " 902910,\n",
       " 908002,\n",
       " 904016,\n",
       " 902238,\n",
       " 909308,\n",
       " 901992,\n",
       " 901996,\n",
       " 902744,\n",
       " 903978,\n",
       " 905564,\n",
       " 907502,\n",
       " 905300,\n",
       " 904200,\n",
       " 926490,\n",
       " 904204,\n",
       " 905842,\n",
       " 905104,\n",
       " 904344,\n",
       " 907504,\n",
       " 907952,\n",
       " 907618,\n",
       " 908152,\n",
       " 908130,\n",
       " 909392,\n",
       " 914338,\n",
       " 914238,\n",
       " 957022,\n",
       " 962168,\n",
       " 906070,\n",
       " 911310,\n",
       " 905862,\n",
       " 911214,\n",
       " 909892,\n",
       " 908082,\n",
       " 908078,\n",
       " 907972,\n",
       " 919554,\n",
       " 912684,\n",
       " 919536,\n",
       " 910224,\n",
       " 908640,\n",
       " 909768,\n",
       " 915358,\n",
       " 912010,\n",
       " 914440,\n",
       " 954290,\n",
       " 914256,\n",
       " 939886,\n",
       " 961552,\n",
       " 920902,\n",
       " 920706,\n",
       " 935956,\n",
       " 914172,\n",
       " 951290,\n",
       " 921102,\n",
       " 921814,\n",
       " 944648,\n",
       " 913780,\n",
       " 914052,\n",
       " 914870,\n",
       " 920928,\n",
       " 918958,\n",
       " 922114,\n",
       " 924928,\n",
       " 924954,\n",
       " 924936,\n",
       " 919790,\n",
       " 944560,\n",
       " 915504,\n",
       " 917852,\n",
       " 917850,\n",
       " 917876,\n",
       " 929340,\n",
       " 928382,\n",
       " 916618,\n",
       " 919214,\n",
       " 926872,\n",
       " 936382,\n",
       " 937366,\n",
       " 937368,\n",
       " 937374,\n",
       " 937362,\n",
       " 954086,\n",
       " 918888,\n",
       " 919206,\n",
       " 919126,\n",
       " 964712,\n",
       " 931458,\n",
       " 939706,\n",
       " 920874,\n",
       " 926184,\n",
       " 935958,\n",
       " 922142,\n",
       " 951526,\n",
       " 928022,\n",
       " 922486,\n",
       " 922698,\n",
       " 923944,\n",
       " 933832,\n",
       " 924614,\n",
       " 969272,\n",
       " 952968,\n",
       " 928142,\n",
       " 932798,\n",
       " 928404,\n",
       " 939698,\n",
       " 971354,\n",
       " 929626,\n",
       " 930586,\n",
       " 929884,\n",
       " 941192,\n",
       " 951186,\n",
       " 934430,\n",
       " 934432,\n",
       " 944220,\n",
       " 944226,\n",
       " 944218,\n",
       " 944222,\n",
       " 944216,\n",
       " 933986,\n",
       " 934188,\n",
       " 941838,\n",
       " 941844,\n",
       " 944908,\n",
       " 933804,\n",
       " 933806,\n",
       " 933244,\n",
       " 934098,\n",
       " 946988,\n",
       " 948524,\n",
       " 935870,\n",
       " 934534,\n",
       " 950806,\n",
       " 947610,\n",
       " 951506,\n",
       " 951508,\n",
       " 939762,\n",
       " 937422,\n",
       " 937432,\n",
       " 958460,\n",
       " 958434,\n",
       " 935246,\n",
       " 935548,\n",
       " 938432,\n",
       " 940458,\n",
       " 940456,\n",
       " 940474,\n",
       " 937650,\n",
       " 938414,\n",
       " 969288,\n",
       " 958640,\n",
       " 939212,\n",
       " 937984,\n",
       " 948286,\n",
       " 948288,\n",
       " 947816,\n",
       " 948150,\n",
       " 948170,\n",
       " 951046,\n",
       " 944476,\n",
       " 970244,\n",
       " 939738,\n",
       " 940952,\n",
       " 946454,\n",
       " 945046,\n",
       " 945058,\n",
       " 948758,\n",
       " 948756,\n",
       " 952666,\n",
       " 952678,\n",
       " 968368,\n",
       " 952462,\n",
       " 948182,\n",
       " 952114,\n",
       " 956268,\n",
       " 956276,\n",
       " 956292,\n",
       " 952196,\n",
       " 954810,\n",
       " 973286,\n",
       " 952126,\n",
       " 962062,\n",
       " 957922]"
      ]
     },
     "execution_count": 93,
     "metadata": {},
     "output_type": "execute_result"
    }
   ],
   "source": [
    "operators_final[operators_final['effectiveness: total']=='low']['operator_id'].drop_duplicates().to_list()"
   ]
  },
  {
   "cell_type": "markdown",
   "metadata": {},
   "source": [
    "I created a colum that sums the result from prior steps and based on this column I categorized the operators to 3 effectiveness groups: high, medium and low. please pay attention that not all of the operators have been categorized, only the ones that had values in at least 2 parameters (missed_incoming_calls, waiting_time, effectiveness: outgoing_calls)."
   ]
  },
  {
   "cell_type": "markdown",
   "metadata": {},
   "source": [
    "<a id=\"15\"></a>\n",
    "# Test statistical hypotheses"
   ]
  },
  {
   "cell_type": "markdown",
   "metadata": {},
   "source": [
    "<a id=\"16\"></a>\n",
    "## Testing first hypothesis"
   ]
  },
  {
   "cell_type": "markdown",
   "metadata": {},
   "source": [
    "Null hypothesis = Ineffective Operators and effective Operators have the same percentage of missed incoming calls."
   ]
  },
  {
   "cell_type": "code",
   "execution_count": 94,
   "metadata": {},
   "outputs": [
    {
     "data": {
      "text/html": [
       "<div>\n",
       "<style scoped>\n",
       "    .dataframe tbody tr th:only-of-type {\n",
       "        vertical-align: middle;\n",
       "    }\n",
       "\n",
       "    .dataframe tbody tr th {\n",
       "        vertical-align: top;\n",
       "    }\n",
       "\n",
       "    .dataframe thead th {\n",
       "        text-align: right;\n",
       "    }\n",
       "</style>\n",
       "<table border=\"1\" class=\"dataframe\">\n",
       "  <thead>\n",
       "    <tr style=\"text-align: right;\">\n",
       "      <th></th>\n",
       "      <th>operator_id</th>\n",
       "      <th>total_incoming_calls_count</th>\n",
       "      <th>missed_incoming_calls_count</th>\n",
       "      <th>missed_incoming_calls_percentage</th>\n",
       "      <th>general_percentage</th>\n",
       "      <th>distance_from_mean</th>\n",
       "      <th>effectiveness</th>\n",
       "      <th>effectiveness: total</th>\n",
       "    </tr>\n",
       "  </thead>\n",
       "  <tbody>\n",
       "    <tr>\n",
       "      <td>0</td>\n",
       "      <td>879896</td>\n",
       "      <td>59</td>\n",
       "      <td>2.0</td>\n",
       "      <td>3.389831</td>\n",
       "      <td>12.20016</td>\n",
       "      <td>-8.810329</td>\n",
       "      <td>2</td>\n",
       "      <td>medium</td>\n",
       "    </tr>\n",
       "    <tr>\n",
       "      <td>1</td>\n",
       "      <td>879898</td>\n",
       "      <td>143</td>\n",
       "      <td>40.0</td>\n",
       "      <td>27.972028</td>\n",
       "      <td>12.20016</td>\n",
       "      <td>15.771868</td>\n",
       "      <td>1</td>\n",
       "      <td>medium</td>\n",
       "    </tr>\n",
       "    <tr>\n",
       "      <td>2</td>\n",
       "      <td>880020</td>\n",
       "      <td>7</td>\n",
       "      <td>0.0</td>\n",
       "      <td>0.000000</td>\n",
       "      <td>12.20016</td>\n",
       "      <td>-12.200160</td>\n",
       "      <td>3</td>\n",
       "      <td>medium</td>\n",
       "    </tr>\n",
       "    <tr>\n",
       "      <td>3</td>\n",
       "      <td>880022</td>\n",
       "      <td>8</td>\n",
       "      <td>0.0</td>\n",
       "      <td>0.000000</td>\n",
       "      <td>12.20016</td>\n",
       "      <td>-12.200160</td>\n",
       "      <td>3</td>\n",
       "      <td>medium</td>\n",
       "    </tr>\n",
       "    <tr>\n",
       "      <td>4</td>\n",
       "      <td>880026</td>\n",
       "      <td>24</td>\n",
       "      <td>0.0</td>\n",
       "      <td>0.000000</td>\n",
       "      <td>12.20016</td>\n",
       "      <td>-12.200160</td>\n",
       "      <td>3</td>\n",
       "      <td>high</td>\n",
       "    </tr>\n",
       "  </tbody>\n",
       "</table>\n",
       "</div>"
      ],
      "text/plain": [
       "   operator_id  total_incoming_calls_count  missed_incoming_calls_count  \\\n",
       "0       879896                          59                          2.0   \n",
       "1       879898                         143                         40.0   \n",
       "2       880020                           7                          0.0   \n",
       "3       880022                           8                          0.0   \n",
       "4       880026                          24                          0.0   \n",
       "\n",
       "   missed_incoming_calls_percentage  general_percentage  distance_from_mean  \\\n",
       "0                          3.389831            12.20016           -8.810329   \n",
       "1                         27.972028            12.20016           15.771868   \n",
       "2                          0.000000            12.20016          -12.200160   \n",
       "3                          0.000000            12.20016          -12.200160   \n",
       "4                          0.000000            12.20016          -12.200160   \n",
       "\n",
       "   effectiveness effectiveness: total  \n",
       "0              2               medium  \n",
       "1              1               medium  \n",
       "2              3               medium  \n",
       "3              3               medium  \n",
       "4              3                 high  "
      ]
     },
     "metadata": {},
     "output_type": "display_data"
    }
   ],
   "source": [
    "percentage_missed_calls = percentage_missed_calls.merge(operators_final, on=\"operator_id\", how=\"left\")\n",
    "display(percentage_missed_calls.head())"
   ]
  },
  {
   "cell_type": "code",
   "execution_count": 95,
   "metadata": {},
   "outputs": [
    {
     "data": {
      "text/html": [
       "<div>\n",
       "<style scoped>\n",
       "    .dataframe tbody tr th:only-of-type {\n",
       "        vertical-align: middle;\n",
       "    }\n",
       "\n",
       "    .dataframe tbody tr th {\n",
       "        vertical-align: top;\n",
       "    }\n",
       "\n",
       "    .dataframe thead th {\n",
       "        text-align: right;\n",
       "    }\n",
       "</style>\n",
       "<table border=\"1\" class=\"dataframe\">\n",
       "  <thead>\n",
       "    <tr style=\"text-align: right;\">\n",
       "      <th></th>\n",
       "      <th>effectiveness: total</th>\n",
       "      <th>failures</th>\n",
       "      <th>trials</th>\n",
       "    </tr>\n",
       "  </thead>\n",
       "  <tbody>\n",
       "    <tr>\n",
       "      <td>0</td>\n",
       "      <td>medium</td>\n",
       "      <td>2.0</td>\n",
       "      <td>59</td>\n",
       "    </tr>\n",
       "    <tr>\n",
       "      <td>1</td>\n",
       "      <td>medium</td>\n",
       "      <td>40.0</td>\n",
       "      <td>143</td>\n",
       "    </tr>\n",
       "    <tr>\n",
       "      <td>2</td>\n",
       "      <td>medium</td>\n",
       "      <td>0.0</td>\n",
       "      <td>7</td>\n",
       "    </tr>\n",
       "    <tr>\n",
       "      <td>3</td>\n",
       "      <td>medium</td>\n",
       "      <td>0.0</td>\n",
       "      <td>8</td>\n",
       "    </tr>\n",
       "    <tr>\n",
       "      <td>4</td>\n",
       "      <td>high</td>\n",
       "      <td>0.0</td>\n",
       "      <td>24</td>\n",
       "    </tr>\n",
       "  </tbody>\n",
       "</table>\n",
       "</div>"
      ],
      "text/plain": [
       "  effectiveness: total  failures  trials\n",
       "0               medium       2.0      59\n",
       "1               medium      40.0     143\n",
       "2               medium       0.0       7\n",
       "3               medium       0.0       8\n",
       "4                 high       0.0      24"
      ]
     },
     "metadata": {},
     "output_type": "display_data"
    }
   ],
   "source": [
    "table = percentage_missed_calls[['effectiveness: total', 'missed_incoming_calls_count', 'total_incoming_calls_count']]\n",
    "table = table.rename(columns={'missed_incoming_calls_count': 'failures', 'total_incoming_calls_count': 'trials'})\n",
    "display(table.head())"
   ]
  },
  {
   "cell_type": "code",
   "execution_count": 96,
   "metadata": {},
   "outputs": [
    {
     "data": {
      "text/html": [
       "<div>\n",
       "<style scoped>\n",
       "    .dataframe tbody tr th:only-of-type {\n",
       "        vertical-align: middle;\n",
       "    }\n",
       "\n",
       "    .dataframe tbody tr th {\n",
       "        vertical-align: top;\n",
       "    }\n",
       "\n",
       "    .dataframe thead th {\n",
       "        text-align: right;\n",
       "    }\n",
       "</style>\n",
       "<table border=\"1\" class=\"dataframe\">\n",
       "  <thead>\n",
       "    <tr style=\"text-align: right;\">\n",
       "      <th></th>\n",
       "      <th>effectiveness: total</th>\n",
       "      <th>failures</th>\n",
       "      <th>trials</th>\n",
       "      <th>p</th>\n",
       "    </tr>\n",
       "  </thead>\n",
       "  <tbody>\n",
       "    <tr>\n",
       "      <td>0</td>\n",
       "      <td>medium</td>\n",
       "      <td>2.0</td>\n",
       "      <td>59</td>\n",
       "      <td>0.033898</td>\n",
       "    </tr>\n",
       "    <tr>\n",
       "      <td>1</td>\n",
       "      <td>medium</td>\n",
       "      <td>40.0</td>\n",
       "      <td>143</td>\n",
       "      <td>0.279720</td>\n",
       "    </tr>\n",
       "    <tr>\n",
       "      <td>2</td>\n",
       "      <td>medium</td>\n",
       "      <td>0.0</td>\n",
       "      <td>7</td>\n",
       "      <td>0.000000</td>\n",
       "    </tr>\n",
       "    <tr>\n",
       "      <td>3</td>\n",
       "      <td>medium</td>\n",
       "      <td>0.0</td>\n",
       "      <td>8</td>\n",
       "      <td>0.000000</td>\n",
       "    </tr>\n",
       "    <tr>\n",
       "      <td>4</td>\n",
       "      <td>high</td>\n",
       "      <td>0.0</td>\n",
       "      <td>24</td>\n",
       "      <td>0.000000</td>\n",
       "    </tr>\n",
       "  </tbody>\n",
       "</table>\n",
       "</div>"
      ],
      "text/plain": [
       "  effectiveness: total  failures  trials         p\n",
       "0               medium       2.0      59  0.033898\n",
       "1               medium      40.0     143  0.279720\n",
       "2               medium       0.0       7  0.000000\n",
       "3               medium       0.0       8  0.000000\n",
       "4                 high       0.0      24  0.000000"
      ]
     },
     "metadata": {},
     "output_type": "display_data"
    }
   ],
   "source": [
    "table['p'] = table['failures']/table['trials']\n",
    "display(table.head())"
   ]
  },
  {
   "cell_type": "code",
   "execution_count": 97,
   "metadata": {},
   "outputs": [
    {
     "name": "stdout",
     "output_type": "stream",
     "text": [
      "effectiveness: medium\n"
     ]
    },
    {
     "data": {
      "image/png": "[encoded data removed]",
      "text/plain": [
       "<Figure size 432x288 with 1 Axes>"
      ]
     },
     "metadata": {
      "needs_background": "light"
     },
     "output_type": "display_data"
    },
    {
     "name": "stdout",
     "output_type": "stream",
     "text": [
      "effectiveness: high\n"
     ]
    },
    {
     "data": {
      "image/png": "[encoded data removed]",
      "text/plain": [
       "<Figure size 432x288 with 1 Axes>"
      ]
     },
     "metadata": {
      "needs_background": "light"
     },
     "output_type": "display_data"
    },
    {
     "name": "stdout",
     "output_type": "stream",
     "text": [
      "effectiveness: low\n"
     ]
    },
    {
     "data": {
      "image/png": "[encoded data removed]",
      "text/plain": [
       "<Figure size 432x288 with 1 Axes>"
      ]
     },
     "metadata": {
      "needs_background": "light"
     },
     "output_type": "display_data"
    }
   ],
   "source": [
    "table1 = table[['effectiveness: total', 'p']]\n",
    "for x in table1['effectiveness: total'].unique():\n",
    "    print(\"effectiveness:\", x)\n",
    "    table1[table1['effectiveness: total'] == x].plot.hist(alpha=0.5, bins=50)\n",
    "    plt.show()"
   ]
  },
  {
   "cell_type": "markdown",
   "metadata": {},
   "source": [
    "The distributions aren't normal, I will need to take it into account when I'll conduct the test."
   ]
  },
  {
   "cell_type": "code",
   "execution_count": 98,
   "metadata": {},
   "outputs": [],
   "source": [
    "def check_hypothesis(group1, group2, alpha = 0.05):\n",
    "    failure1 = table[table['effectiveness: total']==group1]['failures'].sum()\n",
    "    failure2 = table[table['effectiveness: total']==group2]['failures'].sum()\n",
    "    trials1 = table[table['effectiveness: total']==group1]['trials'].sum()\n",
    "    trials2 = table[table['effectiveness: total']==group2]['trials'].sum()\n",
    "    \n",
    "    p1 = failure1/trials1\n",
    "\n",
    "    p2 = failure2/trials2\n",
    "\n",
    "    p_combined = (failure1 + failure2) / (trials1 + trials2)\n",
    "\n",
    "    difference = p1 - p2\n",
    "\n",
    "    z_value = difference / mth.sqrt(p_combined * (1 - p_combined) * (1/trials1 + 1/trials2))\n",
    "\n",
    "    distr = st.norm(0, 1)\n",
    "\n",
    "    distr = st.norm(0, 1) \n",
    "\n",
    "    p_value = (1 - distr.cdf(abs(z_value))) * 2\n",
    "\n",
    "    print('p-value: ', p_value)\n",
    "\n",
    "    if (p_value < alpha):\n",
    "        print(\"Rejecting the null hypothesis for group\", group1, \"and group\", group2)\n",
    "    else:\n",
    "        print(\"Failed to reject the null hypothesis for group\", group1, \"and group\", group2)"
   ]
  },
  {
   "cell_type": "code",
   "execution_count": 99,
   "metadata": {},
   "outputs": [
    {
     "name": "stdout",
     "output_type": "stream",
     "text": [
      "p-value:  0.0\n",
      "Rejecting the null hypothesis for group high and group medium\n",
      "p-value:  0.0\n",
      "Rejecting the null hypothesis for group medium and group low\n",
      "p-value:  0.0\n",
      "Rejecting the null hypothesis for group high and group low\n"
     ]
    }
   ],
   "source": [
    "check_hypothesis('high', 'medium', alpha = 0.05)\n",
    "check_hypothesis('medium', 'low', alpha = 0.05)\n",
    "check_hypothesis('high', 'low', alpha = 0.05)"
   ]
  },
  {
   "cell_type": "markdown",
   "metadata": {},
   "source": [
    "As expected, acrroding to the test result we can reject the null hypothesis (that the percentage of missed incoming calls is the same) for all groups."
   ]
  },
  {
   "cell_type": "markdown",
   "metadata": {},
   "source": [
    "<a id=\"17\"></a>\n",
    "## Testing second hypothesis"
   ]
  },
  {
   "cell_type": "markdown",
   "metadata": {},
   "source": [
    "Null hypothesis = Ineffective Operators and effective Operators have the same percentage of waiting time for incoming calls."
   ]
  },
  {
   "cell_type": "code",
   "execution_count": 100,
   "metadata": {},
   "outputs": [
    {
     "data": {
      "text/html": [
       "<div>\n",
       "<style scoped>\n",
       "    .dataframe tbody tr th:only-of-type {\n",
       "        vertical-align: middle;\n",
       "    }\n",
       "\n",
       "    .dataframe tbody tr th {\n",
       "        vertical-align: top;\n",
       "    }\n",
       "\n",
       "    .dataframe thead th {\n",
       "        text-align: right;\n",
       "    }\n",
       "</style>\n",
       "<table border=\"1\" class=\"dataframe\">\n",
       "  <thead>\n",
       "    <tr style=\"text-align: right;\">\n",
       "      <th></th>\n",
       "      <th>operator_id</th>\n",
       "      <th>total_call_duration_per_call</th>\n",
       "      <th>call_duration_per_call</th>\n",
       "      <th>percentage_waiting_time</th>\n",
       "      <th>general_percentage</th>\n",
       "      <th>distance_from_mean</th>\n",
       "      <th>effectiveness</th>\n",
       "      <th>effectiveness: total</th>\n",
       "      <th>waiting_time_per_call</th>\n",
       "    </tr>\n",
       "  </thead>\n",
       "  <tbody>\n",
       "    <tr>\n",
       "      <td>0</td>\n",
       "      <td>879896</td>\n",
       "      <td>1972.77193</td>\n",
       "      <td>1696.451754</td>\n",
       "      <td>14.006696</td>\n",
       "      <td>13.738425</td>\n",
       "      <td>0.268271</td>\n",
       "      <td>2</td>\n",
       "      <td>medium</td>\n",
       "      <td>276.320175</td>\n",
       "    </tr>\n",
       "    <tr>\n",
       "      <td>1</td>\n",
       "      <td>879898</td>\n",
       "      <td>4521.80000</td>\n",
       "      <td>3726.233333</td>\n",
       "      <td>17.594026</td>\n",
       "      <td>13.738425</td>\n",
       "      <td>3.855601</td>\n",
       "      <td>1</td>\n",
       "      <td>medium</td>\n",
       "      <td>795.566667</td>\n",
       "    </tr>\n",
       "    <tr>\n",
       "      <td>2</td>\n",
       "      <td>880020</td>\n",
       "      <td>353.00000</td>\n",
       "      <td>299.000000</td>\n",
       "      <td>15.297450</td>\n",
       "      <td>13.738425</td>\n",
       "      <td>1.559025</td>\n",
       "      <td>2</td>\n",
       "      <td>medium</td>\n",
       "      <td>54.000000</td>\n",
       "    </tr>\n",
       "    <tr>\n",
       "      <td>3</td>\n",
       "      <td>880022</td>\n",
       "      <td>624.00000</td>\n",
       "      <td>512.000000</td>\n",
       "      <td>17.948718</td>\n",
       "      <td>13.738425</td>\n",
       "      <td>4.210293</td>\n",
       "      <td>1</td>\n",
       "      <td>medium</td>\n",
       "      <td>112.000000</td>\n",
       "    </tr>\n",
       "    <tr>\n",
       "      <td>4</td>\n",
       "      <td>880026</td>\n",
       "      <td>1127.00000</td>\n",
       "      <td>1020.166667</td>\n",
       "      <td>9.479444</td>\n",
       "      <td>13.738425</td>\n",
       "      <td>-4.258981</td>\n",
       "      <td>3</td>\n",
       "      <td>high</td>\n",
       "      <td>106.833333</td>\n",
       "    </tr>\n",
       "  </tbody>\n",
       "</table>\n",
       "</div>"
      ],
      "text/plain": [
       "   operator_id  total_call_duration_per_call  call_duration_per_call  \\\n",
       "0       879896                    1972.77193             1696.451754   \n",
       "1       879898                    4521.80000             3726.233333   \n",
       "2       880020                     353.00000              299.000000   \n",
       "3       880022                     624.00000              512.000000   \n",
       "4       880026                    1127.00000             1020.166667   \n",
       "\n",
       "   percentage_waiting_time  general_percentage  distance_from_mean  \\\n",
       "0                14.006696           13.738425            0.268271   \n",
       "1                17.594026           13.738425            3.855601   \n",
       "2                15.297450           13.738425            1.559025   \n",
       "3                17.948718           13.738425            4.210293   \n",
       "4                 9.479444           13.738425           -4.258981   \n",
       "\n",
       "   effectiveness effectiveness: total  waiting_time_per_call  \n",
       "0              2               medium             276.320175  \n",
       "1              1               medium             795.566667  \n",
       "2              2               medium              54.000000  \n",
       "3              1               medium             112.000000  \n",
       "4              3                 high             106.833333  "
      ]
     },
     "metadata": {},
     "output_type": "display_data"
    }
   ],
   "source": [
    "percentage_call_duration = percentage_call_duration.merge(operators_final, on=\"operator_id\", how=\"left\")\n",
    "percentage_call_duration['waiting_time_per_call'] = percentage_call_duration['total_call_duration_per_call'] - percentage_call_duration['call_duration_per_call']\n",
    "display(percentage_call_duration.head())"
   ]
  },
  {
   "cell_type": "code",
   "execution_count": 101,
   "metadata": {},
   "outputs": [
    {
     "data": {
      "text/html": [
       "<div>\n",
       "<style scoped>\n",
       "    .dataframe tbody tr th:only-of-type {\n",
       "        vertical-align: middle;\n",
       "    }\n",
       "\n",
       "    .dataframe tbody tr th {\n",
       "        vertical-align: top;\n",
       "    }\n",
       "\n",
       "    .dataframe thead th {\n",
       "        text-align: right;\n",
       "    }\n",
       "</style>\n",
       "<table border=\"1\" class=\"dataframe\">\n",
       "  <thead>\n",
       "    <tr style=\"text-align: right;\">\n",
       "      <th></th>\n",
       "      <th>effectiveness: total</th>\n",
       "      <th>failures</th>\n",
       "      <th>trials</th>\n",
       "    </tr>\n",
       "  </thead>\n",
       "  <tbody>\n",
       "    <tr>\n",
       "      <td>0</td>\n",
       "      <td>medium</td>\n",
       "      <td>276.320175</td>\n",
       "      <td>1972.77193</td>\n",
       "    </tr>\n",
       "    <tr>\n",
       "      <td>1</td>\n",
       "      <td>medium</td>\n",
       "      <td>795.566667</td>\n",
       "      <td>4521.80000</td>\n",
       "    </tr>\n",
       "    <tr>\n",
       "      <td>2</td>\n",
       "      <td>medium</td>\n",
       "      <td>54.000000</td>\n",
       "      <td>353.00000</td>\n",
       "    </tr>\n",
       "    <tr>\n",
       "      <td>3</td>\n",
       "      <td>medium</td>\n",
       "      <td>112.000000</td>\n",
       "      <td>624.00000</td>\n",
       "    </tr>\n",
       "    <tr>\n",
       "      <td>4</td>\n",
       "      <td>high</td>\n",
       "      <td>106.833333</td>\n",
       "      <td>1127.00000</td>\n",
       "    </tr>\n",
       "  </tbody>\n",
       "</table>\n",
       "</div>"
      ],
      "text/plain": [
       "  effectiveness: total    failures      trials\n",
       "0               medium  276.320175  1972.77193\n",
       "1               medium  795.566667  4521.80000\n",
       "2               medium   54.000000   353.00000\n",
       "3               medium  112.000000   624.00000\n",
       "4                 high  106.833333  1127.00000"
      ]
     },
     "metadata": {},
     "output_type": "display_data"
    }
   ],
   "source": [
    "table = percentage_call_duration[['effectiveness: total', 'waiting_time_per_call', 'total_call_duration_per_call']]\n",
    "table = table.rename(columns={'waiting_time_per_call': 'failures', 'total_call_duration_per_call': 'trials'})\n",
    "display(table.head())"
   ]
  },
  {
   "cell_type": "code",
   "execution_count": 102,
   "metadata": {},
   "outputs": [
    {
     "data": {
      "text/html": [
       "<div>\n",
       "<style scoped>\n",
       "    .dataframe tbody tr th:only-of-type {\n",
       "        vertical-align: middle;\n",
       "    }\n",
       "\n",
       "    .dataframe tbody tr th {\n",
       "        vertical-align: top;\n",
       "    }\n",
       "\n",
       "    .dataframe thead th {\n",
       "        text-align: right;\n",
       "    }\n",
       "</style>\n",
       "<table border=\"1\" class=\"dataframe\">\n",
       "  <thead>\n",
       "    <tr style=\"text-align: right;\">\n",
       "      <th></th>\n",
       "      <th>effectiveness: total</th>\n",
       "      <th>failures</th>\n",
       "      <th>trials</th>\n",
       "      <th>p</th>\n",
       "    </tr>\n",
       "  </thead>\n",
       "  <tbody>\n",
       "    <tr>\n",
       "      <td>0</td>\n",
       "      <td>medium</td>\n",
       "      <td>276.320175</td>\n",
       "      <td>1972.77193</td>\n",
       "      <td>0.140067</td>\n",
       "    </tr>\n",
       "    <tr>\n",
       "      <td>1</td>\n",
       "      <td>medium</td>\n",
       "      <td>795.566667</td>\n",
       "      <td>4521.80000</td>\n",
       "      <td>0.175940</td>\n",
       "    </tr>\n",
       "    <tr>\n",
       "      <td>2</td>\n",
       "      <td>medium</td>\n",
       "      <td>54.000000</td>\n",
       "      <td>353.00000</td>\n",
       "      <td>0.152975</td>\n",
       "    </tr>\n",
       "    <tr>\n",
       "      <td>3</td>\n",
       "      <td>medium</td>\n",
       "      <td>112.000000</td>\n",
       "      <td>624.00000</td>\n",
       "      <td>0.179487</td>\n",
       "    </tr>\n",
       "    <tr>\n",
       "      <td>4</td>\n",
       "      <td>high</td>\n",
       "      <td>106.833333</td>\n",
       "      <td>1127.00000</td>\n",
       "      <td>0.094794</td>\n",
       "    </tr>\n",
       "  </tbody>\n",
       "</table>\n",
       "</div>"
      ],
      "text/plain": [
       "  effectiveness: total    failures      trials         p\n",
       "0               medium  276.320175  1972.77193  0.140067\n",
       "1               medium  795.566667  4521.80000  0.175940\n",
       "2               medium   54.000000   353.00000  0.152975\n",
       "3               medium  112.000000   624.00000  0.179487\n",
       "4                 high  106.833333  1127.00000  0.094794"
      ]
     },
     "metadata": {},
     "output_type": "display_data"
    }
   ],
   "source": [
    "table['p'] = table['failures']/table['trials']\n",
    "display(table.head())"
   ]
  },
  {
   "cell_type": "code",
   "execution_count": 103,
   "metadata": {},
   "outputs": [
    {
     "name": "stdout",
     "output_type": "stream",
     "text": [
      "effectiveness: medium\n"
     ]
    },
    {
     "data": {
      "image/png": "[encoded data removed]",
      "text/plain": [
       "<Figure size 432x288 with 1 Axes>"
      ]
     },
     "metadata": {
      "needs_background": "light"
     },
     "output_type": "display_data"
    },
    {
     "name": "stdout",
     "output_type": "stream",
     "text": [
      "effectiveness: high\n"
     ]
    },
    {
     "data": {
      "image/png": "[encoded data removed]",
      "text/plain": [
       "<Figure size 432x288 with 1 Axes>"
      ]
     },
     "metadata": {
      "needs_background": "light"
     },
     "output_type": "display_data"
    },
    {
     "name": "stdout",
     "output_type": "stream",
     "text": [
      "effectiveness: low\n"
     ]
    },
    {
     "data": {
      "image/png": "[encoded data removed]",
      "text/plain": [
       "<Figure size 432x288 with 1 Axes>"
      ]
     },
     "metadata": {
      "needs_background": "light"
     },
     "output_type": "display_data"
    }
   ],
   "source": [
    "table1 = table[['effectiveness: total', 'p']]\n",
    "for x in table1['effectiveness: total'].unique():\n",
    "    print(\"effectiveness:\", x)\n",
    "    table1[table1['effectiveness: total'] == x].plot.hist(alpha=0.5, bins=50)\n",
    "    plt.show()"
   ]
  },
  {
   "cell_type": "markdown",
   "metadata": {},
   "source": [
    "The distributions aren't normal."
   ]
  },
  {
   "cell_type": "code",
   "execution_count": 104,
   "metadata": {},
   "outputs": [
    {
     "name": "stdout",
     "output_type": "stream",
     "text": [
      "p-value:  0.0\n",
      "Rejecting the null hypothesis for group high and group medium\n",
      "p-value:  0.0\n",
      "Rejecting the null hypothesis for group medium and group low\n",
      "p-value:  0.0\n",
      "Rejecting the null hypothesis for group high and group low\n"
     ]
    }
   ],
   "source": [
    "check_hypothesis('high', 'medium', alpha = 0.05)\n",
    "check_hypothesis('medium', 'low', alpha = 0.05)\n",
    "check_hypothesis('high', 'low', alpha = 0.05)"
   ]
  },
  {
   "cell_type": "markdown",
   "metadata": {},
   "source": [
    "The Null hypothesis, that ineffective Operators and effective Operators have the same percentage of waiting time for incoming calls, was rejected in every combination. We have significant difference between the 3 groups."
   ]
  },
  {
   "cell_type": "markdown",
   "metadata": {},
   "source": [
    "<a id=\"18\"></a>\n",
    "## Testing third hypothesis"
   ]
  },
  {
   "cell_type": "markdown",
   "metadata": {},
   "source": [
    "Null hypothesis = For operators that supposed to make outgoing calls, Ineffective Operators and effective Operators have the same percentage of outgoing calls."
   ]
  },
  {
   "cell_type": "code",
   "execution_count": 105,
   "metadata": {},
   "outputs": [
    {
     "data": {
      "text/html": [
       "<div>\n",
       "<style scoped>\n",
       "    .dataframe tbody tr th:only-of-type {\n",
       "        vertical-align: middle;\n",
       "    }\n",
       "\n",
       "    .dataframe tbody tr th {\n",
       "        vertical-align: top;\n",
       "    }\n",
       "\n",
       "    .dataframe thead th {\n",
       "        text-align: right;\n",
       "    }\n",
       "</style>\n",
       "<table border=\"1\" class=\"dataframe\">\n",
       "  <thead>\n",
       "    <tr style=\"text-align: right;\">\n",
       "      <th></th>\n",
       "      <th>operator_id</th>\n",
       "      <th>outgoing_calls_count</th>\n",
       "      <th>total_calls_count</th>\n",
       "      <th>percentage_outgoing_calls</th>\n",
       "      <th>general_percentage</th>\n",
       "      <th>distance_from_mean</th>\n",
       "      <th>effectiveness</th>\n",
       "      <th>effectiveness: total</th>\n",
       "    </tr>\n",
       "  </thead>\n",
       "  <tbody>\n",
       "    <tr>\n",
       "      <td>0</td>\n",
       "      <td>879896</td>\n",
       "      <td>811</td>\n",
       "      <td>926</td>\n",
       "      <td>87.580994</td>\n",
       "      <td>79.421077</td>\n",
       "      <td>8.159916</td>\n",
       "      <td>2</td>\n",
       "      <td>medium</td>\n",
       "    </tr>\n",
       "    <tr>\n",
       "      <td>1</td>\n",
       "      <td>879898</td>\n",
       "      <td>7035</td>\n",
       "      <td>7196</td>\n",
       "      <td>97.762646</td>\n",
       "      <td>79.421077</td>\n",
       "      <td>18.341569</td>\n",
       "      <td>2</td>\n",
       "      <td>medium</td>\n",
       "    </tr>\n",
       "    <tr>\n",
       "      <td>2</td>\n",
       "      <td>880020</td>\n",
       "      <td>34</td>\n",
       "      <td>45</td>\n",
       "      <td>75.555556</td>\n",
       "      <td>79.421077</td>\n",
       "      <td>-3.865522</td>\n",
       "      <td>1</td>\n",
       "      <td>medium</td>\n",
       "    </tr>\n",
       "    <tr>\n",
       "      <td>3</td>\n",
       "      <td>880022</td>\n",
       "      <td>170</td>\n",
       "      <td>193</td>\n",
       "      <td>88.082902</td>\n",
       "      <td>79.421077</td>\n",
       "      <td>8.661824</td>\n",
       "      <td>2</td>\n",
       "      <td>medium</td>\n",
       "    </tr>\n",
       "    <tr>\n",
       "      <td>4</td>\n",
       "      <td>880026</td>\n",
       "      <td>2188</td>\n",
       "      <td>2232</td>\n",
       "      <td>98.028674</td>\n",
       "      <td>79.421077</td>\n",
       "      <td>18.607597</td>\n",
       "      <td>2</td>\n",
       "      <td>high</td>\n",
       "    </tr>\n",
       "  </tbody>\n",
       "</table>\n",
       "</div>"
      ],
      "text/plain": [
       "   operator_id  outgoing_calls_count  total_calls_count  \\\n",
       "0       879896                   811                926   \n",
       "1       879898                  7035               7196   \n",
       "2       880020                    34                 45   \n",
       "3       880022                   170                193   \n",
       "4       880026                  2188               2232   \n",
       "\n",
       "   percentage_outgoing_calls  general_percentage  distance_from_mean  \\\n",
       "0                  87.580994           79.421077            8.159916   \n",
       "1                  97.762646           79.421077           18.341569   \n",
       "2                  75.555556           79.421077           -3.865522   \n",
       "3                  88.082902           79.421077            8.661824   \n",
       "4                  98.028674           79.421077           18.607597   \n",
       "\n",
       "   effectiveness effectiveness: total  \n",
       "0              2               medium  \n",
       "1              2               medium  \n",
       "2              1               medium  \n",
       "3              2               medium  \n",
       "4              2                 high  "
      ]
     },
     "metadata": {},
     "output_type": "display_data"
    }
   ],
   "source": [
    "percentage_outgoing_calls = percentage_outgoing_calls.merge(operators_final, on=\"operator_id\", how=\"left\")\n",
    "display(percentage_outgoing_calls.head())"
   ]
  },
  {
   "cell_type": "code",
   "execution_count": 106,
   "metadata": {},
   "outputs": [
    {
     "data": {
      "text/html": [
       "<div>\n",
       "<style scoped>\n",
       "    .dataframe tbody tr th:only-of-type {\n",
       "        vertical-align: middle;\n",
       "    }\n",
       "\n",
       "    .dataframe tbody tr th {\n",
       "        vertical-align: top;\n",
       "    }\n",
       "\n",
       "    .dataframe thead th {\n",
       "        text-align: right;\n",
       "    }\n",
       "</style>\n",
       "<table border=\"1\" class=\"dataframe\">\n",
       "  <thead>\n",
       "    <tr style=\"text-align: right;\">\n",
       "      <th></th>\n",
       "      <th>effectiveness: total</th>\n",
       "      <th>success</th>\n",
       "      <th>trials</th>\n",
       "    </tr>\n",
       "  </thead>\n",
       "  <tbody>\n",
       "    <tr>\n",
       "      <td>0</td>\n",
       "      <td>medium</td>\n",
       "      <td>811</td>\n",
       "      <td>926</td>\n",
       "    </tr>\n",
       "    <tr>\n",
       "      <td>1</td>\n",
       "      <td>medium</td>\n",
       "      <td>7035</td>\n",
       "      <td>7196</td>\n",
       "    </tr>\n",
       "    <tr>\n",
       "      <td>2</td>\n",
       "      <td>medium</td>\n",
       "      <td>34</td>\n",
       "      <td>45</td>\n",
       "    </tr>\n",
       "    <tr>\n",
       "      <td>3</td>\n",
       "      <td>medium</td>\n",
       "      <td>170</td>\n",
       "      <td>193</td>\n",
       "    </tr>\n",
       "    <tr>\n",
       "      <td>4</td>\n",
       "      <td>high</td>\n",
       "      <td>2188</td>\n",
       "      <td>2232</td>\n",
       "    </tr>\n",
       "  </tbody>\n",
       "</table>\n",
       "</div>"
      ],
      "text/plain": [
       "  effectiveness: total  success  trials\n",
       "0               medium      811     926\n",
       "1               medium     7035    7196\n",
       "2               medium       34      45\n",
       "3               medium      170     193\n",
       "4                 high     2188    2232"
      ]
     },
     "metadata": {},
     "output_type": "display_data"
    }
   ],
   "source": [
    "table = percentage_outgoing_calls[['effectiveness: total', 'outgoing_calls_count', 'total_calls_count']]\n",
    "table = table.rename(columns={'outgoing_calls_count': 'success', 'total_calls_count': 'trials'})\n",
    "display(table.head())"
   ]
  },
  {
   "cell_type": "code",
   "execution_count": 107,
   "metadata": {},
   "outputs": [
    {
     "data": {
      "text/html": [
       "<div>\n",
       "<style scoped>\n",
       "    .dataframe tbody tr th:only-of-type {\n",
       "        vertical-align: middle;\n",
       "    }\n",
       "\n",
       "    .dataframe tbody tr th {\n",
       "        vertical-align: top;\n",
       "    }\n",
       "\n",
       "    .dataframe thead th {\n",
       "        text-align: right;\n",
       "    }\n",
       "</style>\n",
       "<table border=\"1\" class=\"dataframe\">\n",
       "  <thead>\n",
       "    <tr style=\"text-align: right;\">\n",
       "      <th></th>\n",
       "      <th>effectiveness: total</th>\n",
       "      <th>success</th>\n",
       "      <th>trials</th>\n",
       "      <th>p</th>\n",
       "    </tr>\n",
       "  </thead>\n",
       "  <tbody>\n",
       "    <tr>\n",
       "      <td>0</td>\n",
       "      <td>medium</td>\n",
       "      <td>811</td>\n",
       "      <td>926</td>\n",
       "      <td>0.875810</td>\n",
       "    </tr>\n",
       "    <tr>\n",
       "      <td>1</td>\n",
       "      <td>medium</td>\n",
       "      <td>7035</td>\n",
       "      <td>7196</td>\n",
       "      <td>0.977626</td>\n",
       "    </tr>\n",
       "    <tr>\n",
       "      <td>2</td>\n",
       "      <td>medium</td>\n",
       "      <td>34</td>\n",
       "      <td>45</td>\n",
       "      <td>0.755556</td>\n",
       "    </tr>\n",
       "    <tr>\n",
       "      <td>3</td>\n",
       "      <td>medium</td>\n",
       "      <td>170</td>\n",
       "      <td>193</td>\n",
       "      <td>0.880829</td>\n",
       "    </tr>\n",
       "    <tr>\n",
       "      <td>4</td>\n",
       "      <td>high</td>\n",
       "      <td>2188</td>\n",
       "      <td>2232</td>\n",
       "      <td>0.980287</td>\n",
       "    </tr>\n",
       "  </tbody>\n",
       "</table>\n",
       "</div>"
      ],
      "text/plain": [
       "  effectiveness: total  success  trials         p\n",
       "0               medium      811     926  0.875810\n",
       "1               medium     7035    7196  0.977626\n",
       "2               medium       34      45  0.755556\n",
       "3               medium      170     193  0.880829\n",
       "4                 high     2188    2232  0.980287"
      ]
     },
     "metadata": {},
     "output_type": "display_data"
    }
   ],
   "source": [
    "table['p'] = table['success']/table['trials']\n",
    "display(table.head())"
   ]
  },
  {
   "cell_type": "code",
   "execution_count": 108,
   "metadata": {},
   "outputs": [
    {
     "name": "stdout",
     "output_type": "stream",
     "text": [
      "effectiveness: medium\n"
     ]
    },
    {
     "data": {
      "image/png": "[encoded data removed]",
      "text/plain": [
       "<Figure size 432x288 with 1 Axes>"
      ]
     },
     "metadata": {
      "needs_background": "light"
     },
     "output_type": "display_data"
    },
    {
     "name": "stdout",
     "output_type": "stream",
     "text": [
      "effectiveness: high\n"
     ]
    },
    {
     "data": {
      "image/png": "[encoded data removed]",
      "text/plain": [
       "<Figure size 432x288 with 1 Axes>"
      ]
     },
     "metadata": {
      "needs_background": "light"
     },
     "output_type": "display_data"
    },
    {
     "name": "stdout",
     "output_type": "stream",
     "text": [
      "effectiveness: low\n"
     ]
    },
    {
     "data": {
      "image/png": "[encoded data removed]",
      "text/plain": [
       "<Figure size 432x288 with 1 Axes>"
      ]
     },
     "metadata": {
      "needs_background": "light"
     },
     "output_type": "display_data"
    }
   ],
   "source": [
    "table1 = table[['effectiveness: total', 'p']]\n",
    "for x in table1['effectiveness: total'].unique():\n",
    "    print(\"effectiveness:\", x)\n",
    "    table1[table1['effectiveness: total'] == x].plot.hist(alpha=0.5, bins=50)\n",
    "    plt.show()"
   ]
  },
  {
   "cell_type": "markdown",
   "metadata": {},
   "source": [
    "The distributions aren't normal."
   ]
  },
  {
   "cell_type": "code",
   "execution_count": 109,
   "metadata": {},
   "outputs": [],
   "source": [
    "def check_hypothesis(group1, group2, alpha = 0.05):\n",
    "    success1 = table[table['effectiveness: total']==group1]['success'].sum()\n",
    "    success2 = table[table['effectiveness: total']==group2]['success'].sum()\n",
    "    trials1 = table[table['effectiveness: total']==group1]['trials'].sum()\n",
    "    trials2 = table[table['effectiveness: total']==group2]['trials'].sum()\n",
    "    \n",
    "    p1 = success1/trials1\n",
    "\n",
    "    p2 = success2/trials2\n",
    "\n",
    "    p_combined = (success1 + success2) / (trials1 + trials2)\n",
    "\n",
    "    difference = p1 - p2\n",
    "\n",
    "    z_value = difference / mth.sqrt(p_combined * (1 - p_combined) * (1/trials1 + 1/trials2))\n",
    "\n",
    "    distr = st.norm(0, 1)\n",
    "\n",
    "    distr = st.norm(0, 1) \n",
    "\n",
    "    p_value = (1 - distr.cdf(abs(z_value))) * 2\n",
    "\n",
    "    print('p-value: ', p_value)\n",
    "\n",
    "    if (p_value < alpha):\n",
    "        print(\"Rejecting the null hypothesis for group\", group1, \"and group\", group2)\n",
    "    else:\n",
    "        print(\"Failed to reject the null hypothesis for group\", group1, \"and group\", group2)"
   ]
  },
  {
   "cell_type": "code",
   "execution_count": 110,
   "metadata": {},
   "outputs": [
    {
     "name": "stdout",
     "output_type": "stream",
     "text": [
      "p-value:  0.0\n",
      "Rejecting the null hypothesis for group high and group medium\n",
      "p-value:  0.0\n",
      "Rejecting the null hypothesis for group medium and group low\n",
      "p-value:  0.0\n",
      "Rejecting the null hypothesis for group high and group low\n"
     ]
    }
   ],
   "source": [
    "check_hypothesis('high', 'medium', alpha = 0.05)\n",
    "check_hypothesis('medium', 'low', alpha = 0.05)\n",
    "check_hypothesis('high', 'low', alpha = 0.05)"
   ]
  },
  {
   "cell_type": "markdown",
   "metadata": {},
   "source": [
    "The Null hypothesis, that for operators that supposed to make outgoing calls, Ineffective Operators and effective Operators have the same percentage of outgoing calls, was rejected in every combination. We have significant difference between the 3 groups.\n",
    "so far so good!"
   ]
  },
  {
   "cell_type": "markdown",
   "metadata": {},
   "source": [
    "<a id=\"19\"></a>\n",
    "## Testing final hypothesis"
   ]
  },
  {
   "cell_type": "markdown",
   "metadata": {},
   "source": [
    "Null hypothesis: The mean lifetime of customers of ineffective operators is the same as the mean lifetime of customers of effective operators.\n",
    "Alternative hypothesis: The mean lifetime of customers of ineffective operators is different than the mean lifetime of customers of effective operators."
   ]
  },
  {
   "cell_type": "code",
   "execution_count": 111,
   "metadata": {},
   "outputs": [
    {
     "data": {
      "text/plain": [
       "(42691, 11)"
      ]
     },
     "execution_count": 111,
     "metadata": {},
     "output_type": "execute_result"
    }
   ],
   "source": [
    "dataset.shape"
   ]
  },
  {
   "cell_type": "code",
   "execution_count": 112,
   "metadata": {},
   "outputs": [
    {
     "data": {
      "text/plain": [
       "(42691, 12)"
      ]
     },
     "metadata": {},
     "output_type": "display_data"
    }
   ],
   "source": [
    "dataset = dataset.merge(operators_final, on=['operator_id'], how='left')\n",
    "display(dataset.shape)"
   ]
  },
  {
   "cell_type": "code",
   "execution_count": 113,
   "metadata": {},
   "outputs": [
    {
     "data": {
      "text/plain": [
       "(42691, 14)"
      ]
     },
     "metadata": {},
     "output_type": "display_data"
    }
   ],
   "source": [
    "dataset = dataset.merge(clients, on=['user_id'], how='left')\n",
    "display(dataset.shape)"
   ]
  },
  {
   "cell_type": "code",
   "execution_count": 114,
   "metadata": {},
   "outputs": [
    {
     "data": {
      "text/html": [
       "<div>\n",
       "<style scoped>\n",
       "    .dataframe tbody tr th:only-of-type {\n",
       "        vertical-align: middle;\n",
       "    }\n",
       "\n",
       "    .dataframe tbody tr th {\n",
       "        vertical-align: top;\n",
       "    }\n",
       "\n",
       "    .dataframe thead th {\n",
       "        text-align: right;\n",
       "    }\n",
       "</style>\n",
       "<table border=\"1\" class=\"dataframe\">\n",
       "  <thead>\n",
       "    <tr style=\"text-align: right;\">\n",
       "      <th></th>\n",
       "      <th>user_id</th>\n",
       "      <th>date</th>\n",
       "      <th>direction</th>\n",
       "      <th>internal</th>\n",
       "      <th>operator_id</th>\n",
       "      <th>is_missed_call</th>\n",
       "      <th>calls_count</th>\n",
       "      <th>call_duration</th>\n",
       "      <th>total_call_duration</th>\n",
       "      <th>call_duration_per_call</th>\n",
       "      <th>total_call_duration_per_call</th>\n",
       "      <th>effectiveness: total</th>\n",
       "      <th>tariff_plan</th>\n",
       "      <th>date_start</th>\n",
       "    </tr>\n",
       "  </thead>\n",
       "  <tbody>\n",
       "    <tr>\n",
       "      <td>0</td>\n",
       "      <td>166377</td>\n",
       "      <td>2019-08-04</td>\n",
       "      <td>out</td>\n",
       "      <td>True</td>\n",
       "      <td>880022</td>\n",
       "      <td>True</td>\n",
       "      <td>3</td>\n",
       "      <td>0</td>\n",
       "      <td>5</td>\n",
       "      <td>0.0</td>\n",
       "      <td>1.666667</td>\n",
       "      <td>medium</td>\n",
       "      <td>B</td>\n",
       "      <td>2019-08-01</td>\n",
       "    </tr>\n",
       "    <tr>\n",
       "      <td>1</td>\n",
       "      <td>166377</td>\n",
       "      <td>2019-08-04</td>\n",
       "      <td>out</td>\n",
       "      <td>True</td>\n",
       "      <td>880020</td>\n",
       "      <td>True</td>\n",
       "      <td>1</td>\n",
       "      <td>0</td>\n",
       "      <td>1</td>\n",
       "      <td>0.0</td>\n",
       "      <td>1.000000</td>\n",
       "      <td>medium</td>\n",
       "      <td>B</td>\n",
       "      <td>2019-08-01</td>\n",
       "    </tr>\n",
       "    <tr>\n",
       "      <td>2</td>\n",
       "      <td>166377</td>\n",
       "      <td>2019-08-04</td>\n",
       "      <td>out</td>\n",
       "      <td>True</td>\n",
       "      <td>880020</td>\n",
       "      <td>False</td>\n",
       "      <td>1</td>\n",
       "      <td>10</td>\n",
       "      <td>18</td>\n",
       "      <td>10.0</td>\n",
       "      <td>18.000000</td>\n",
       "      <td>medium</td>\n",
       "      <td>B</td>\n",
       "      <td>2019-08-01</td>\n",
       "    </tr>\n",
       "    <tr>\n",
       "      <td>3</td>\n",
       "      <td>166377</td>\n",
       "      <td>2019-08-04</td>\n",
       "      <td>out</td>\n",
       "      <td>False</td>\n",
       "      <td>880022</td>\n",
       "      <td>True</td>\n",
       "      <td>3</td>\n",
       "      <td>0</td>\n",
       "      <td>25</td>\n",
       "      <td>0.0</td>\n",
       "      <td>8.333333</td>\n",
       "      <td>medium</td>\n",
       "      <td>B</td>\n",
       "      <td>2019-08-01</td>\n",
       "    </tr>\n",
       "    <tr>\n",
       "      <td>4</td>\n",
       "      <td>166377</td>\n",
       "      <td>2019-08-04</td>\n",
       "      <td>out</td>\n",
       "      <td>False</td>\n",
       "      <td>880020</td>\n",
       "      <td>False</td>\n",
       "      <td>2</td>\n",
       "      <td>3</td>\n",
       "      <td>29</td>\n",
       "      <td>1.5</td>\n",
       "      <td>14.500000</td>\n",
       "      <td>medium</td>\n",
       "      <td>B</td>\n",
       "      <td>2019-08-01</td>\n",
       "    </tr>\n",
       "  </tbody>\n",
       "</table>\n",
       "</div>"
      ],
      "text/plain": [
       "   user_id       date direction internal  operator_id  is_missed_call  \\\n",
       "0   166377 2019-08-04       out     True       880022            True   \n",
       "1   166377 2019-08-04       out     True       880020            True   \n",
       "2   166377 2019-08-04       out     True       880020           False   \n",
       "3   166377 2019-08-04       out    False       880022            True   \n",
       "4   166377 2019-08-04       out    False       880020           False   \n",
       "\n",
       "   calls_count  call_duration  total_call_duration  call_duration_per_call  \\\n",
       "0            3              0                    5                     0.0   \n",
       "1            1              0                    1                     0.0   \n",
       "2            1             10                   18                    10.0   \n",
       "3            3              0                   25                     0.0   \n",
       "4            2              3                   29                     1.5   \n",
       "\n",
       "   total_call_duration_per_call effectiveness: total tariff_plan date_start  \n",
       "0                      1.666667               medium           B 2019-08-01  \n",
       "1                      1.000000               medium           B 2019-08-01  \n",
       "2                     18.000000               medium           B 2019-08-01  \n",
       "3                      8.333333               medium           B 2019-08-01  \n",
       "4                     14.500000               medium           B 2019-08-01  "
      ]
     },
     "execution_count": 114,
     "metadata": {},
     "output_type": "execute_result"
    }
   ],
   "source": [
    "dataset.head(5)"
   ]
  },
  {
   "cell_type": "code",
   "execution_count": 115,
   "metadata": {},
   "outputs": [
    {
     "data": {
      "text/plain": [
       "medium    21920\n",
       "low       10499\n",
       "high      10272\n",
       "Name: effectiveness: total, dtype: int64"
      ]
     },
     "execution_count": 115,
     "metadata": {},
     "output_type": "execute_result"
    }
   ],
   "source": [
    "dataset['effectiveness: total'].value_counts()"
   ]
  },
  {
   "cell_type": "code",
   "execution_count": 116,
   "metadata": {},
   "outputs": [
    {
     "data": {
      "text/html": [
       "<div>\n",
       "<style scoped>\n",
       "    .dataframe tbody tr th:only-of-type {\n",
       "        vertical-align: middle;\n",
       "    }\n",
       "\n",
       "    .dataframe tbody tr th {\n",
       "        vertical-align: top;\n",
       "    }\n",
       "\n",
       "    .dataframe thead th {\n",
       "        text-align: right;\n",
       "    }\n",
       "</style>\n",
       "<table border=\"1\" class=\"dataframe\">\n",
       "  <thead>\n",
       "    <tr style=\"text-align: right;\">\n",
       "      <th></th>\n",
       "      <th>user_id</th>\n",
       "      <th>date</th>\n",
       "      <th>direction</th>\n",
       "      <th>internal</th>\n",
       "      <th>operator_id</th>\n",
       "      <th>is_missed_call</th>\n",
       "      <th>calls_count</th>\n",
       "      <th>call_duration</th>\n",
       "      <th>total_call_duration</th>\n",
       "      <th>call_duration_per_call</th>\n",
       "      <th>total_call_duration_per_call</th>\n",
       "      <th>effectiveness: total</th>\n",
       "      <th>tariff_plan</th>\n",
       "      <th>date_start</th>\n",
       "      <th>costumer_lifetime</th>\n",
       "    </tr>\n",
       "  </thead>\n",
       "  <tbody>\n",
       "    <tr>\n",
       "      <td>0</td>\n",
       "      <td>166377</td>\n",
       "      <td>2019-08-04</td>\n",
       "      <td>out</td>\n",
       "      <td>True</td>\n",
       "      <td>880022</td>\n",
       "      <td>True</td>\n",
       "      <td>3</td>\n",
       "      <td>0</td>\n",
       "      <td>5</td>\n",
       "      <td>0.0</td>\n",
       "      <td>1.666667</td>\n",
       "      <td>medium</td>\n",
       "      <td>B</td>\n",
       "      <td>2019-08-01</td>\n",
       "      <td>3.0</td>\n",
       "    </tr>\n",
       "    <tr>\n",
       "      <td>1</td>\n",
       "      <td>166377</td>\n",
       "      <td>2019-08-04</td>\n",
       "      <td>out</td>\n",
       "      <td>True</td>\n",
       "      <td>880020</td>\n",
       "      <td>True</td>\n",
       "      <td>1</td>\n",
       "      <td>0</td>\n",
       "      <td>1</td>\n",
       "      <td>0.0</td>\n",
       "      <td>1.000000</td>\n",
       "      <td>medium</td>\n",
       "      <td>B</td>\n",
       "      <td>2019-08-01</td>\n",
       "      <td>3.0</td>\n",
       "    </tr>\n",
       "    <tr>\n",
       "      <td>2</td>\n",
       "      <td>166377</td>\n",
       "      <td>2019-08-04</td>\n",
       "      <td>out</td>\n",
       "      <td>True</td>\n",
       "      <td>880020</td>\n",
       "      <td>False</td>\n",
       "      <td>1</td>\n",
       "      <td>10</td>\n",
       "      <td>18</td>\n",
       "      <td>10.0</td>\n",
       "      <td>18.000000</td>\n",
       "      <td>medium</td>\n",
       "      <td>B</td>\n",
       "      <td>2019-08-01</td>\n",
       "      <td>3.0</td>\n",
       "    </tr>\n",
       "    <tr>\n",
       "      <td>3</td>\n",
       "      <td>166377</td>\n",
       "      <td>2019-08-04</td>\n",
       "      <td>out</td>\n",
       "      <td>False</td>\n",
       "      <td>880022</td>\n",
       "      <td>True</td>\n",
       "      <td>3</td>\n",
       "      <td>0</td>\n",
       "      <td>25</td>\n",
       "      <td>0.0</td>\n",
       "      <td>8.333333</td>\n",
       "      <td>medium</td>\n",
       "      <td>B</td>\n",
       "      <td>2019-08-01</td>\n",
       "      <td>3.0</td>\n",
       "    </tr>\n",
       "    <tr>\n",
       "      <td>4</td>\n",
       "      <td>166377</td>\n",
       "      <td>2019-08-04</td>\n",
       "      <td>out</td>\n",
       "      <td>False</td>\n",
       "      <td>880020</td>\n",
       "      <td>False</td>\n",
       "      <td>2</td>\n",
       "      <td>3</td>\n",
       "      <td>29</td>\n",
       "      <td>1.5</td>\n",
       "      <td>14.500000</td>\n",
       "      <td>medium</td>\n",
       "      <td>B</td>\n",
       "      <td>2019-08-01</td>\n",
       "      <td>3.0</td>\n",
       "    </tr>\n",
       "  </tbody>\n",
       "</table>\n",
       "</div>"
      ],
      "text/plain": [
       "   user_id       date direction internal  operator_id  is_missed_call  \\\n",
       "0   166377 2019-08-04       out     True       880022            True   \n",
       "1   166377 2019-08-04       out     True       880020            True   \n",
       "2   166377 2019-08-04       out     True       880020           False   \n",
       "3   166377 2019-08-04       out    False       880022            True   \n",
       "4   166377 2019-08-04       out    False       880020           False   \n",
       "\n",
       "   calls_count  call_duration  total_call_duration  call_duration_per_call  \\\n",
       "0            3              0                    5                     0.0   \n",
       "1            1              0                    1                     0.0   \n",
       "2            1             10                   18                    10.0   \n",
       "3            3              0                   25                     0.0   \n",
       "4            2              3                   29                     1.5   \n",
       "\n",
       "   total_call_duration_per_call effectiveness: total tariff_plan date_start  \\\n",
       "0                      1.666667               medium           B 2019-08-01   \n",
       "1                      1.000000               medium           B 2019-08-01   \n",
       "2                     18.000000               medium           B 2019-08-01   \n",
       "3                      8.333333               medium           B 2019-08-01   \n",
       "4                     14.500000               medium           B 2019-08-01   \n",
       "\n",
       "   costumer_lifetime  \n",
       "0                3.0  \n",
       "1                3.0  \n",
       "2                3.0  \n",
       "3                3.0  \n",
       "4                3.0  "
      ]
     },
     "metadata": {},
     "output_type": "display_data"
    }
   ],
   "source": [
    "dataset['costumer_lifetime'] = dataset['date'] - dataset['date_start']\n",
    "dataset['costumer_lifetime'] = dataset['costumer_lifetime'] / pd.to_timedelta(1, unit='D')\n",
    "display(dataset.head(5))"
   ]
  },
  {
   "cell_type": "code",
   "execution_count": 117,
   "metadata": {},
   "outputs": [
    {
     "data": {
      "text/plain": [
       "117"
      ]
     },
     "execution_count": 117,
     "metadata": {},
     "output_type": "execute_result"
    }
   ],
   "source": [
    "len(dataset[dataset['costumer_lifetime'] < 0])"
   ]
  },
  {
   "cell_type": "code",
   "execution_count": 118,
   "metadata": {},
   "outputs": [
    {
     "data": {
      "text/plain": [
       "(42574, 15)"
      ]
     },
     "metadata": {},
     "output_type": "display_data"
    }
   ],
   "source": [
    "dataset = dataset[dataset['costumer_lifetime'] >= 0]\n",
    "display(dataset.shape)"
   ]
  },
  {
   "cell_type": "code",
   "execution_count": 119,
   "metadata": {},
   "outputs": [
    {
     "data": {
      "text/html": [
       "<div>\n",
       "<style scoped>\n",
       "    .dataframe tbody tr th:only-of-type {\n",
       "        vertical-align: middle;\n",
       "    }\n",
       "\n",
       "    .dataframe tbody tr th {\n",
       "        vertical-align: top;\n",
       "    }\n",
       "\n",
       "    .dataframe thead th {\n",
       "        text-align: right;\n",
       "    }\n",
       "</style>\n",
       "<table border=\"1\" class=\"dataframe\">\n",
       "  <thead>\n",
       "    <tr style=\"text-align: right;\">\n",
       "      <th></th>\n",
       "      <th>costumer_lifetime_final</th>\n",
       "    </tr>\n",
       "    <tr>\n",
       "      <th>user_id</th>\n",
       "      <th></th>\n",
       "    </tr>\n",
       "  </thead>\n",
       "  <tbody>\n",
       "    <tr>\n",
       "      <td>166377</td>\n",
       "      <td>118.0</td>\n",
       "    </tr>\n",
       "    <tr>\n",
       "      <td>166391</td>\n",
       "      <td>112.0</td>\n",
       "    </tr>\n",
       "    <tr>\n",
       "      <td>166392</td>\n",
       "      <td>118.0</td>\n",
       "    </tr>\n",
       "    <tr>\n",
       "      <td>166399</td>\n",
       "      <td>82.0</td>\n",
       "    </tr>\n",
       "    <tr>\n",
       "      <td>166405</td>\n",
       "      <td>117.0</td>\n",
       "    </tr>\n",
       "  </tbody>\n",
       "</table>\n",
       "</div>"
      ],
      "text/plain": [
       "         costumer_lifetime_final\n",
       "user_id                         \n",
       "166377                     118.0\n",
       "166391                     112.0\n",
       "166392                     118.0\n",
       "166399                      82.0\n",
       "166405                     117.0"
      ]
     },
     "metadata": {},
     "output_type": "display_data"
    }
   ],
   "source": [
    "costumer_lifetime = dataset.groupby('user_id').agg({'costumer_lifetime':'max'})\n",
    "costumer_lifetime = costumer_lifetime.rename(columns={'costumer_lifetime': 'costumer_lifetime_final'})\n",
    "display(costumer_lifetime.head())"
   ]
  },
  {
   "cell_type": "code",
   "execution_count": 120,
   "metadata": {},
   "outputs": [
    {
     "data": {
      "text/plain": [
       "(42574, 16)"
      ]
     },
     "metadata": {},
     "output_type": "display_data"
    }
   ],
   "source": [
    "dataset = dataset.merge(costumer_lifetime, on=['user_id'], how='left')\n",
    "display(dataset.shape)"
   ]
  },
  {
   "cell_type": "code",
   "execution_count": 121,
   "metadata": {},
   "outputs": [
    {
     "data": {
      "text/html": [
       "<div>\n",
       "<style scoped>\n",
       "    .dataframe tbody tr th:only-of-type {\n",
       "        vertical-align: middle;\n",
       "    }\n",
       "\n",
       "    .dataframe tbody tr th {\n",
       "        vertical-align: top;\n",
       "    }\n",
       "\n",
       "    .dataframe thead th {\n",
       "        text-align: right;\n",
       "    }\n",
       "</style>\n",
       "<table border=\"1\" class=\"dataframe\">\n",
       "  <thead>\n",
       "    <tr style=\"text-align: right;\">\n",
       "      <th></th>\n",
       "      <th>user_id</th>\n",
       "      <th>date</th>\n",
       "      <th>direction</th>\n",
       "      <th>internal</th>\n",
       "      <th>operator_id</th>\n",
       "      <th>is_missed_call</th>\n",
       "      <th>calls_count</th>\n",
       "      <th>call_duration</th>\n",
       "      <th>total_call_duration</th>\n",
       "      <th>call_duration_per_call</th>\n",
       "      <th>total_call_duration_per_call</th>\n",
       "      <th>effectiveness: total</th>\n",
       "      <th>tariff_plan</th>\n",
       "      <th>date_start</th>\n",
       "      <th>costumer_lifetime</th>\n",
       "      <th>costumer_lifetime_final</th>\n",
       "    </tr>\n",
       "  </thead>\n",
       "  <tbody>\n",
       "    <tr>\n",
       "      <td>42569</td>\n",
       "      <td>168606</td>\n",
       "      <td>2019-11-07</td>\n",
       "      <td>in</td>\n",
       "      <td>False</td>\n",
       "      <td>957922</td>\n",
       "      <td>False</td>\n",
       "      <td>2</td>\n",
       "      <td>686</td>\n",
       "      <td>705</td>\n",
       "      <td>343.00</td>\n",
       "      <td>352.50</td>\n",
       "      <td>low</td>\n",
       "      <td>C</td>\n",
       "      <td>2019-10-31</td>\n",
       "      <td>7.0</td>\n",
       "      <td>10.0</td>\n",
       "    </tr>\n",
       "    <tr>\n",
       "      <td>42570</td>\n",
       "      <td>168606</td>\n",
       "      <td>2019-11-08</td>\n",
       "      <td>out</td>\n",
       "      <td>False</td>\n",
       "      <td>957922</td>\n",
       "      <td>False</td>\n",
       "      <td>4</td>\n",
       "      <td>551</td>\n",
       "      <td>593</td>\n",
       "      <td>137.75</td>\n",
       "      <td>148.25</td>\n",
       "      <td>low</td>\n",
       "      <td>C</td>\n",
       "      <td>2019-10-31</td>\n",
       "      <td>8.0</td>\n",
       "      <td>10.0</td>\n",
       "    </tr>\n",
       "    <tr>\n",
       "      <td>42571</td>\n",
       "      <td>168606</td>\n",
       "      <td>2019-11-09</td>\n",
       "      <td>out</td>\n",
       "      <td>True</td>\n",
       "      <td>957922</td>\n",
       "      <td>False</td>\n",
       "      <td>1</td>\n",
       "      <td>0</td>\n",
       "      <td>25</td>\n",
       "      <td>0.00</td>\n",
       "      <td>25.00</td>\n",
       "      <td>low</td>\n",
       "      <td>C</td>\n",
       "      <td>2019-10-31</td>\n",
       "      <td>9.0</td>\n",
       "      <td>10.0</td>\n",
       "    </tr>\n",
       "    <tr>\n",
       "      <td>42572</td>\n",
       "      <td>168606</td>\n",
       "      <td>2019-11-09</td>\n",
       "      <td>out</td>\n",
       "      <td>True</td>\n",
       "      <td>957922</td>\n",
       "      <td>True</td>\n",
       "      <td>1</td>\n",
       "      <td>0</td>\n",
       "      <td>38</td>\n",
       "      <td>0.00</td>\n",
       "      <td>38.00</td>\n",
       "      <td>low</td>\n",
       "      <td>C</td>\n",
       "      <td>2019-10-31</td>\n",
       "      <td>9.0</td>\n",
       "      <td>10.0</td>\n",
       "    </tr>\n",
       "    <tr>\n",
       "      <td>42573</td>\n",
       "      <td>168606</td>\n",
       "      <td>2019-11-10</td>\n",
       "      <td>out</td>\n",
       "      <td>True</td>\n",
       "      <td>957922</td>\n",
       "      <td>False</td>\n",
       "      <td>2</td>\n",
       "      <td>479</td>\n",
       "      <td>501</td>\n",
       "      <td>239.50</td>\n",
       "      <td>250.50</td>\n",
       "      <td>low</td>\n",
       "      <td>C</td>\n",
       "      <td>2019-10-31</td>\n",
       "      <td>10.0</td>\n",
       "      <td>10.0</td>\n",
       "    </tr>\n",
       "  </tbody>\n",
       "</table>\n",
       "</div>"
      ],
      "text/plain": [
       "       user_id       date direction internal  operator_id  is_missed_call  \\\n",
       "42569   168606 2019-11-07        in    False       957922           False   \n",
       "42570   168606 2019-11-08       out    False       957922           False   \n",
       "42571   168606 2019-11-09       out     True       957922           False   \n",
       "42572   168606 2019-11-09       out     True       957922            True   \n",
       "42573   168606 2019-11-10       out     True       957922           False   \n",
       "\n",
       "       calls_count  call_duration  total_call_duration  \\\n",
       "42569            2            686                  705   \n",
       "42570            4            551                  593   \n",
       "42571            1              0                   25   \n",
       "42572            1              0                   38   \n",
       "42573            2            479                  501   \n",
       "\n",
       "       call_duration_per_call  total_call_duration_per_call  \\\n",
       "42569                  343.00                        352.50   \n",
       "42570                  137.75                        148.25   \n",
       "42571                    0.00                         25.00   \n",
       "42572                    0.00                         38.00   \n",
       "42573                  239.50                        250.50   \n",
       "\n",
       "      effectiveness: total tariff_plan date_start  costumer_lifetime  \\\n",
       "42569                  low           C 2019-10-31                7.0   \n",
       "42570                  low           C 2019-10-31                8.0   \n",
       "42571                  low           C 2019-10-31                9.0   \n",
       "42572                  low           C 2019-10-31                9.0   \n",
       "42573                  low           C 2019-10-31               10.0   \n",
       "\n",
       "       costumer_lifetime_final  \n",
       "42569                     10.0  \n",
       "42570                     10.0  \n",
       "42571                     10.0  \n",
       "42572                     10.0  \n",
       "42573                     10.0  "
      ]
     },
     "execution_count": 121,
     "metadata": {},
     "output_type": "execute_result"
    }
   ],
   "source": [
    "dataset.tail(5)"
   ]
  },
  {
   "cell_type": "code",
   "execution_count": 122,
   "metadata": {},
   "outputs": [
    {
     "data": {
      "text/html": [
       "<div>\n",
       "<style scoped>\n",
       "    .dataframe tbody tr th:only-of-type {\n",
       "        vertical-align: middle;\n",
       "    }\n",
       "\n",
       "    .dataframe tbody tr th {\n",
       "        vertical-align: top;\n",
       "    }\n",
       "\n",
       "    .dataframe thead th {\n",
       "        text-align: right;\n",
       "    }\n",
       "</style>\n",
       "<table border=\"1\" class=\"dataframe\">\n",
       "  <thead>\n",
       "    <tr style=\"text-align: right;\">\n",
       "      <th></th>\n",
       "      <th>operator_id</th>\n",
       "      <th>effectiveness: total</th>\n",
       "      <th>costumer_lifetime_final</th>\n",
       "      <th>user_id</th>\n",
       "    </tr>\n",
       "  </thead>\n",
       "  <tbody>\n",
       "    <tr>\n",
       "      <td>0</td>\n",
       "      <td>880022</td>\n",
       "      <td>medium</td>\n",
       "      <td>118.0</td>\n",
       "      <td>166377</td>\n",
       "    </tr>\n",
       "    <tr>\n",
       "      <td>1</td>\n",
       "      <td>880020</td>\n",
       "      <td>medium</td>\n",
       "      <td>118.0</td>\n",
       "      <td>166377</td>\n",
       "    </tr>\n",
       "    <tr>\n",
       "      <td>6</td>\n",
       "      <td>881278</td>\n",
       "      <td>medium</td>\n",
       "      <td>118.0</td>\n",
       "      <td>166377</td>\n",
       "    </tr>\n",
       "    <tr>\n",
       "      <td>10</td>\n",
       "      <td>880028</td>\n",
       "      <td>high</td>\n",
       "      <td>118.0</td>\n",
       "      <td>166377</td>\n",
       "    </tr>\n",
       "    <tr>\n",
       "      <td>11</td>\n",
       "      <td>880026</td>\n",
       "      <td>high</td>\n",
       "      <td>118.0</td>\n",
       "      <td>166377</td>\n",
       "    </tr>\n",
       "  </tbody>\n",
       "</table>\n",
       "</div>"
      ],
      "text/plain": [
       "    operator_id effectiveness: total  costumer_lifetime_final  user_id\n",
       "0        880022               medium                    118.0   166377\n",
       "1        880020               medium                    118.0   166377\n",
       "6        881278               medium                    118.0   166377\n",
       "10       880028                 high                    118.0   166377\n",
       "11       880026                 high                    118.0   166377"
      ]
     },
     "metadata": {},
     "output_type": "display_data"
    }
   ],
   "source": [
    "table = dataset[['operator_id','effectiveness: total', 'costumer_lifetime_final', 'user_id']]\n",
    "table = table.drop_duplicates()\n",
    "display(table.head())"
   ]
  },
  {
   "cell_type": "code",
   "execution_count": 123,
   "metadata": {},
   "outputs": [
    {
     "data": {
      "text/html": [
       "<div>\n",
       "<style scoped>\n",
       "    .dataframe tbody tr th:only-of-type {\n",
       "        vertical-align: middle;\n",
       "    }\n",
       "\n",
       "    .dataframe tbody tr th {\n",
       "        vertical-align: top;\n",
       "    }\n",
       "\n",
       "    .dataframe thead th {\n",
       "        text-align: right;\n",
       "    }\n",
       "</style>\n",
       "<table border=\"1\" class=\"dataframe\">\n",
       "  <thead>\n",
       "    <tr style=\"text-align: right;\">\n",
       "      <th></th>\n",
       "      <th>effectiveness: total</th>\n",
       "      <th>costumer_lifetime_final</th>\n",
       "    </tr>\n",
       "  </thead>\n",
       "  <tbody>\n",
       "    <tr>\n",
       "      <td>0</td>\n",
       "      <td>medium</td>\n",
       "      <td>118.0</td>\n",
       "    </tr>\n",
       "    <tr>\n",
       "      <td>1</td>\n",
       "      <td>medium</td>\n",
       "      <td>118.0</td>\n",
       "    </tr>\n",
       "    <tr>\n",
       "      <td>6</td>\n",
       "      <td>medium</td>\n",
       "      <td>118.0</td>\n",
       "    </tr>\n",
       "    <tr>\n",
       "      <td>10</td>\n",
       "      <td>high</td>\n",
       "      <td>118.0</td>\n",
       "    </tr>\n",
       "    <tr>\n",
       "      <td>11</td>\n",
       "      <td>high</td>\n",
       "      <td>118.0</td>\n",
       "    </tr>\n",
       "  </tbody>\n",
       "</table>\n",
       "</div>"
      ],
      "text/plain": [
       "   effectiveness: total  costumer_lifetime_final\n",
       "0                medium                    118.0\n",
       "1                medium                    118.0\n",
       "6                medium                    118.0\n",
       "10                 high                    118.0\n",
       "11                 high                    118.0"
      ]
     },
     "metadata": {},
     "output_type": "display_data"
    }
   ],
   "source": [
    "table1 = table.drop(['operator_id', 'user_id'], axis = 1)\n",
    "display(table1.head())"
   ]
  },
  {
   "cell_type": "code",
   "execution_count": 124,
   "metadata": {},
   "outputs": [
    {
     "name": "stdout",
     "output_type": "stream",
     "text": [
      "effectiveness: medium\n"
     ]
    },
    {
     "data": {
      "image/png": "[encoded data removed]",
      "text/plain": [
       "<Figure size 432x288 with 1 Axes>"
      ]
     },
     "metadata": {
      "needs_background": "light"
     },
     "output_type": "display_data"
    },
    {
     "name": "stdout",
     "output_type": "stream",
     "text": [
      "effectiveness: high\n"
     ]
    },
    {
     "data": {
      "image/png": "[encoded data removed]",
      "text/plain": [
       "<Figure size 432x288 with 1 Axes>"
      ]
     },
     "metadata": {
      "needs_background": "light"
     },
     "output_type": "display_data"
    },
    {
     "name": "stdout",
     "output_type": "stream",
     "text": [
      "effectiveness: low\n"
     ]
    },
    {
     "data": {
      "image/png": "[encoded data removed]",
      "text/plain": [
       "<Figure size 432x288 with 1 Axes>"
      ]
     },
     "metadata": {
      "needs_background": "light"
     },
     "output_type": "display_data"
    }
   ],
   "source": [
    "for x in table1['effectiveness: total'].unique():\n",
    "    print(\"effectiveness:\", x)\n",
    "    table1[table1['effectiveness: total'] == x].plot.hist(alpha=0.5, bins=20)\n",
    "    plt.show()"
   ]
  },
  {
   "cell_type": "markdown",
   "metadata": {},
   "source": [
    "The distributions aren't normal."
   ]
  },
  {
   "cell_type": "code",
   "execution_count": 125,
   "metadata": {},
   "outputs": [
    {
     "data": {
      "text/html": [
       "<div>\n",
       "<style scoped>\n",
       "    .dataframe tbody tr th:only-of-type {\n",
       "        vertical-align: middle;\n",
       "    }\n",
       "\n",
       "    .dataframe tbody tr th {\n",
       "        vertical-align: top;\n",
       "    }\n",
       "\n",
       "    .dataframe thead th {\n",
       "        text-align: right;\n",
       "    }\n",
       "</style>\n",
       "<table border=\"1\" class=\"dataframe\">\n",
       "  <thead>\n",
       "    <tr style=\"text-align: right;\">\n",
       "      <th></th>\n",
       "      <th>effectiveness: total</th>\n",
       "      <th>costumer_lifetime_final</th>\n",
       "    </tr>\n",
       "  </thead>\n",
       "  <tbody>\n",
       "    <tr>\n",
       "      <td>0</td>\n",
       "      <td>high</td>\n",
       "      <td>56.256131</td>\n",
       "    </tr>\n",
       "    <tr>\n",
       "      <td>1</td>\n",
       "      <td>low</td>\n",
       "      <td>66.351171</td>\n",
       "    </tr>\n",
       "    <tr>\n",
       "      <td>2</td>\n",
       "      <td>medium</td>\n",
       "      <td>68.252381</td>\n",
       "    </tr>\n",
       "  </tbody>\n",
       "</table>\n",
       "</div>"
      ],
      "text/plain": [
       "  effectiveness: total  costumer_lifetime_final\n",
       "0                 high                56.256131\n",
       "1                  low                66.351171\n",
       "2               medium                68.252381"
      ]
     },
     "metadata": {},
     "output_type": "display_data"
    }
   ],
   "source": [
    "table1 = table1.groupby('effectiveness: total')['costumer_lifetime_final'].mean().reset_index()\n",
    "display(table1.head())"
   ]
  },
  {
   "cell_type": "markdown",
   "metadata": {},
   "source": [
    "Surprising results: the mean lifetime for customers of operators with high effectiveness is lower than any other group. Nevertheless, the mean lifetime for customers of operators with medium effectiveness is higher than the mean lifetime for customers of operators with low effectiveness. But we still need to check if the difference is significant:"
   ]
  },
  {
   "cell_type": "code",
   "execution_count": 126,
   "metadata": {},
   "outputs": [
    {
     "data": {
      "text/html": [
       "<div>\n",
       "<style scoped>\n",
       "    .dataframe tbody tr th:only-of-type {\n",
       "        vertical-align: middle;\n",
       "    }\n",
       "\n",
       "    .dataframe tbody tr th {\n",
       "        vertical-align: top;\n",
       "    }\n",
       "\n",
       "    .dataframe thead th {\n",
       "        text-align: right;\n",
       "    }\n",
       "</style>\n",
       "<table border=\"1\" class=\"dataframe\">\n",
       "  <thead>\n",
       "    <tr style=\"text-align: right;\">\n",
       "      <th></th>\n",
       "      <th>operator_id</th>\n",
       "      <th>effectiveness: total</th>\n",
       "      <th>costumer_lifetime_final</th>\n",
       "      <th>user_id</th>\n",
       "    </tr>\n",
       "  </thead>\n",
       "  <tbody>\n",
       "    <tr>\n",
       "      <td>0</td>\n",
       "      <td>880022</td>\n",
       "      <td>medium</td>\n",
       "      <td>118.0</td>\n",
       "      <td>166377</td>\n",
       "    </tr>\n",
       "    <tr>\n",
       "      <td>1</td>\n",
       "      <td>880020</td>\n",
       "      <td>medium</td>\n",
       "      <td>118.0</td>\n",
       "      <td>166377</td>\n",
       "    </tr>\n",
       "    <tr>\n",
       "      <td>6</td>\n",
       "      <td>881278</td>\n",
       "      <td>medium</td>\n",
       "      <td>118.0</td>\n",
       "      <td>166377</td>\n",
       "    </tr>\n",
       "    <tr>\n",
       "      <td>10</td>\n",
       "      <td>880028</td>\n",
       "      <td>high</td>\n",
       "      <td>118.0</td>\n",
       "      <td>166377</td>\n",
       "    </tr>\n",
       "    <tr>\n",
       "      <td>11</td>\n",
       "      <td>880026</td>\n",
       "      <td>high</td>\n",
       "      <td>118.0</td>\n",
       "      <td>166377</td>\n",
       "    </tr>\n",
       "  </tbody>\n",
       "</table>\n",
       "</div>"
      ],
      "text/plain": [
       "    operator_id effectiveness: total  costumer_lifetime_final  user_id\n",
       "0        880022               medium                    118.0   166377\n",
       "1        880020               medium                    118.0   166377\n",
       "6        881278               medium                    118.0   166377\n",
       "10       880028                 high                    118.0   166377\n",
       "11       880026                 high                    118.0   166377"
      ]
     },
     "execution_count": 126,
     "metadata": {},
     "output_type": "execute_result"
    }
   ],
   "source": [
    "table.head()"
   ]
  },
  {
   "cell_type": "code",
   "execution_count": 127,
   "metadata": {},
   "outputs": [],
   "source": [
    "sample_A = table[table['effectiveness: total']=='high']['costumer_lifetime_final']\n",
    "sample_B = table[table['effectiveness: total']=='medium']['costumer_lifetime_final']\n",
    "sample_C = table[table['effectiveness: total']=='low']['costumer_lifetime_final']"
   ]
  },
  {
   "cell_type": "code",
   "execution_count": 128,
   "metadata": {},
   "outputs": [],
   "source": [
    "def check_hypothesis_mannwhitneyu(group1, group2, alpha = 0.05):\n",
    "    results = st.mannwhitneyu(group1, group2)\n",
    "    print('p-value: ', results.pvalue)\n",
    "    if (results.pvalue < alpha):\n",
    "        print(\"Null hypothesis rejected: the difference is statistically significant\")\n",
    "    else:\n",
    "        print(\"Failed to reject the null hypothesis: we can't make conclusions about the difference\") "
   ]
  },
  {
   "cell_type": "code",
   "execution_count": 129,
   "metadata": {},
   "outputs": [
    {
     "name": "stdout",
     "output_type": "stream",
     "text": [
      "p-value:  6.171404983358988e-11\n",
      "Null hypothesis rejected: the difference is statistically significant\n",
      "p-value:  0.25540051297155847\n",
      "Failed to reject the null hypothesis: we can't make conclusions about the difference\n",
      "p-value:  1.6962890939370386e-07\n",
      "Null hypothesis rejected: the difference is statistically significant\n"
     ]
    }
   ],
   "source": [
    "check_hypothesis_mannwhitneyu(sample_A, sample_B, alpha = 0.05) \n",
    "check_hypothesis_mannwhitneyu(sample_B, sample_C, alpha = 0.05) \n",
    "check_hypothesis_mannwhitneyu(sample_A, sample_C, alpha = 0.05) "
   ]
  },
  {
   "cell_type": "markdown",
   "metadata": {},
   "source": [
    "The Null hypothesis, that the mean lifetime of customers of ineffective operators is the same as the mean lifetime of customers of effective operators, was rejected for high&mediumn effectiveness groups, and for high&low effectiveness groups. \n",
    "The Null hypothesis wasn't regected for low&mediumn effectiveness groups.\n",
    "That means that we can say that there are significant differences in the mean lifetime between groups high&mediumn and high&low, but we can't say there is significant difference between groups medium&low. \n",
    "My concern came true, the mean lifetime of customers of ineffective operators (\"low\" group and even \"medium\" group) is  higher than the mean lifetime of customers of effective operators (\"high\" group). "
   ]
  },
  {
   "cell_type": "markdown",
   "metadata": {},
   "source": [
    "<a id=\"20\"></a>\n",
    "## Conclusion and recomedations"
   ]
  },
  {
   "cell_type": "markdown",
   "metadata": {},
   "source": [
    "In this project I tried to identify ineffective operators. I divided the operators into 3 groups of effectiveness: high, medium and low, base on their missed incoming calls number, waiting time for incoming calls and number of outgoing calls (only for the operators that are supposed to make outgoing calls).\n",
    "In the second part I conducted statistical tests to check if my identification is valid, and the differendes between the groups are significant. The differences between the groups were indeed significant.\n",
    "Then I tested my final hypothesis, that the mean lifetime of customers of ineffective operators is the same as the mean lifetime of customers of effective operators. The results were significant and shocking: the mean lifetime of customers of ineffective operators (\"low effectiveness\" group and even \"medium effectiveness\" group) is  higher than the mean lifetime of customers of effective operators (\"high effectiveness\" group).\n",
    "The results do not make sense, unless the risky customers classified somehow to the effective operators, in order to encourage  them to stay. \n",
    "In conclusion, I managed to identify the ineffective operators but I could not prove that ineffective operators make customer leave sooner."
   ]
  },
  {
   "cell_type": "markdown",
   "metadata": {},
   "source": [
    "<a id=\"21\"></a>\n",
    "# Dashboard"
   ]
  },
  {
   "cell_type": "markdown",
   "metadata": {},
   "source": [
    "https://public.tableau.com/profile/avital6640#!/vizhome/FinalProject_16174541210690/Dashboard?publish=yes"
   ]
  },
  {
   "cell_type": "markdown",
   "metadata": {},
   "source": [
    "<a id=\"23\"></a>\n",
    "# Presentation"
   ]
  },
  {
   "cell_type": "markdown",
   "metadata": {},
   "source": [
    "https://drive.google.com/file/d/1JWXEJqqsDv91aUYZXbmBQxAeOVaBsIyJ/view?usp=sharing"
   ]
  }
 ],
 "metadata": {
  "kernelspec": {
   "display_name": "Python 3",
   "language": "python",
   "name": "python3"
  },
  "language_info": {
   "codemirror_mode": {
    "name": "ipython",
    "version": 3
   },
   "file_extension": ".py",
   "mimetype": "text/x-python",
   "name": "python",
   "nbconvert_exporter": "python",
   "pygments_lexer": "ipython3",
   "version": "3.8.5"
  },
  "toc": {
   "base_numbering": 1,
   "nav_menu": {},
   "number_sections": true,
   "sideBar": true,
   "skip_h1_title": true,
   "title_cell": "Table of Contents",
   "title_sidebar": "Contents",
   "toc_cell": false,
   "toc_position": {},
   "toc_section_display": true,
   "toc_window_display": false
  }
 },
 "nbformat": 4,
 "nbformat_minor": 2
}
